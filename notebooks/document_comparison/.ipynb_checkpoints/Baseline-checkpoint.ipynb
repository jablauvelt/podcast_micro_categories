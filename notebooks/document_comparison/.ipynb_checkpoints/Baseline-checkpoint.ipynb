{
 "cells": [
  {
   "cell_type": "raw",
   "metadata": {},
   "source": [
    "Baseline.ipynb\n",
    "Michael Rubin\n",
    "W266 Spring 2017\n",
    "\n",
    "Intention:\n",
    "Prepare the raw data, tokenize with a CountVecrtorizer, \n",
    "then run a KNN classifier and establish a baseline score"
   ]
  },
  {
   "cell_type": "code",
   "execution_count": 1,
   "metadata": {
    "collapsed": false
   },
   "outputs": [],
   "source": [
    "# General libraries.\n",
    "import numpy as np\n",
    "import pandas as pd\n",
    "import feather\n",
    "import time\n",
    "from __future__ import division\n",
    "\n",
    "# SK-learn libraries for learning\n",
    "from sklearn.pipeline import Pipeline\n",
    "from sklearn.neighbors import KNeighborsClassifier\n",
    "from sklearn.linear_model import LogisticRegression\n",
    "from sklearn.naive_bayes import BernoulliNB\n",
    "from sklearn.naive_bayes import MultinomialNB\n",
    "from sklearn.grid_search import GridSearchCV\n",
    "\n",
    "# SK-learn libraries for evaluation\n",
    "from sklearn.metrics import confusion_matrix\n",
    "from sklearn import metrics\n",
    "from sklearn.metrics import classification_report\n",
    "\n",
    "# SK-learn libraries for feature extraction from text\n",
    "from sklearn.feature_extraction.text import *\n",
    "from sklearn.cross_validation import train_test_split"
   ]
  },
  {
   "cell_type": "code",
   "execution_count": 12,
   "metadata": {
    "collapsed": false,
    "scrolled": true
   },
   "outputs": [
    {
     "name": "stdout",
     "output_type": "stream",
     "text": [
      "(107340, 5)\n",
      "(1241, 18)\n"
     ]
    },
    {
     "data": {
      "text/html": [
       "<div>\n",
       "<table border=\"1\" class=\"dataframe\">\n",
       "  <thead>\n",
       "    <tr style=\"text-align: right;\">\n",
       "      <th></th>\n",
       "      <th>description</th>\n",
       "      <th>podcast_name</th>\n",
       "      <th>release_date</th>\n",
       "      <th>title</th>\n",
       "      <th>subgenre</th>\n",
       "    </tr>\n",
       "  </thead>\n",
       "  <tbody>\n",
       "    <tr>\n",
       "      <th>0</th>\n",
       "      <td>Corey and RC are moving up to the 'Big Show' a...</td>\n",
       "      <td>Layers TV</td>\n",
       "      <td>Sep 29, 2010</td>\n",
       "      <td>Episode 148: Final Episode</td>\n",
       "      <td>Software How-To</td>\n",
       "    </tr>\n",
       "    <tr>\n",
       "      <th>1</th>\n",
       "      <td>Corey designs an image composite utilizing mas...</td>\n",
       "      <td>Layers TV</td>\n",
       "      <td>Sep 23, 2010</td>\n",
       "      <td>Episode 147</td>\n",
       "      <td>Software How-To</td>\n",
       "    </tr>\n",
       "    <tr>\n",
       "      <th>2</th>\n",
       "      <td>RC opens up Fireworks and talks about layout d...</td>\n",
       "      <td>Layers TV</td>\n",
       "      <td>Sep 15, 2010</td>\n",
       "      <td>Episode 146</td>\n",
       "      <td>Software How-To</td>\n",
       "    </tr>\n",
       "    <tr>\n",
       "      <th>3</th>\n",
       "      <td>RC experiments with the new divide blend mode ...</td>\n",
       "      <td>Layers TV</td>\n",
       "      <td>Sep 02, 2010</td>\n",
       "      <td>Episode 145</td>\n",
       "      <td>Software How-To</td>\n",
       "    </tr>\n",
       "    <tr>\n",
       "      <th>4</th>\n",
       "      <td>Corey expands on his tutorial from last week, ...</td>\n",
       "      <td>Layers TV</td>\n",
       "      <td>Aug 25, 2010</td>\n",
       "      <td>Episode 144</td>\n",
       "      <td>Software How-To</td>\n",
       "    </tr>\n",
       "  </tbody>\n",
       "</table>\n",
       "</div>"
      ],
      "text/plain": [
       "                                         description podcast_name  \\\n",
       "0  Corey and RC are moving up to the 'Big Show' a...    Layers TV   \n",
       "1  Corey designs an image composite utilizing mas...    Layers TV   \n",
       "2  RC opens up Fireworks and talks about layout d...    Layers TV   \n",
       "3  RC experiments with the new divide blend mode ...    Layers TV   \n",
       "4  Corey expands on his tutorial from last week, ...    Layers TV   \n",
       "\n",
       "   release_date                       title         subgenre  \n",
       "0  Sep 29, 2010  Episode 148: Final Episode  Software How-To  \n",
       "1  Sep 23, 2010                 Episode 147  Software How-To  \n",
       "2  Sep 15, 2010                 Episode 146  Software How-To  \n",
       "3  Sep 02, 2010                 Episode 145  Software How-To  \n",
       "4  Aug 25, 2010                 Episode 144  Software How-To  "
      ]
     },
     "execution_count": 12,
     "metadata": {},
     "output_type": "execute_result"
    }
   ],
   "source": [
    "#eps_path = '../interim/eps.feather' \n",
    "#pods_path = '../interim/pods.feather'\n",
    "\n",
    "eps_path = '../interim/eps_samp.feather' \n",
    "pods_path = '../interim/pods_samp.feather'\n",
    "\n",
    "eps_df = feather.read_dataframe(eps_path)\n",
    "pods_df = feather.read_dataframe(pods_path)\n",
    "\n",
    "print(eps_df.shape)\n",
    "print(pods_df.shape)\n",
    "\n",
    "eps_df.head(5)"
   ]
  },
  {
   "cell_type": "code",
   "execution_count": 11,
   "metadata": {
    "collapsed": false
   },
   "outputs": [
    {
     "data": {
      "text/html": [
       "<div>\n",
       "<table border=\"1\" class=\"dataframe\">\n",
       "  <thead>\n",
       "    <tr style=\"text-align: right;\">\n",
       "      <th></th>\n",
       "      <th>description</th>\n",
       "      <th>podcast_name</th>\n",
       "      <th>release_date</th>\n",
       "      <th>title</th>\n",
       "      <th>subgenre</th>\n",
       "    </tr>\n",
       "  </thead>\n",
       "  <tbody>\n",
       "    <tr>\n",
       "      <th>0</th>\n",
       "      <td>Corey and RC are moving up to the 'Big Show' a...</td>\n",
       "      <td>Layers TV</td>\n",
       "      <td>Sep 29, 2010</td>\n",
       "      <td>Episode 148: Final Episode</td>\n",
       "      <td>Software How-To</td>\n",
       "    </tr>\n",
       "    <tr>\n",
       "      <th>1</th>\n",
       "      <td>Corey designs an image composite utilizing mas...</td>\n",
       "      <td>Layers TV</td>\n",
       "      <td>Sep 23, 2010</td>\n",
       "      <td>Episode 147</td>\n",
       "      <td>Software How-To</td>\n",
       "    </tr>\n",
       "    <tr>\n",
       "      <th>2</th>\n",
       "      <td>RC opens up Fireworks and talks about layout d...</td>\n",
       "      <td>Layers TV</td>\n",
       "      <td>Sep 15, 2010</td>\n",
       "      <td>Episode 146</td>\n",
       "      <td>Software How-To</td>\n",
       "    </tr>\n",
       "    <tr>\n",
       "      <th>3</th>\n",
       "      <td>RC experiments with the new divide blend mode ...</td>\n",
       "      <td>Layers TV</td>\n",
       "      <td>Sep 02, 2010</td>\n",
       "      <td>Episode 145</td>\n",
       "      <td>Software How-To</td>\n",
       "    </tr>\n",
       "    <tr>\n",
       "      <th>4</th>\n",
       "      <td>Corey expands on his tutorial from last week, ...</td>\n",
       "      <td>Layers TV</td>\n",
       "      <td>Aug 25, 2010</td>\n",
       "      <td>Episode 144</td>\n",
       "      <td>Software How-To</td>\n",
       "    </tr>\n",
       "  </tbody>\n",
       "</table>\n",
       "</div>"
      ],
      "text/plain": [
       "                                         description podcast_name  \\\n",
       "0  Corey and RC are moving up to the 'Big Show' a...    Layers TV   \n",
       "1  Corey designs an image composite utilizing mas...    Layers TV   \n",
       "2  RC opens up Fireworks and talks about layout d...    Layers TV   \n",
       "3  RC experiments with the new divide blend mode ...    Layers TV   \n",
       "4  Corey expands on his tutorial from last week, ...    Layers TV   \n",
       "\n",
       "   release_date                       title         subgenre  \n",
       "0  Sep 29, 2010  Episode 148: Final Episode  Software How-To  \n",
       "1  Sep 23, 2010                 Episode 147  Software How-To  \n",
       "2  Sep 15, 2010                 Episode 146  Software How-To  \n",
       "3  Sep 02, 2010                 Episode 145  Software How-To  \n",
       "4  Aug 25, 2010                 Episode 144  Software How-To  "
      ]
     },
     "execution_count": 11,
     "metadata": {},
     "output_type": "execute_result"
    }
   ],
   "source": [
    "eps_df.head(5)"
   ]
  },
  {
   "cell_type": "code",
   "execution_count": 4,
   "metadata": {
    "collapsed": false
   },
   "outputs": [
    {
     "name": "stdout",
     "output_type": "stream",
     "text": [
      "18420 / 107340 episodes removed because len() < 100\n",
      "1166 unique podcasts with concatenated descriptions\n"
     ]
    }
   ],
   "source": [
    "min_desc_length = 100\n",
    "\n",
    "comb_eps = eps_df[(eps_df['description'].str.len() > min_desc_length) & (~eps_df['description'].isnull())]\n",
    "print('%d / %d episodes removed because len() < %d' % (eps_df.shape[0] - comb_eps.shape[0], eps_df.shape[0], min_desc_length))\n",
    "\n",
    "comb_eps = comb_eps.groupby(['podcast_name' , 'subgenre']).apply(lambda x: ' '.join(x['description']))\n",
    "comb_eps = comb_eps.reset_index()\n",
    "comb_eps.columns = ['podcast_name', 'subgenre', 'comb_desc']\n",
    "print(\"%d unique podcasts with concatenated descriptions\" % comb_eps.shape[0])"
   ]
  },
  {
   "cell_type": "code",
   "execution_count": 5,
   "metadata": {
    "collapsed": false
   },
   "outputs": [
    {
     "name": "stdout",
     "output_type": "stream",
     "text": [
      "('x_all shape:', (1049,))\n",
      "('y_all shape:', (1049,))\n",
      "('x_test shape:', (117,))\n",
      "('y_test shape:', (117,))\n"
     ]
    }
   ],
   "source": [
    "# reserve 10% for test data\n",
    "x_all, x_test, y_all, y_test = train_test_split(comb_eps['comb_desc'], comb_eps['subgenre'], test_size=0.1, random_state=np.random.RandomState())\n",
    "\n",
    "print(\"x_all shape:\", x_all.shape)\n",
    "print(\"y_all shape:\", y_all.shape)\n",
    "print(\"x_test shape:\", x_test.shape)\n",
    "print(\"y_test shape:\", y_test.shape)"
   ]
  },
  {
   "cell_type": "code",
   "execution_count": 6,
   "metadata": {
    "collapsed": false
   },
   "outputs": [
    {
     "name": "stdout",
     "output_type": "stream",
     "text": [
      "test:   (117,) (117,)\n",
      "dev:    (263,) (263,)\n",
      "train:  (786,) (786,)\n"
     ]
    }
   ],
   "source": [
    "# split the rest .75/.25 as train/dev\n",
    "\n",
    "def random_test_train():\n",
    "    x_train, x_dev, y_train, y_dev = train_test_split(x_all, y_all, test_size=0.25, random_state=np.random.RandomState())\n",
    "\n",
    "    print \"test:  \", x_test.shape, y_test.shape\n",
    "    print \"dev:   \", x_dev.shape, y_dev.shape\n",
    "    print \"train: \", x_train.shape, y_train.shape\n",
    "    return x_train, x_dev, y_train, y_dev\n",
    "\n",
    "x_train, x_dev, y_train, y_dev = random_test_train()"
   ]
  },
  {
   "cell_type": "code",
   "execution_count": 7,
   "metadata": {
    "collapsed": false
   },
   "outputs": [
    {
     "name": "stdout",
     "output_type": "stream",
     "text": [
      "Score for dev_data:\n",
      "---------------------------------------------\n",
      "Score for 1 neighbors: 0.0494, matches:13\n",
      "Score for 2 neighbors: 0.0684, matches:18\n",
      "Score for 3 neighbors: 0.0494, matches:13\n",
      "Score for 4 neighbors: 0.0608, matches:16\n",
      "Score for 5 neighbors: 0.0570, matches:15\n",
      "Score for 7 neighbors: 0.0570, matches:15\n",
      "Score for 10 neighbors: 0.0456, matches:12\n",
      "Score for 15 neighbors: 0.0418, matches:11\n",
      "Score for 20 neighbors: 0.0304, matches:8\n",
      "Score for 25 neighbors: 0.0380, matches:10\n",
      "Score for 30 neighbors: 0.0266, matches:7\n",
      "Score for 50 neighbors: 0.0266, matches:7\n"
     ]
    }
   ],
   "source": [
    "# vectorize the train and dev data\n",
    "count_vect = CountVectorizer()\n",
    "x_train_counts = count_vect.fit_transform(x_train)\n",
    "x_dev_vectors = count_vect.transform(x_dev)\n",
    "\n",
    "print 'Score for dev_data:\\n%s' % ('-'*45)\n",
    "\n",
    "n_neighbors_list = [1, 2, 3, 4, 5, 7, 10, 15, 20, 25, 30, 50]\n",
    "\n",
    "for n in n_neighbors_list:\n",
    "    clf = KNeighborsClassifier(n_neighbors=n)\n",
    "    clf.fit(x_train_counts, y_train)\n",
    "\n",
    "    predictions = clf.predict( x_dev_vectors )\n",
    "    cnt = np.sum(predictions == y_dev)\n",
    "\n",
    "    print 'Score for %d neighbors: %3.4f, matches:%d' % ( n, clf.score(x_dev_vectors , y_dev), cnt )\n"
   ]
  },
  {
   "cell_type": "code",
   "execution_count": null,
   "metadata": {
    "collapsed": true
   },
   "outputs": [],
   "source": []
  },
  {
   "cell_type": "code",
   "execution_count": null,
   "metadata": {
    "collapsed": true
   },
   "outputs": [],
   "source": []
  }
 ],
 "metadata": {
  "anaconda-cloud": {},
  "kernelspec": {
   "display_name": "Python [conda root]",
   "language": "python",
   "name": "conda-root-py"
  },
  "language_info": {
   "codemirror_mode": {
    "name": "ipython",
    "version": 2
   },
   "file_extension": ".py",
   "mimetype": "text/x-python",
   "name": "python",
   "nbconvert_exporter": "python",
   "pygments_lexer": "ipython2",
   "version": "2.7.12"
  }
 },
 "nbformat": 4,
 "nbformat_minor": 1
}
