{
 "cells": [
  {
   "cell_type": "markdown",
   "metadata": {},
   "source": [
    "# Podcast Micro-Categories\n",
    "### Exploratory Notebook\n",
    "### Unsupervised LDA"
   ]
  },
  {
   "cell_type": "code",
   "execution_count": 65,
   "metadata": {
    "collapsed": true
   },
   "outputs": [],
   "source": [
    "from __future__ import print_function\n",
    "from __future__ import division\n",
    "\n",
    "import gc\n",
    "import os\n",
    "import time\n",
    "\n",
    "import numpy as np\n",
    "import pandas as pd\n",
    "import scipy\n",
    "\n",
    "import lda\n",
    "\n",
    "import re\n",
    "\n",
    "from sklearn.externals import joblib\n"
   ]
  },
  {
   "cell_type": "code",
   "execution_count": 67,
   "metadata": {
    "collapsed": true
   },
   "outputs": [],
   "source": [
    "samp = False\n",
    "samp = '_samp' if samp else ''"
   ]
  },
  {
   "cell_type": "markdown",
   "metadata": {},
   "source": [
    "# I. Load"
   ]
  },
  {
   "cell_type": "markdown",
   "metadata": {},
   "source": [
    "### A. Load Files"
   ]
  },
  {
   "cell_type": "code",
   "execution_count": null,
   "metadata": {
    "collapsed": true
   },
   "outputs": [],
   "source": [
    "# Define scenario number (s[1-6])\n",
    "scenario = 's4'"
   ]
  },
  {
   "cell_type": "code",
   "execution_count": 137,
   "metadata": {
    "collapsed": false
   },
   "outputs": [
    {
     "name": "stdout",
     "output_type": "stream",
     "text": [
      "Episode Term Document Matrix Shape: 11,795 shows x  363,136 features\n",
      "Episode Table Shape: 11,795 shows x  2 columns (show name and concatenated description)\n"
     ]
    }
   ],
   "source": [
    "# 1. Load TDM\n",
    "loader = np.load('../interim/' + scenario + '_tdm' + samp + '.npz')\n",
    "tdm = scipy.sparse.csr_matrix((loader['data'], loader['indices'], loader['indptr']),\n",
    "                      shape=loader['shape'])\n",
    "\n",
    "# 2. Load feature names\n",
    "feature_names = np.array(pd.read_pickle('../interim/' + scenario + '_names' + samp + '.p'))\n",
    "\n",
    "# 3. Load show names and subgenres that still remain\n",
    "shows_concat = pd.read_pickle('../interim/' + scenario + '_shows_concat' + samp + '.p')\n",
    "\n",
    "# 4. Load full show table so that summaries can be pulled in\n",
    "shows_full = pd.read_pickle('../interim/pods' + samp + '.p')\n",
    "\n",
    "# 5. Print shapes and check assertions\n",
    "print(\"Episode Term Document Matrix Shape: {:,} shows x  {:,} features\".format(tdm.shape[0], tdm.shape[1]))\n",
    "print(\"Episode Table Shape: {:,} shows x  {:,} columns (show name and concatenated description)\".format(shows_concat.shape[0], shows_concat.shape[1]))\n",
    "assert tdm.shape[0] == shows_concat.shape[0]\n",
    "assert len(feature_names) == tdm.shape[1]"
   ]
  },
  {
   "cell_type": "markdown",
   "metadata": {},
   "source": [
    "### B. Remove duplicates "
   ]
  },
  {
   "cell_type": "code",
   "execution_count": 69,
   "metadata": {
    "collapsed": false
   },
   "outputs": [
    {
     "name": "stdout",
     "output_type": "stream",
     "text": [
      "Number of dupes removed:  (151, 18)\n",
      "Number of shows remaining:  (12319, 18)\n"
     ]
    }
   ],
   "source": [
    "# Remove duplicates from full show list (need to handle these earlier on in other scripts)\n",
    "dupes = shows_full.groupby(['podcast_name', 'subgenre']).filter(lambda group: len(group) > 1).sort('podcast_name')\n",
    "print(\"Number of dupes removed: \", dupes.shape)\n",
    "shows_full = shows_full.drop_duplicates(['podcast_name', 'subgenre'])\n",
    "print(\"Number of shows remaining: \", shows_full.shape)"
   ]
  },
  {
   "cell_type": "markdown",
   "metadata": {},
   "source": [
    "### C. Join features from full show table to de-duplicated shows"
   ]
  },
  {
   "cell_type": "code",
   "execution_count": 70,
   "metadata": {
    "collapsed": false
   },
   "outputs": [
    {
     "name": "stdout",
     "output_type": "stream",
     "text": [
      "(12319, 18)\n",
      "(11795, 2)\n",
      "(11795, 3)\n"
     ]
    },
    {
     "data": {
      "text/html": [
       "<div>\n",
       "<table border=\"1\" class=\"dataframe\">\n",
       "  <thead>\n",
       "    <tr style=\"text-align: right;\">\n",
       "      <th></th>\n",
       "      <th>podcast_name</th>\n",
       "      <th>subgenre</th>\n",
       "      <th>show_desc</th>\n",
       "    </tr>\n",
       "  </thead>\n",
       "  <tbody>\n",
       "    <tr>\n",
       "      <th>0</th>\n",
       "      <td>! Football Ringtones, Text Tones, Mail Alerts ...</td>\n",
       "      <td>College &amp; High School</td>\n",
       "      <td>Get FREE RINGTONES when you subscribe! Footbal...</td>\n",
       "    </tr>\n",
       "    <tr>\n",
       "      <th>1</th>\n",
       "      <td>! World's Funniest Ringtones for iPhone &amp; iPad...</td>\n",
       "      <td>Gadgets</td>\n",
       "      <td>Get FREE RINGTONES when you subscribe to The W...</td>\n",
       "    </tr>\n",
       "    <tr>\n",
       "      <th>2</th>\n",
       "      <td>! iPhone Ringtones</td>\n",
       "      <td>Video Games</td>\n",
       "      <td>Get FREE RINGTONES when you subscribe! The Wor...</td>\n",
       "    </tr>\n",
       "    <tr>\n",
       "      <th>3</th>\n",
       "      <td>\" Talk to Tony - Radio Show \" Licensed Psychol...</td>\n",
       "      <td>Social Sciences</td>\n",
       "      <td>Dr. Tony Ferretti offers a psychological persp...</td>\n",
       "    </tr>\n",
       "    <tr>\n",
       "      <th>4</th>\n",
       "      <td>\"A Tale of Two Cities\" Audiobook (Audio book)</td>\n",
       "      <td>Literature</td>\n",
       "      <td>\"A Tale of Two Cities\" was first published in ...</td>\n",
       "    </tr>\n",
       "  </tbody>\n",
       "</table>\n",
       "</div>"
      ],
      "text/plain": [
       "                                        podcast_name               subgenre  \\\n",
       "0  ! Football Ringtones, Text Tones, Mail Alerts ...  College & High School   \n",
       "1  ! World's Funniest Ringtones for iPhone & iPad...                Gadgets   \n",
       "2                                 ! iPhone Ringtones            Video Games   \n",
       "3  \" Talk to Tony - Radio Show \" Licensed Psychol...        Social Sciences   \n",
       "4      \"A Tale of Two Cities\" Audiobook (Audio book)             Literature   \n",
       "\n",
       "                                           show_desc  \n",
       "0  Get FREE RINGTONES when you subscribe! Footbal...  \n",
       "1  Get FREE RINGTONES when you subscribe to The W...  \n",
       "2  Get FREE RINGTONES when you subscribe! The Wor...  \n",
       "3  Dr. Tony Ferretti offers a psychological persp...  \n",
       "4  \"A Tale of Two Cities\" was first published in ...  "
      ]
     },
     "execution_count": 70,
     "metadata": {},
     "output_type": "execute_result"
    }
   ],
   "source": [
    "# Join data from full show table to list of shows in the model\n",
    "\n",
    "print(shows_full.shape)\n",
    "print(shows_concat.shape)\n",
    "\n",
    "shows = pd.merge(shows_concat, shows_full[['podcast_name', 'subgenre', 'show_desc']], \n",
    "                 on = ['podcast_name', 'subgenre'], how='left', sort=False)\n",
    "print(shows.shape)\n",
    "assert shows.shape[0] == shows_concat.shape[0]\n",
    "shows.head()"
   ]
  },
  {
   "cell_type": "markdown",
   "metadata": {},
   "source": [
    "# II. Filter"
   ]
  },
  {
   "cell_type": "markdown",
   "metadata": {},
   "source": [
    "### A. Remove shows with no words in the vocab"
   ]
  },
  {
   "cell_type": "code",
   "execution_count": 132,
   "metadata": {
    "collapsed": false
   },
   "outputs": [
    {
     "name": "stdout",
     "output_type": "stream",
     "text": [
      "Number of shows with no words in the vocabulary:  0\n"
     ]
    }
   ],
   "source": [
    "# Identify show that have no words in the vocabulary\n",
    "row_sums = np.array(tdm.sum(axis=1)).flatten() # sum tdm counts across rows (across shows)\n",
    "\n",
    "print(\"Number of shows with no words in the vocabulary: \", \n",
    "      shows.ix[np.where(row_sums == 0)[0],:].shape[0]) "
   ]
  },
  {
   "cell_type": "code",
   "execution_count": 74,
   "metadata": {
    "collapsed": false
   },
   "outputs": [
    {
     "name": "stdout",
     "output_type": "stream",
     "text": [
      "(11738, 3)\n",
      "(11738, 363136)\n"
     ]
    }
   ],
   "source": [
    "# Remove shows with no words in the vocabulary, from both the original shows table\n",
    "# and the TDM\n",
    "shows = shows.ix[np.where(row_sums > 0)[0],:]\n",
    "tdm = tdm[np.where(row_sums > 0)[0],:]\n",
    "print(shows.shape)\n",
    "print(tdm.shape)\n",
    "assert shows.shape[0] == tdm.shape[0]"
   ]
  },
  {
   "cell_type": "markdown",
   "metadata": {},
   "source": [
    "# III. Train LDA Model"
   ]
  },
  {
   "cell_type": "code",
   "execution_count": 75,
   "metadata": {
    "collapsed": false
   },
   "outputs": [
    {
     "name": "stdout",
     "output_type": "stream",
     "text": [
      "Wall time: 21min 44s\n"
     ]
    },
    {
     "data": {
      "text/plain": [
       "<lda.lda.LDA instance at 0x000000001CDAFB88>"
      ]
     },
     "execution_count": 75,
     "metadata": {},
     "output_type": "execute_result"
    }
   ],
   "source": [
    "# Create model\n",
    "model = lda.LDA(n_topics=56, n_iter=75, random_state=42)\n",
    "\n",
    "# Fit model (takes about 20 minutes for 75 iterations\n",
    "%time model.fit(tdm)"
   ]
  },
  {
   "cell_type": "code",
   "execution_count": 76,
   "metadata": {
    "collapsed": false
   },
   "outputs": [
    {
     "data": {
      "text/plain": [
       "['../interim/trained_models/lda/lda_s4.pkl',\n",
       " '../interim/trained_models/lda/lda_s4.pkl_01.npy',\n",
       " '../interim/trained_models/lda/lda_s4.pkl_02.npy',\n",
       " '../interim/trained_models/lda/lda_s4.pkl_03.npy',\n",
       " '../interim/trained_models/lda/lda_s4.pkl_04.npy',\n",
       " '../interim/trained_models/lda/lda_s4.pkl_05.npy',\n",
       " '../interim/trained_models/lda/lda_s4.pkl_06.npy',\n",
       " '../interim/trained_models/lda/lda_s4.pkl_07.npy']"
      ]
     },
     "execution_count": 76,
     "metadata": {},
     "output_type": "execute_result"
    }
   ],
   "source": [
    "# (Save/Load model pickle object as needed)\n",
    "# Pickle model\n",
    "joblib.dump(model, '../interim/trained_models/lda/lda_' + scenario + samp + '.pkl')\n"
   ]
  },
  {
   "cell_type": "markdown",
   "metadata": {},
   "source": [
    "# IV. Exploration"
   ]
  },
  {
   "cell_type": "markdown",
   "metadata": {},
   "source": [
    "## A. Model Words"
   ]
  },
  {
   "cell_type": "code",
   "execution_count": 77,
   "metadata": {
    "collapsed": false
   },
   "outputs": [
    {
     "name": "stdout",
     "output_type": "stream",
     "text": [
      "(56L, 363136L)\n",
      "Topic 0:  open source - vice president - law school - best practice - big data - web site\n",
      "Topic 1:  running time - information visit - fly fishing - game throne - happy hour - book club\n",
      "Topic 2:  facebook group - make money - youll learn - online business - resource mentioned - email list\n",
      "Topic 3:  fantasy football - radio network - day trial - get first - blue apron - first order\n",
      "Topic 4:  research practice - bible church - god word - solar system - truth god - bible teaching\n",
      "Topic 5:  false false - style definition - definition tablemsonormaltable - msostylename table - msostylenoshow yes - tablemsonormaltable msostylename\n",
      "Topic 6:  google play - content marketing - internet marketing - key point - tunein radio - domain name\n",
      "Topic 7:  help show - dot com - walking dead - please consider - gmail dot - theme song\n",
      "Topic 8:  please leave - de la - help people - show please - youre going - dont miss\n",
      "Topic 9:  week show - week talk - show week - live show - new show - joining u\n",
      "Topic 10:  law attraction - life coach - bestselling author - guided meditation - change life - web site\n",
      "Topic 11:  la vega - pop culture - video game - nt forget - tweet u - topic include\n",
      "Topic 12:  wa going - dont know - could nt - many different - thought wa - thing like\n",
      "Topic 13:  follow u - please visit - nt forget - u facebook - visit u - visit website\n",
      "Topic 14:  interview dr - mental health - health care - medical school - dr david - public health\n",
      "Topic 15:  gon na - let get - welcome back - im going - click learn - two week\n",
      "Topic 16:  link mentioned - stitcher radio - today guest - martial art - facebook page - website facebook\n",
      "Topic 17:  comic book - news week - week discus - star war - new release - san diego\n",
      "Topic 18:  sport medicine - physical therapy - middle school - sport psychology - dr bill - gary leland\n",
      "Topic 19:  old time - time radio - radio sponsored - radio show - dvd old - classic tv\n",
      "Topic 20:  coffee break - premium version - full transcript - season lesson - limited resource - read full\n",
      "Topic 21:  also available - watch video - ham radio - know magic - national park - amateur radio\n",
      "Topic 22:  ha worked - ha also - state university - ha written - washington dc - latest book\n",
      "Topic 23:  r feed - share experience - experience strength - strength hope - talk radio - email u\n",
      "Topic 24:  one another - teach u - around u - make u - click show - talk given\n",
      "Topic 25:  contact u - major spoiler - tell friend - sure visit - really appreciate - big thank\n",
      "Topic 26:  celtic music - comic book - medium marketing - note link - mitch joel - facebook ad\n",
      "Topic 27:  continue reading - guy talk - season pas - facebook page - boston marathon - world championship\n",
      "Topic 28:  bestselling author - fitness trainer - ha also - fit love - fitness expert - tom interview\n",
      "Topic 29:  donald trump - hillary clinton - white house - supreme court - please show - president trump\n",
      "Topic 30:  always welcome - ravelry group - video game - every week - xbox one - window powershell\n",
      "Topic 31:  small business - bestselling author - program wa - business owner - wa sponsored - founder ceo\n",
      "Topic 32:  current event - god ha - join host - course miracle - jesus christ - holy spirit\n",
      "Topic 33:  star war - fat guy - force awakens - rogue one - mentioned show - click link\n",
      "Topic 34:  email u - leave u - facebook page - find u - send u - u feedback\n",
      "Topic 35:  air force - wa also - year later - new zealand - trend following - three year\n",
      "Topic 36:  guest today - share tip - today talk - personal finance - want learn - want miss\n",
      "Topic 37:  walt disney - disney world - medical school - theme park - wdw radio - disney park\n",
      "Topic 38:  muslim central - short video - facebook channel - updated regularly - making lasting - channel short\n",
      "Topic 39:  let know - please let - click play - mental game - next time - leave feedback\n",
      "Topic 40:  full show - air date - original air - youd like - u call - send email\n",
      "Topic 41:  u discus - week discus - u week - show discus - tune find - th pm\n",
      "Topic 42:  original mix - right reserved - extended mix - club mix - guest mix - laidback luke\n",
      "Topic 43:  someone else - many u - dont want - really want - many time - let go\n",
      "Topic 44:  th century - university press - world war - human right - civil war - guest discus\n",
      "Topic 45:  desert island - science fiction - island disc - favourite track - short story - special thanks\n",
      "Topic 46:  show link - click via - mountain bike - tip week - affiliate link - facebook page\n",
      "Topic 47:  radio show - talk radio - attention deficit - adult child - internet radio - attention talk\n",
      "Topic 48:  real estate - estate investing - estate investor - cash flow - stock market - wall street\n",
      "Topic 49:  apple watch - app store - facebook google+ - hd video - bandwidth show - thanks cachefly\n",
      "Topic 50:  college football - head coach - super bowl - join show - look ahead - notre dame\n",
      "Topic 51:  weight loss - lose weight - fat loss - functional medicine - real food - jimmy moore\n",
      "Topic 52:  climate change - supreme court - law enforcement - executive director - middle east - health care\n",
      "Topic 53:  appeared first - creative common - licensed creative - kevin macleod - read post - macleod incompetechcom\n",
      "Topic 54:  video game - board game - final fantasy - dharma talk - zen center - nt forget\n",
      "Topic 55:  true story - one time - loved one - serial killer - young woman - life death\n"
     ]
    }
   ],
   "source": [
    "# Most Important Words for Each Topic\n",
    "topic_words = model.topic_word_\n",
    "print(topic_words.shape)\n",
    "\n",
    "top_n = 6\n",
    "topic_names_temp = []\n",
    "for ii, dist in enumerate(topic_words):\n",
    "    top_n_words = np.array(feature_names)[np.argsort(dist)][:-(top_n+1):-1]\n",
    "    topic_names_temp.append('Topic ' + str(ii) + ': ' + ' - '.join(top_n_words.flatten()))\n",
    "    print('Topic {}:  {}'.format(ii, ' - '.join(topic_names_temp.flatten())))\n",
    "    "
   ]
  },
  {
   "cell_type": "markdown",
   "metadata": {},
   "source": [
    "## B. Show Topics"
   ]
  },
  {
   "cell_type": "code",
   "execution_count": 78,
   "metadata": {
    "collapsed": false
   },
   "outputs": [
    {
     "data": {
      "text/plain": [
       "(11738L, 56L)"
      ]
     },
     "execution_count": 78,
     "metadata": {},
     "output_type": "execute_result"
    }
   ],
   "source": [
    "model.doc_topic_.shape"
   ]
  },
  {
   "cell_type": "code",
   "execution_count": 125,
   "metadata": {
    "collapsed": false
   },
   "outputs": [
    {
     "name": "stdout",
     "output_type": "stream",
     "text": [
      "(11738L, 56L)\n"
     ]
    }
   ],
   "source": [
    "# Best Fitting Episodes for Each Topic\n",
    "show_topics = model.doc_topic_\n",
    "print(show_topics.shape)\n",
    "\n",
    "# Get closest topic for each show\n",
    "show_closest_topic = np.array(topic_names_temp)[show_topics.argmax(1)]\n",
    "# Get probability of closest topic for each show\n",
    "show_closest_topic_prob = show_topics.max(1)\n",
    "\n",
    "# Create data frame with the above two vectors\n",
    "show_closest_topic = pd.DataFrame({'usub': show_closest_topic,\n",
    "                                   'usub_prob': show_closest_topic_prob})\n",
    "# Add in the full show table\n",
    "show_closest_topic = pd.concat([show_closest_topic, shows], axis=1)\n",
    "# Extract the ID from the usub\n",
    "show_closest_topic['usub_id'] = show_closest_topic['usub'].str.extract('(Topic [0-9]{1,2})').str.replace('Topic ', '')\n",
    "\n",
    "# Reorder and rename columns\n",
    "show_closest_topic = show_closest_topic[['usub_id', 'usub', 'usub_prob', 'podcast_name', 'subgenre', 'show_desc']]\n",
    "show_closest_topic = show_closest_topic.rename(columns={'subgenre': 'isub'})\n"
   ]
  },
  {
   "cell_type": "code",
   "execution_count": 126,
   "metadata": {
    "collapsed": false
   },
   "outputs": [
    {
     "data": {
      "text/html": [
       "<div>\n",
       "<table border=\"1\" class=\"dataframe\">\n",
       "  <thead>\n",
       "    <tr style=\"text-align: right;\">\n",
       "      <th></th>\n",
       "      <th>usub_id</th>\n",
       "      <th>usub</th>\n",
       "      <th>usub_prob</th>\n",
       "      <th>podcast_name</th>\n",
       "      <th>isub</th>\n",
       "      <th>show_desc</th>\n",
       "    </tr>\n",
       "  </thead>\n",
       "  <tbody>\n",
       "    <tr>\n",
       "      <th>0</th>\n",
       "      <td>25</td>\n",
       "      <td>Topic 25: contact u - major spoiler - tell fri...</td>\n",
       "      <td>0.386675</td>\n",
       "      <td>! Football Ringtones, Text Tones, Mail Alerts ...</td>\n",
       "      <td>College &amp; High School</td>\n",
       "      <td>Get FREE RINGTONES when you subscribe! Footbal...</td>\n",
       "    </tr>\n",
       "    <tr>\n",
       "      <th>1</th>\n",
       "      <td>49</td>\n",
       "      <td>Topic 49: apple watch - app store - facebook g...</td>\n",
       "      <td>0.394105</td>\n",
       "      <td>! World's Funniest Ringtones for iPhone &amp; iPad...</td>\n",
       "      <td>Gadgets</td>\n",
       "      <td>Get FREE RINGTONES when you subscribe to The W...</td>\n",
       "    </tr>\n",
       "    <tr>\n",
       "      <th>2</th>\n",
       "      <td>25</td>\n",
       "      <td>Topic 25: contact u - major spoiler - tell fri...</td>\n",
       "      <td>0.243341</td>\n",
       "      <td>! iPhone Ringtones</td>\n",
       "      <td>Video Games</td>\n",
       "      <td>Get FREE RINGTONES when you subscribe! The Wor...</td>\n",
       "    </tr>\n",
       "    <tr>\n",
       "      <th>3</th>\n",
       "      <td>47</td>\n",
       "      <td>Topic 47: radio show - talk radio - attention ...</td>\n",
       "      <td>0.331966</td>\n",
       "      <td>\" Talk to Tony - Radio Show \" Licensed Psychol...</td>\n",
       "      <td>Social Sciences</td>\n",
       "      <td>Dr. Tony Ferretti offers a psychological persp...</td>\n",
       "    </tr>\n",
       "    <tr>\n",
       "      <th>4</th>\n",
       "      <td>36</td>\n",
       "      <td>Topic 36: guest today - share tip - today talk...</td>\n",
       "      <td>0.658082</td>\n",
       "      <td>\"A Tale of Two Cities\" Audiobook (Audio book)</td>\n",
       "      <td>Literature</td>\n",
       "      <td>\"A Tale of Two Cities\" was first published in ...</td>\n",
       "    </tr>\n",
       "  </tbody>\n",
       "</table>\n",
       "</div>"
      ],
      "text/plain": [
       "  usub_id                                               usub  usub_prob  \\\n",
       "0      25  Topic 25: contact u - major spoiler - tell fri...   0.386675   \n",
       "1      49  Topic 49: apple watch - app store - facebook g...   0.394105   \n",
       "2      25  Topic 25: contact u - major spoiler - tell fri...   0.243341   \n",
       "3      47  Topic 47: radio show - talk radio - attention ...   0.331966   \n",
       "4      36  Topic 36: guest today - share tip - today talk...   0.658082   \n",
       "\n",
       "                                        podcast_name                   isub  \\\n",
       "0  ! Football Ringtones, Text Tones, Mail Alerts ...  College & High School   \n",
       "1  ! World's Funniest Ringtones for iPhone & iPad...                Gadgets   \n",
       "2                                 ! iPhone Ringtones            Video Games   \n",
       "3  \" Talk to Tony - Radio Show \" Licensed Psychol...        Social Sciences   \n",
       "4      \"A Tale of Two Cities\" Audiobook (Audio book)             Literature   \n",
       "\n",
       "                                           show_desc  \n",
       "0  Get FREE RINGTONES when you subscribe! Footbal...  \n",
       "1  Get FREE RINGTONES when you subscribe to The W...  \n",
       "2  Get FREE RINGTONES when you subscribe! The Wor...  \n",
       "3  Dr. Tony Ferretti offers a psychological persp...  \n",
       "4  \"A Tale of Two Cities\" was first published in ...  "
      ]
     },
     "execution_count": 126,
     "metadata": {},
     "output_type": "execute_result"
    }
   ],
   "source": [
    "show_closest_topic.head()"
   ]
  },
  {
   "cell_type": "code",
   "execution_count": 127,
   "metadata": {
    "collapsed": false
   },
   "outputs": [],
   "source": [
    "# Export to CSV\n",
    "show_closest_topic.to_csv('../output/' + scenario + '_shows_and_closest_topics.csv', index=False)"
   ]
  },
  {
   "cell_type": "markdown",
   "metadata": {},
   "source": [
    "# V. Evaluation"
   ]
  },
  {
   "cell_type": "code",
   "execution_count": null,
   "metadata": {
    "collapsed": true
   },
   "outputs": [],
   "source": [
    "# Load category mapping\n",
    "cat_map = pd.read_csv('../raw/cat_maps/cat_map_' + scenario + '.csv')"
   ]
  },
  {
   "cell_type": "code",
   "execution_count": 130,
   "metadata": {
    "collapsed": false
   },
   "outputs": [],
   "source": [
    "# Load pickled model\n",
    "model = joblib.load('../interim/trained_models/lda/lda_' + scenario + samp + '.pkl')"
   ]
  }
 ],
 "metadata": {
  "kernelspec": {
   "display_name": "Python 2",
   "language": "python",
   "name": "python2"
  },
  "language_info": {
   "codemirror_mode": {
    "name": "ipython",
    "version": 2
   },
   "file_extension": ".py",
   "mimetype": "text/x-python",
   "name": "python",
   "nbconvert_exporter": "python",
   "pygments_lexer": "ipython2",
   "version": "2.7.10"
  }
 },
 "nbformat": 4,
 "nbformat_minor": 0
}
