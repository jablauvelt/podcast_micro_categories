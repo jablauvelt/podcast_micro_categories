{
 "cells": [
  {
   "cell_type": "code",
   "execution_count": 88,
   "metadata": {
    "collapsed": false
   },
   "outputs": [
    {
     "name": "stdout",
     "output_type": "stream",
     "text": [
      "Done!\n"
     ]
    }
   ],
   "source": [
    "# Helper libraries\n",
    "sys.path.append('a3_framework')\n",
    "import a3utils, a3tf_embed_viz, a3rnnlm\n",
    "reload(a3utils)\n",
    "reload(a3tf_embed_viz)\n",
    "reload(a3rnnlm)\n",
    "\n",
    "import util, rnnlm\n",
    "reload(util)\n",
    "reload(rnnlm)\n",
    "\n",
    "import json, os, re, shutil, sys, time\n",
    "import collections, itertools\n",
    "import sys\n",
    "\n",
    "from IPython.display import display, HTML\n",
    "\n",
    "# NLTK for NLP utils and corpora\n",
    "import nltk\n",
    "\n",
    "# NumPy and TensorFlow\n",
    "import numpy as np\n",
    "import tensorflow as tf\n",
    "assert(tf.__version__.startswith(\"0.12\"))\n",
    "\n",
    "# utils.pretty_print_matrix uses Pandas. Configure float format here.\n",
    "import pandas as pd\n",
    "pd.set_option('float_format', lambda f: \"{0:.04f}\".format(f))\n",
    "\n",
    "print \"Done!\"\n",
    "\n"
   ]
  },
  {
   "cell_type": "code",
   "execution_count": 89,
   "metadata": {
    "collapsed": true
   },
   "outputs": [],
   "source": [
    "samp = True\n",
    "samp = '_samp' if samp else ''"
   ]
  },
  {
   "cell_type": "code",
   "execution_count": 90,
   "metadata": {
    "collapsed": false
   },
   "outputs": [
    {
     "name": "stdout",
     "output_type": "stream",
     "text": [
      "('Feature Names Shape:', (1192, 2))\n",
      "('Descriptions Shape:', (1192, 1))\n"
     ]
    }
   ],
   "source": [
    "# Load feature names\n",
    "fnames = np.array(pd.read_pickle('../interim/028_preproc_heavy_shows_concat' + samp + '.p'))\n",
    "\n",
    "# load concatenated descriptions\n",
    "desc = np.array(pd.read_pickle('../interim/028_preproc_heavy_show_description_concat' + samp + '.p'))\n",
    "\n",
    "print(\"Feature Names Shape:\", fnames.shape)\n",
    "print(\"Descriptions Shape:\", desc.shape)\n",
    "assert fnames.shape[0] == desc.shape[0]"
   ]
  },
  {
   "cell_type": "code",
   "execution_count": 91,
   "metadata": {
    "collapsed": false
   },
   "outputs": [
    {
     "name": "stdout",
     "output_type": "stream",
     "text": [
      "Done!\n"
     ]
    }
   ],
   "source": [
    "reload(rnnlm)\n",
    "\n",
    "TF_GRAPHDIR = \"tf_graph\"\n",
    "\n",
    "# Clear old log directory.\n",
    "shutil.rmtree(TF_GRAPHDIR, ignore_errors=True)\n",
    "\n",
    "lm = rnnlm.RNNLM(V=10000, H=200, num_layers=2)\n",
    "lm.BuildCoreGraph()\n",
    "lm.BuildTrainGraph()\n",
    "lm.BuildSamplerGraph()\n",
    "\n",
    "summary_writer = tf.summary.FileWriter(TF_GRAPHDIR, lm.graph)\n",
    "print \"Done!\""
   ]
  },
  {
   "cell_type": "code",
   "execution_count": 98,
   "metadata": {
    "collapsed": false
   },
   "outputs": [
    {
     "name": "stdout",
     "output_type": "stream",
     "text": [
      "(91,)\n",
      "Loaded 91 sentences (1514 tokens)\n",
      "Training set: 72 sentences (1163 tokens)\n",
      "Test set: 19 sentences (351 tokens)\n",
      "[epoch 1] Starting epoch 1\n",
      "[epoch 1] Completed in 0:00:00\n",
      "[epoch 1] Train set: avg. loss: 8.777  (perplexity: 6486.36)\n",
      "[epoch 1] Test set: avg. loss: 8.804  (perplexity: 6659.12)\n",
      "\n",
      "[epoch 2] Starting epoch 2\n",
      "[epoch 2] Completed in 0:00:00\n",
      "[epoch 2] Train set: avg. loss: 8.319  (perplexity: 4101.44)\n",
      "[epoch 2] Test set: avg. loss: 8.448  (perplexity: 4667.27)\n",
      "\n",
      "(688,)\n",
      "Loaded 688 sentences (11082 tokens)\n",
      "Training set: 550 sentences (8992 tokens)\n",
      "Test set: 138 sentences (2090 tokens)\n",
      "[epoch 1] Starting epoch 1\n",
      "[epoch 1] Completed in 0:00:01\n",
      "[epoch 1] Train set: avg. loss: 7.532  (perplexity: 1867.70)\n",
      "[epoch 1] Test set: avg. loss: 7.535  (perplexity: 1871.77)\n",
      "\n",
      "[epoch 2] Starting epoch 2\n",
      "[epoch 2] Completed in 0:00:01\n",
      "[epoch 2] Train set: avg. loss: 7.492  (perplexity: 1793.56)\n",
      "[epoch 2] Test set: avg. loss: 7.423  (perplexity: 1674.28)\n",
      "\n",
      "(70,)\n",
      "Loaded 70 sentences (2910 tokens)\n",
      "Training set: 56 sentences (2512 tokens)\n",
      "Test set: 14 sentences (398 tokens)\n",
      "[epoch 1] Starting epoch 1\n",
      "[epoch 1] Completed in 0:00:00\n",
      "[epoch 1] Train set: avg. loss: 7.140  (perplexity: 1261.43)\n",
      "[epoch 1] Test set: avg. loss: 7.682  (perplexity: 2169.84)\n",
      "\n",
      "[epoch 2] Starting epoch 2\n",
      "[epoch 2] Completed in 0:00:00\n",
      "[epoch 2] Train set: avg. loss: 5.926  (perplexity: 374.53)\n",
      "[epoch 2] Test set: avg. loss: 6.424  (perplexity: 616.71)\n",
      "\n",
      "(3, 10000)\n"
     ]
    }
   ],
   "source": [
    "# Load the dataset\n",
    "reload(a3utils)\n",
    "reload(a3rnnlm)\n",
    "\n",
    "#training parameters\n",
    "training_params = dict(max_time=20, batch_size=50, learning_rate=0.5, num_epochs=2)\n",
    "\n",
    "# Model parameters\n",
    "vocab_size = 10000\n",
    "model_params = dict(V=vocab_size, H=100, softmax_ns=200, num_layers=1)\n",
    "\n",
    "output = []\n",
    "for i in range(0, desc.shape[0]):\n",
    "    vocab, train_ids, test_ids = a3utils.load_corpus(desc[i][0], split=0.8, V=vocab_size, shuffle=42)\n",
    "    final_h = a3rnnlm.execute_rnnlm(model_params, training_params, vocab, train_ids, test_ids)\n",
    "    output.append(final_h.ravel())\n",
    "    if i >= 2: break;\n",
    "\n",
    "print np.asarray(output).shape"
   ]
  },
  {
   "cell_type": "code",
   "execution_count": 95,
   "metadata": {
    "collapsed": false,
    "scrolled": false
   },
   "outputs": [
    {
     "name": "stdout",
     "output_type": "stream",
     "text": [
      "[epoch 1] Starting epoch 1\n",
      "[epoch 1] Completed in 0:00:00\n",
      "[epoch 1] Train set: avg. loss: 8.663  (perplexity: 5787.25)\n",
      "[epoch 1] Test set: avg. loss: 8.786  (perplexity: 6538.92)\n",
      "\n",
      "[epoch 2] Starting epoch 2\n",
      "[epoch 2] Completed in 0:00:00\n",
      "[epoch 2] Train set: avg. loss: 8.293  (perplexity: 3994.10)\n",
      "[epoch 2] Test set: avg. loss: 8.475  (perplexity: 4793.44)\n",
      "\n",
      "(100, 100)\n"
     ]
    }
   ],
   "source": []
  },
  {
   "cell_type": "code",
   "execution_count": null,
   "metadata": {
    "collapsed": true
   },
   "outputs": [],
   "source": []
  }
 ],
 "metadata": {
  "anaconda-cloud": {},
  "kernelspec": {
   "display_name": "Python [default]",
   "language": "python",
   "name": "python2"
  },
  "language_info": {
   "codemirror_mode": {
    "name": "ipython",
    "version": 2
   },
   "file_extension": ".py",
   "mimetype": "text/x-python",
   "name": "python",
   "nbconvert_exporter": "python",
   "pygments_lexer": "ipython2",
   "version": "2.7.12"
  }
 },
 "nbformat": 4,
 "nbformat_minor": 1
}
