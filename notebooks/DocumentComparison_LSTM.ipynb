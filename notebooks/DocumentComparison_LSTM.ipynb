{
 "cells": [
  {
   "cell_type": "code",
   "execution_count": 26,
   "metadata": {
    "collapsed": false
   },
   "outputs": [
    {
     "name": "stdout",
     "output_type": "stream",
     "text": [
      "Done!\n"
     ]
    }
   ],
   "source": [
    "# Helper libraries\n",
    "import sys\n",
    "sys.path.append('a3_framework')\n",
    "import a3utils, a3tf_embed_viz, a3rnnlm\n",
    "reload(a3utils)\n",
    "reload(a3tf_embed_viz)\n",
    "reload(a3rnnlm)\n",
    "\n",
    "import util, rnnlm\n",
    "reload(util)\n",
    "reload(rnnlm)\n",
    "\n",
    "import json, os, re, shutil, sys, time\n",
    "import collections, itertools\n",
    "\n",
    "from IPython.display import display, HTML\n",
    "from random import randint\n",
    "\n",
    "# NLTK for NLP utils and corpora\n",
    "import nltk\n",
    "\n",
    "# NumPy and TensorFlow\n",
    "import numpy as np\n",
    "import tensorflow as tf\n",
    "assert(tf.__version__.startswith(\"0.12\"))\n",
    "\n",
    "# utils.pretty_print_matrix uses Pandas. Configure float format here.\n",
    "import pandas as pd\n",
    "pd.set_option('float_format', lambda f: \"{0:.04f}\".format(f))\n",
    "\n",
    "print \"Done!\"\n",
    "\n"
   ]
  },
  {
   "cell_type": "code",
   "execution_count": 6,
   "metadata": {
    "collapsed": true
   },
   "outputs": [],
   "source": [
    "samp = True\n",
    "samp = '_samp' if samp else ''"
   ]
  },
  {
   "cell_type": "code",
   "execution_count": 7,
   "metadata": {
    "collapsed": false
   },
   "outputs": [
    {
     "name": "stdout",
     "output_type": "stream",
     "text": [
      "('Feature Names Shape:', (1192, 2))\n",
      "('Descriptions Shape:', (1192, 1))\n"
     ]
    }
   ],
   "source": [
    "# Load feature names\n",
    "fnames = np.array(pd.read_pickle('../interim/028_preproc_heavy_shows_concat' + samp + '.p'))\n",
    "\n",
    "# load concatenated descriptions\n",
    "desc = np.array(pd.read_pickle('../interim/028_preproc_heavy_show_description_concat' + samp + '.p'))\n",
    "\n",
    "print(\"Feature Names Shape:\", fnames.shape)\n",
    "print(\"Descriptions Shape:\", desc.shape)\n",
    "assert fnames.shape[0] == desc.shape[0]"
   ]
  },
  {
   "cell_type": "code",
   "execution_count": 8,
   "metadata": {
    "collapsed": false
   },
   "outputs": [
    {
     "name": "stdout",
     "output_type": "stream",
     "text": [
      "Done!\n"
     ]
    }
   ],
   "source": [
    "reload(rnnlm)\n",
    "\n",
    "TF_GRAPHDIR = \"tf_graph\"\n",
    "\n",
    "# Clear old log directory.\n",
    "shutil.rmtree(TF_GRAPHDIR, ignore_errors=True)\n",
    "\n",
    "lm = rnnlm.RNNLM(V=10000, H=200, num_layers=2)\n",
    "lm.BuildCoreGraph()\n",
    "lm.BuildTrainGraph()\n",
    "lm.BuildSamplerGraph()\n",
    "\n",
    "summary_writer = tf.summary.FileWriter(TF_GRAPHDIR, lm.graph)\n",
    "print \"Done!\""
   ]
  },
  {
   "cell_type": "code",
   "execution_count": 87,
   "metadata": {
    "collapsed": false,
    "scrolled": false
   },
   "outputs": [
    {
     "name": "stdout",
     "output_type": "stream",
     "text": [
      "(91,)\n",
      "Loaded 91 sentences (1514 tokens)\n",
      "Training set: 72 sentences (1163 tokens)\n",
      "Test set: 19 sentences (351 tokens)\n",
      "[epoch 1] Starting epoch 1\n",
      "[epoch 1] Completed in 0:00:00\n",
      "[epoch 1] Train set: avg. loss: 8.976  (perplexity: 7914.86)\n",
      "[epoch 1] Test set: avg. loss: 9.077  (perplexity: 8751.93)\n",
      "\n",
      "[epoch 2] Starting epoch 2\n",
      "[epoch 2] Completed in 0:00:00\n",
      "[epoch 2] Train set: avg. loss: 8.528  (perplexity: 5056.49)\n",
      "[epoch 2] Test set: avg. loss: 8.698  (perplexity: 5990.23)\n",
      "\n",
      "[epoch 3] Starting epoch 3\n",
      "[epoch 3] Completed in 0:00:00\n",
      "[epoch 3] Train set: avg. loss: 8.135  (perplexity: 3411.50)\n",
      "[epoch 3] Test set: avg. loss: 8.400  (perplexity: 4448.95)\n",
      "\n",
      "[epoch 4] Starting epoch 4\n",
      "[epoch 4] Completed in 0:00:00\n",
      "[epoch 4] Train set: avg. loss: 7.689  (perplexity: 2183.60)\n",
      "[epoch 4] Test set: avg. loss: 8.068  (perplexity: 3191.16)\n",
      "\n",
      "[epoch 5] Starting epoch 5\n",
      "[epoch 5] Completed in 0:00:00\n",
      "[epoch 5] Train set: avg. loss: 7.498  (perplexity: 1804.47)\n",
      "[epoch 5] Test set: avg. loss: 7.926  (perplexity: 2768.57)\n",
      "\n",
      "(688,)\n"
     ]
    },
    {
     "name": "stderr",
     "output_type": "stream",
     "text": [
      "/home/michaelrubin/anaconda2/lib/python2.7/site-packages/ipykernel/__main__.py:19: FutureWarning: comparison to `None` will result in an elementwise object comparison in the future.\n"
     ]
    },
    {
     "name": "stdout",
     "output_type": "stream",
     "text": [
      "Loaded 688 sentences (11082 tokens)\n",
      "Training set: 550 sentences (8992 tokens)\n",
      "Test set: 138 sentences (2090 tokens)\n",
      "[epoch 1] Starting epoch 1\n",
      "[epoch 1] Completed in 0:00:02\n",
      "[epoch 1] Train set: avg. loss: 7.640  (perplexity: 2079.20)\n",
      "[epoch 1] Test set: avg. loss: 7.587  (perplexity: 1971.68)\n",
      "\n",
      "[epoch 2] Starting epoch 2\n",
      "[epoch 2] Completed in 0:00:02\n",
      "[epoch 2] Train set: avg. loss: 7.277  (perplexity: 1446.24)\n",
      "[epoch 2] Test set: avg. loss: 7.213  (perplexity: 1356.90)\n",
      "\n",
      "[epoch 3] Starting epoch 3\n",
      "[epoch 3] Completed in 0:00:02\n",
      "[epoch 3] Train set: avg. loss: 7.124  (perplexity: 1240.86)\n",
      "[epoch 3] Test set: avg. loss: 7.086  (perplexity: 1195.25)\n",
      "\n",
      "[epoch 4] Starting epoch 4\n",
      "[epoch 4] Completed in 0:00:02\n",
      "[epoch 4] Train set: avg. loss: 6.929  (perplexity: 1021.14)\n",
      "[epoch 4] Test set: avg. loss: 6.885  (perplexity: 977.19)\n",
      "\n",
      "[epoch 5] Starting epoch 5\n",
      "[epoch 5] Completed in 0:00:02\n",
      "[epoch 5] Train set: avg. loss: 6.916  (perplexity: 1008.28)\n",
      "[epoch 5] Test set: avg. loss: 6.857  (perplexity: 950.62)\n",
      "\n",
      "(70,)\n",
      "Loaded 70 sentences (2910 tokens)\n",
      "Training set: 56 sentences (2512 tokens)\n",
      "Test set: 14 sentences (398 tokens)\n",
      "[epoch 1] Starting epoch 1\n",
      "[epoch 1] Completed in 0:00:00\n",
      "[epoch 1] Train set: avg. loss: 7.070  (perplexity: 1175.73)\n",
      "[epoch 1] Test set: avg. loss: 7.614  (perplexity: 2025.38)\n",
      "\n",
      "[epoch 2] Starting epoch 2\n",
      "[epoch 2] Completed in 0:00:00\n",
      "[epoch 2] Train set: avg. loss: 5.751  (perplexity: 314.36)\n",
      "[epoch 2] Test set: avg. loss: 6.286  (perplexity: 536.95)\n",
      "\n",
      "[epoch 3] Starting epoch 3\n",
      "[epoch 3] Completed in 0:00:00\n",
      "[epoch 3] Train set: avg. loss: 5.924  (perplexity: 374.01)\n",
      "[epoch 3] Test set: avg. loss: 6.162  (perplexity: 474.56)\n",
      "\n",
      "[epoch 4] Starting epoch 4\n",
      "[epoch 4] Completed in 0:00:00\n",
      "[epoch 4] Train set: avg. loss: 4.610  (perplexity: 100.45)\n",
      "[epoch 4] Test set: avg. loss: 5.103  (perplexity: 164.54)\n",
      "\n",
      "[epoch 5] Starting epoch 5\n",
      "[epoch 5] Completed in 0:00:00\n",
      "[epoch 5] Train set: avg. loss: 3.881  (perplexity: 48.45)\n",
      "[epoch 5] Test set: avg. loss: 4.558  (perplexity: 95.43)\n",
      "\n",
      "(206,)\n",
      "Loaded 206 sentences (4892 tokens)\n",
      "Training set: 164 sentences (3974 tokens)\n",
      "Test set: 42 sentences (918 tokens)\n",
      "[epoch 1] Starting epoch 1\n",
      "[epoch 1] Completed in 0:00:01\n",
      "[epoch 1] Train set: avg. loss: 8.416  (perplexity: 4520.21)\n",
      "[epoch 1] Test set: avg. loss: 8.425  (perplexity: 4561.08)\n",
      "\n",
      "[epoch 2] Starting epoch 2\n",
      "[epoch 2] Completed in 0:00:01\n",
      "[epoch 2] Train set: avg. loss: 7.867  (perplexity: 2608.43)\n",
      "[epoch 2] Test set: avg. loss: 7.885  (perplexity: 2656.11)\n",
      "\n",
      "[epoch 3] Starting epoch 3\n",
      "[epoch 3] Completed in 0:00:01\n",
      "[epoch 3] Train set: avg. loss: 7.649  (perplexity: 2098.35)\n",
      "[epoch 3] Test set: avg. loss: 7.642  (perplexity: 2084.06)\n",
      "\n",
      "[epoch 4] Starting epoch 4\n",
      "[epoch 4] Completed in 0:00:01\n",
      "[epoch 4] Train set: avg. loss: 7.555  (perplexity: 1910.77)\n",
      "[epoch 4] Test set: avg. loss: 7.540  (perplexity: 1881.03)\n",
      "\n",
      "[epoch 5] Starting epoch 5\n",
      "[epoch 5] Completed in 0:00:00\n",
      "[epoch 5] Train set: avg. loss: 7.361  (perplexity: 1573.00)\n",
      "[epoch 5] Test set: avg. loss: 7.339  (perplexity: 1539.91)\n",
      "\n",
      "(12,)\n",
      "Loaded 12 sentences (277 tokens)\n",
      "Training set: 9 sentences (229 tokens)\n",
      "Test set: 3 sentences (48 tokens)\n",
      "[epoch 1] Starting epoch 1\n",
      "[epoch 1] Completed in 0:00:00\n",
      "[epoch 1] Train set: avg. loss: 8.917  (perplexity: 7459.83)\n",
      "[epoch 1] Test set: avg. loss: 0.000  (perplexity: 1.00)\n",
      "\n",
      "[epoch 2] Starting epoch 2\n",
      "[epoch 2] Completed in 0:00:00\n",
      "[epoch 2] Train set: avg. loss: 8.720  (perplexity: 6124.47)\n",
      "[epoch 2] Test set: avg. loss: 0.000  (perplexity: 1.00)\n",
      "\n",
      "[epoch 3] Starting epoch 3\n",
      "[epoch 3] Completed in 0:00:00\n",
      "[epoch 3] Train set: avg. loss: 8.557  (perplexity: 5203.42)\n",
      "[epoch 3] Test set: avg. loss: 0.000  (perplexity: 1.00)\n",
      "\n",
      "[epoch 4] Starting epoch 4\n",
      "[epoch 4] Completed in 0:00:00\n",
      "[epoch 4] Train set: avg. loss: 8.347  (perplexity: 4216.99)\n",
      "[epoch 4] Test set: avg. loss: 0.000  (perplexity: 1.00)\n",
      "\n",
      "[epoch 5] Starting epoch 5\n",
      "[epoch 5] Completed in 0:00:00\n",
      "[epoch 5] Train set: avg. loss: 8.200  (perplexity: 3641.68)\n",
      "[epoch 5] Test set: avg. loss: 0.000  (perplexity: 1.00)\n",
      "\n",
      "(4, 10000)\n",
      "[u'#NerdyCast', u'#SmartBrownVoices - Learning from Diversity', u'2009 K-12 Online Conference Audio Podcast Channel', u'1045 Home Improvement Show']\n"
     ]
    }
   ],
   "source": [
    "# Load the dataset\n",
    "reload(a3utils)\n",
    "reload(a3rnnlm)\n",
    "\n",
    "num_epochs = 5\n",
    "num_elements = 5\n",
    "\n",
    "#training parameters\n",
    "training_params = dict(max_time=20, batch_size=50, learning_rate=0.5, num_epochs=num_epochs)\n",
    "\n",
    "# Model parameters\n",
    "vocab_size = 10000\n",
    "model_params = dict(V=vocab_size, H=100, softmax_ns=200, num_layers=1)\n",
    "desc_dict = {}\n",
    "output = []\n",
    "for i in range(0, desc.shape[0]):\n",
    "    vocab, train_ids, test_ids = a3utils.load_corpus(desc[i][0], split=0.8, V=vocab_size, shuffle=42)\n",
    "    final_h = a3rnnlm.execute_rnnlm(model_params, training_params, vocab, train_ids, test_ids)\n",
    "    if final_h is not None:\n",
    "        a = final_h.ravel()\n",
    "        output.append(a)\n",
    "        desc_dict[fnames[i,0]] = a\n",
    "    if i >= (num_elements-1): break;\n",
    "\n",
    "output_array = np.asarray(output)\n",
    "print output_array.shape\n",
    "print desc_dict.keys()"
   ]
  },
  {
   "cell_type": "code",
   "execution_count": 127,
   "metadata": {
    "collapsed": false,
    "scrolled": false
   },
   "outputs": [
    {
     "name": "stdout",
     "output_type": "stream",
     "text": [
      "[ 1.          0.06955069  0.06752861 -0.02072901]\n",
      "2 [3 2 1 0] 3\n",
      "Selection: 2009 K-12 Online Conference Audio Podcast Channel\n",
      "----------------------------------------------------------------------\n",
      "1. 1.000000 1045 Home Improvement Show\n",
      "2. 0.069551 2009 K-12 Online Conference Audio Podcast Channel\n",
      "3. 0.067529 #SmartBrownVoices - Learning from Diversity\n",
      "4. -0.020729 #NerdyCast\n"
     ]
    }
   ],
   "source": [
    "reload(util)\n",
    "l = len(desc_dict.keys())-1\n",
    "i = randint(0,l-1)\n",
    "\n",
    "Dv = output_array\n",
    "v = desc_dict[desc_dict.keys()[i]]\n",
    "k=1\n",
    "r = util.find_nn_cos( v, Dv, k=10)\n",
    "print r[1]\n",
    "print i, r[0],l\n",
    "\n",
    "print \"Selection:\", desc_dict.keys()[i]\n",
    "print '-'*70\n",
    "count = 1\n",
    "for a, b in zip(r[0], r[1]):\n",
    "    print \"%d. %f %s\" %( count, b, desc_dict.keys()[a])\n",
    "    count += 1"
   ]
  },
  {
   "cell_type": "code",
   "execution_count": null,
   "metadata": {
    "collapsed": true
   },
   "outputs": [],
   "source": []
  }
 ],
 "metadata": {
  "anaconda-cloud": {},
  "kernelspec": {
   "display_name": "Python [default]",
   "language": "python",
   "name": "python2"
  },
  "language_info": {
   "codemirror_mode": {
    "name": "ipython",
    "version": 2
   },
   "file_extension": ".py",
   "mimetype": "text/x-python",
   "name": "python",
   "nbconvert_exporter": "python",
   "pygments_lexer": "ipython2",
   "version": "2.7.12"
  }
 },
 "nbformat": 4,
 "nbformat_minor": 1
}
