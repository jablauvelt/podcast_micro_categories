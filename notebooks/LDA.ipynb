{
 "cells": [
  {
   "cell_type": "markdown",
   "metadata": {},
   "source": [
    "# Podcast Micro-Categories\n",
    "### Exploratory Notebook\n",
    "### Unsupervised LDA"
   ]
  },
  {
   "cell_type": "code",
   "execution_count": 58,
   "metadata": {
    "collapsed": true
   },
   "outputs": [],
   "source": [
    "from __future__ import print_function\n",
    "from __future__ import division\n",
    "\n",
    "import gc\n",
    "import os\n",
    "import time\n",
    "\n",
    "import numpy as np\n",
    "import pandas as pd\n",
    "import scipy\n",
    "\n",
    "import lda\n",
    "\n",
    "import re\n",
    "\n",
    "from sklearn.externals import joblib\n"
   ]
  },
  {
   "cell_type": "code",
   "execution_count": 59,
   "metadata": {
    "collapsed": true
   },
   "outputs": [],
   "source": [
    "samp = False\n",
    "samp = '_samp' if samp else ''"
   ]
  },
  {
   "cell_type": "markdown",
   "metadata": {},
   "source": [
    "# I. Load"
   ]
  },
  {
   "cell_type": "markdown",
   "metadata": {},
   "source": [
    "### A. Load Files"
   ]
  },
  {
   "cell_type": "code",
   "execution_count": 74,
   "metadata": {
    "collapsed": true
   },
   "outputs": [],
   "source": [
    "# Define scenario number (s[1-6])\n",
    "scenario = 'final'"
   ]
  },
  {
   "cell_type": "code",
   "execution_count": 75,
   "metadata": {
    "collapsed": false
   },
   "outputs": [
    {
     "name": "stdout",
     "output_type": "stream",
     "text": [
      "Episode Term Document Matrix Shape: 11,795 shows x  55,821 features\n",
      "Episode Table Shape: 11,795 shows x  2 columns (show name and concatenated description)\n"
     ]
    }
   ],
   "source": [
    "# 1. Load TDM\n",
    "if scenario == 'final': \n",
    "    scen = 's1'\n",
    "else:\n",
    "    scen = scenario\n",
    "loader = np.load('../interim/' + scen + '_tdm' + samp + '.npz')\n",
    "tdm = scipy.sparse.csr_matrix((loader['data'], loader['indices'], loader['indptr']),\n",
    "                      shape=loader['shape'])\n",
    "\n",
    "# 2. Load feature names\n",
    "feature_names = np.array(pd.read_pickle('../interim/' + scen + '_names' + samp + '.p'))\n",
    "\n",
    "# 3. Load show names and subgenres that still remain\n",
    "shows_concat = pd.read_pickle('../interim/' + scen + '_shows_concat' + samp + '.p')\n",
    "\n",
    "# 4. Load full show table so that summaries can be pulled in\n",
    "shows_full = pd.read_pickle('../interim/pods' + samp + '.p')\n",
    "\n",
    "# 5. Print shapes and check assertions\n",
    "print(\"Episode Term Document Matrix Shape: {:,} shows x  {:,} features\".format(tdm.shape[0], tdm.shape[1]))\n",
    "print(\"Episode Table Shape: {:,} shows x  {:,} columns (show name and concatenated description)\".format(shows_concat.shape[0], shows_concat.shape[1]))\n",
    "assert tdm.shape[0] == shows_concat.shape[0]\n",
    "assert len(feature_names) == tdm.shape[1]"
   ]
  },
  {
   "cell_type": "markdown",
   "metadata": {},
   "source": [
    "### B. Remove duplicates "
   ]
  },
  {
   "cell_type": "code",
   "execution_count": 76,
   "metadata": {
    "collapsed": false
   },
   "outputs": [
    {
     "name": "stdout",
     "output_type": "stream",
     "text": [
      "Number of dupes removed:  (151, 18)\n",
      "Number of shows remaining:  (12319, 18)\n"
     ]
    }
   ],
   "source": [
    "# Remove duplicates from full show list (need to handle these earlier on in other scripts)\n",
    "dupes = shows_full.groupby(['podcast_name', 'subgenre']).filter(lambda group: len(group) > 1).sort('podcast_name')\n",
    "print(\"Number of dupes removed: \", dupes.shape)\n",
    "shows_full = shows_full.drop_duplicates(['podcast_name', 'subgenre'])\n",
    "print(\"Number of shows remaining: \", shows_full.shape)"
   ]
  },
  {
   "cell_type": "markdown",
   "metadata": {},
   "source": [
    "### C. Join features from full show table to de-duplicated shows"
   ]
  },
  {
   "cell_type": "code",
   "execution_count": 77,
   "metadata": {
    "collapsed": false
   },
   "outputs": [
    {
     "name": "stdout",
     "output_type": "stream",
     "text": [
      "(12319, 18)\n",
      "(11795, 2)\n",
      "(11795, 3)\n"
     ]
    },
    {
     "data": {
      "text/html": [
       "<div>\n",
       "<table border=\"1\" class=\"dataframe\">\n",
       "  <thead>\n",
       "    <tr style=\"text-align: right;\">\n",
       "      <th></th>\n",
       "      <th>podcast_name</th>\n",
       "      <th>subgenre</th>\n",
       "      <th>show_desc</th>\n",
       "    </tr>\n",
       "  </thead>\n",
       "  <tbody>\n",
       "    <tr>\n",
       "      <th>0</th>\n",
       "      <td>! Football Ringtones, Text Tones, Mail Alerts ...</td>\n",
       "      <td>College &amp; High School</td>\n",
       "      <td>Get FREE RINGTONES when you subscribe! Footbal...</td>\n",
       "    </tr>\n",
       "    <tr>\n",
       "      <th>1</th>\n",
       "      <td>! World's Funniest Ringtones for iPhone &amp; iPad...</td>\n",
       "      <td>Gadgets</td>\n",
       "      <td>Get FREE RINGTONES when you subscribe to The W...</td>\n",
       "    </tr>\n",
       "    <tr>\n",
       "      <th>2</th>\n",
       "      <td>! iPhone Ringtones</td>\n",
       "      <td>Video Games</td>\n",
       "      <td>Get FREE RINGTONES when you subscribe! The Wor...</td>\n",
       "    </tr>\n",
       "    <tr>\n",
       "      <th>3</th>\n",
       "      <td>\" Talk to Tony - Radio Show \" Licensed Psychol...</td>\n",
       "      <td>Social Sciences</td>\n",
       "      <td>Dr. Tony Ferretti offers a psychological persp...</td>\n",
       "    </tr>\n",
       "    <tr>\n",
       "      <th>4</th>\n",
       "      <td>\"A Tale of Two Cities\" Audiobook (Audio book)</td>\n",
       "      <td>Literature</td>\n",
       "      <td>\"A Tale of Two Cities\" was first published in ...</td>\n",
       "    </tr>\n",
       "  </tbody>\n",
       "</table>\n",
       "</div>"
      ],
      "text/plain": [
       "                                        podcast_name               subgenre  \\\n",
       "0  ! Football Ringtones, Text Tones, Mail Alerts ...  College & High School   \n",
       "1  ! World's Funniest Ringtones for iPhone & iPad...                Gadgets   \n",
       "2                                 ! iPhone Ringtones            Video Games   \n",
       "3  \" Talk to Tony - Radio Show \" Licensed Psychol...        Social Sciences   \n",
       "4      \"A Tale of Two Cities\" Audiobook (Audio book)             Literature   \n",
       "\n",
       "                                           show_desc  \n",
       "0  Get FREE RINGTONES when you subscribe! Footbal...  \n",
       "1  Get FREE RINGTONES when you subscribe to The W...  \n",
       "2  Get FREE RINGTONES when you subscribe! The Wor...  \n",
       "3  Dr. Tony Ferretti offers a psychological persp...  \n",
       "4  \"A Tale of Two Cities\" was first published in ...  "
      ]
     },
     "execution_count": 77,
     "metadata": {},
     "output_type": "execute_result"
    }
   ],
   "source": [
    "# Join data from full show table to list of shows in the model\n",
    "\n",
    "print(shows_full.shape)\n",
    "print(shows_concat.shape)\n",
    "\n",
    "shows = pd.merge(shows_concat, shows_full[['podcast_name', 'subgenre', 'show_desc']], \n",
    "                 on = ['podcast_name', 'subgenre'], how='left', sort=False)\n",
    "print(shows.shape)\n",
    "assert shows.shape[0] == shows_concat.shape[0]\n",
    "shows.head()"
   ]
  },
  {
   "cell_type": "markdown",
   "metadata": {},
   "source": [
    "# II. Filter"
   ]
  },
  {
   "cell_type": "markdown",
   "metadata": {},
   "source": [
    "### A. Remove shows with no words in the vocab"
   ]
  },
  {
   "cell_type": "code",
   "execution_count": 78,
   "metadata": {
    "collapsed": false
   },
   "outputs": [
    {
     "name": "stdout",
     "output_type": "stream",
     "text": [
      "Number of shows with no words in the vocabulary:  33\n"
     ]
    }
   ],
   "source": [
    "# Identify show that have no words in the vocabulary\n",
    "row_sums = np.array(tdm.sum(axis=1)).flatten() # sum tdm counts across rows (across shows)\n",
    "\n",
    "print(\"Number of shows with no words in the vocabulary: \", \n",
    "      shows.ix[np.where(row_sums == 0)[0],:].shape[0]) "
   ]
  },
  {
   "cell_type": "code",
   "execution_count": 79,
   "metadata": {
    "collapsed": false
   },
   "outputs": [
    {
     "name": "stdout",
     "output_type": "stream",
     "text": [
      "(11762, 3)\n",
      "(11762, 55821)\n"
     ]
    }
   ],
   "source": [
    "# Remove shows with no words in the vocabulary, from both the original shows table\n",
    "# and the TDM\n",
    "shows = shows.ix[np.where(row_sums > 0)[0],:]\n",
    "tdm = tdm[np.where(row_sums > 0)[0],:]\n",
    "print(shows.shape)\n",
    "print(tdm.shape)\n",
    "assert shows.shape[0] == tdm.shape[0]"
   ]
  },
  {
   "cell_type": "markdown",
   "metadata": {},
   "source": [
    "# III. Train LDA Model"
   ]
  },
  {
   "cell_type": "code",
   "execution_count": 21,
   "metadata": {
    "collapsed": false
   },
   "outputs": [
    {
     "name": "stdout",
     "output_type": "stream",
     "text": [
      "Wall time: 5min 45s\n"
     ]
    },
    {
     "data": {
      "text/plain": [
       "<lda.lda.LDA instance at 0x000000000A97FA08>"
      ]
     },
     "execution_count": 21,
     "metadata": {},
     "output_type": "execute_result"
    }
   ],
   "source": [
    "# Create model\n",
    "n_topics = 200 if scenario == 'final' else 56\n",
    "n_iter = 200 if scenario == 'final' else 75\n",
    "model = lda.LDA(n_topics=56, n_iter=n_iter, random_state=42)\n",
    "\n",
    "# Fit model (takes about 20 minutes for 75 iterations\n",
    "%time model.fit(tdm)"
   ]
  },
  {
   "cell_type": "code",
   "execution_count": 22,
   "metadata": {
    "collapsed": false
   },
   "outputs": [
    {
     "data": {
      "text/plain": [
       "['../interim/trained_models/lda/lda_s2.pkl',\n",
       " '../interim/trained_models/lda/lda_s2.pkl_01.npy',\n",
       " '../interim/trained_models/lda/lda_s2.pkl_02.npy',\n",
       " '../interim/trained_models/lda/lda_s2.pkl_03.npy',\n",
       " '../interim/trained_models/lda/lda_s2.pkl_04.npy',\n",
       " '../interim/trained_models/lda/lda_s2.pkl_05.npy',\n",
       " '../interim/trained_models/lda/lda_s2.pkl_06.npy',\n",
       " '../interim/trained_models/lda/lda_s2.pkl_07.npy']"
      ]
     },
     "execution_count": 22,
     "metadata": {},
     "output_type": "execute_result"
    }
   ],
   "source": [
    "# Save Pickle model\n",
    "joblib.dump(model, '../interim/trained_models/lda/lda_' + scenario + samp + '.pkl')\n"
   ]
  },
  {
   "cell_type": "code",
   "execution_count": 50,
   "metadata": {
    "collapsed": false
   },
   "outputs": [],
   "source": [
    "# Load pickled model\n",
    "model = joblib.load('../interim/trained_models/lda/lda_' + scenario + samp + '.pkl')"
   ]
  },
  {
   "cell_type": "markdown",
   "metadata": {},
   "source": [
    "# IV. Exploration"
   ]
  },
  {
   "cell_type": "markdown",
   "metadata": {},
   "source": [
    "## A. Model Words"
   ]
  },
  {
   "cell_type": "code",
   "execution_count": 70,
   "metadata": {
    "collapsed": false
   },
   "outputs": [
    {
     "name": "stdout",
     "output_type": "stream",
     "text": [
      "(200L, 55821L)\n"
     ]
    },
    {
     "data": {
      "text/plain": [
       "[u'Topic 0: wrestling - vince - wrestlemania - reign - hogan - elite',\n",
       " u'Topic 1: whisky - cocktail - cider - bourbon - whiskey - bartender',\n",
       " u'Topic 2: tumblr - kate - narrated - cat - narrator - lane',\n",
       " u'Topic 3: dana - bos - brad - href= - carl - christine',\n",
       " u'Topic 4: marvel - batman - superman - xmen - avenger - captain',\n",
       " u'Topic 5: piano - composer - opera - guitar - jazz - orchestra',\n",
       " u'Topic 6: cyber - hack - hacker - breach - packet - vulnerability',\n",
       " u'Topic 7: vegan - vegetarian - andrea - plantbased - nutrition - jazzy',\n",
       " u'Topic 8: shoe - plastic - cheap - bottle - yard - paint',\n",
       " u'Topic 9: licensed - macleod - incompetechcom - attribution - license - located',\n",
       " u'Topic 10: moral - philosopher - ethic - argues - argument - philosophical',\n",
       " u'Topic 11: brewing - brewery - brew - jimmy - brewer - homebrew',\n",
       " u'Topic 12: julie - darren - joshua - millennial - drunk - alcohol',\n",
       " u'Topic 13: appreciated - directed - tuning - greatly - sponsorship - commentator',\n",
       " u'Topic 14: yeah - okay - basically - somebody - havent - tired',\n",
       " u'Topic 15: fate - chaos - deadly - destruction - desperate - destroy',\n",
       " u'Topic 16: federal - attorney - supreme - congress - lawyer - district',\n",
       " u'Topic 17: poker - casino - bart - wsop - tournament - bet',\n",
       " u'Topic 18: marshall - tyler - proudly - hashtag - miami - obsession',\n",
       " u'Topic 19: fisher - drake - kanye - purity - gregor - grind',\n",
       " u'Topic 20: dental - dentist - rebel - kenobi - dentistry - awakens',\n",
       " u'Topic 21: erin - rachel - nicole - kate - amanda - melissa',\n",
       " u'Topic 22: trading - trader - chart - clay - forex - merlin',\n",
       " u'Topic 23: critic - awardwinning - memoir - journalism - poet - acclaimed',\n",
       " u'Topic 24: murder - criminal - investigation - bigfoot - marco - enforcement',\n",
       " u'Topic 25: monkey - blow - cat - apparently - robot - zombie',\n",
       " u'Topic 26: wellness - trainer - seminar - nutrition - invisible - hanson',\n",
       " u'Topic 27: basketball - recruiting - alabama - georgia - ringtone - kentucky',\n",
       " u'Topic 28: sandra - jess - herbal - herb - dawn - allison',\n",
       " u'Topic 29: jesse - cycling - headphone - gaming - podsafe - license',\n",
       " u'Topic 30: remix - feat - tracklist - armada - rhab - playlist',\n",
       " u'Topic 31: stitcher - tunein - flash - superman - scotty - podbean',\n",
       " u'Topic 32: dice - duke - heather - dirk - franchise - outlier',\n",
       " u'Topic 33: italian - agile - xbox - walker - unlocked - italy',\n",
       " u'Topic 34: joel - mitch - separation - pixel - lawrence - twist',\n",
       " u'Topic 35: slate - emily - shannon - erica - linguist - memberonly',\n",
       " u'Topic 36: gratitude - anger - boundary - mindfulness - shame - kindness',\n",
       " u'Topic 37: jared - basketball - genealogy - lakers - jazz - prank',\n",
       " u'Topic 38: singer - punk - robin - billy - fringe - dylan',\n",
       " u'Topic 39: estate - seller - buyer - flip - ifanboy - realtor',\n",
       " u'Topic 40: scholar - historian - contemporary - literature - examines - oxford',\n",
       " u'Topic 41: disney - walt - disneyland - resort - attraction - mouse',\n",
       " u'Topic 42: championship - playoff - packer - iowa - ohio - matchup',\n",
       " u'Topic 43: donation - bible - tommy - margaret - denton - macarthur',\n",
       " u'Topic 44: spirituality - consciousness - heal - divine - conscious - sacred',\n",
       " u'Topic 45: buddhist - dharma - buddhism - buddha - rus - sangha',\n",
       " u'Topic 46: russian - russia - minister - india - syria - iran',\n",
       " u'Topic 47: workout - muscle - nutrition - crossfit - trainer - supplement',\n",
       " u'Topic 48: headline - insurance - payment - accounting - acquisition - federal',\n",
       " u'Topic 49: nonprofit - nous - dans - pour - fundraising - avec',\n",
       " u'Topic 50: flower - maggie - betting - flowering - jacey - bloom',\n",
       " u'Topic 51: jake - evans - silicon - affordable - rapid - bailey',\n",
       " u'Topic 52: golf - skip - astrology - golfer - cohn - venus',\n",
       " u'Topic 53: youd - hustle - quit - tribe - guidance - newbie',\n",
       " u'Topic 54: affiliate - patch - guild - blizzard - warcraft - buzz',\n",
       " u'Topic 55: anna - drum - bass - groove - starr - flat',\n",
       " u'Topic 56: horror - alison - devil - karen - vampire - scifi',\n",
       " u'Topic 57: comedian - evan - hilarious - standup - dude - gang',\n",
       " u'Topic 58: startup - linkedin - traffic - marketer - advertising - affiliate',\n",
       " u'Topic 59: african - activist - poverty - prison - racism - imhotep',\n",
       " u'Topic 60: linux - boxing - insider - yahoocom - desktop - ubuntu',\n",
       " u'Topic 61: divorce - spouse - parenting - intimacy - hypnosis - extraordinary',\n",
       " u'Topic 62: bryan - geek - mitchell - geeky - metal - bobby',\n",
       " u'Topic 63: spoiler - hotline - downloads - ramblings - poetry - listens',\n",
       " u'Topic 64: marathon - runner - endurance - ironman - triathlon - raider',\n",
       " u'Topic 65: chef - cooking - culinary - cookbook - dish - ingredient',\n",
       " u'Topic 66: transcript - spanish - premium - expression - phrase - vocabulary',\n",
       " u'Topic 67: ohio - seattle - jersey - located - pennsylvania - georgia',\n",
       " u'Topic 68: frequency - graham - imbalance - consciousness - shaman - psychedelic',\n",
       " u'Topic 69: chicken - chocolate - cheese - delicious - cream - butter',\n",
       " u'Topic 70: harry - korean - colin - potter - startup - korea',\n",
       " u'Topic 71: aviation - drone - shownotes - airline - aircraft - plane',\n",
       " u'Topic 72: wrestling - fargo - spreaker - wrestler - junior - iowa',\n",
       " u'Topic 73: roman - emperor - rome - medieval - dynasty - greek',\n",
       " u'Topic 74: ipad - google+ - ipod - beta - mini - keyboard',\n",
       " u'Topic 75: charlie - seth - pacific - travis - cardone - layout',\n",
       " u'Topic 76: nathan - neil - audible - terry - cheese - investigator',\n",
       " u'Topic 77: disorder - adhd - therapist - symptom - deficit - clinical',\n",
       " u'Topic 78: gmailcom - voicemail - nickname - skype - bluray - promos',\n",
       " u'Topic 79: doug - chad - edited - survivalphrasescom - pace - brookings',\n",
       " u'Topic 80: mormon - utah - lindsay - mormonism - tanner - polygamy',\n",
       " u'Topic 81: promo - discount - coupon - checkout - shipping - indesign',\n",
       " u'Topic 82: gallery - painting - exhibition - poem - contemporary - curator',\n",
       " u'Topic 83: cigar - smoke - gavin - utmmedium=social - wallace - hoey',\n",
       " u'Topic 84: tronic - techno - ferro - defected - label - goldman',\n",
       " u'Topic 85: psychic - tarot - intuitive - healer - astrology - awakening',\n",
       " u'Topic 86: lecture - seller - outline - listing - label - ecommerce',\n",
       " u'Topic 87: etsy - jewelry - pinterest - makeup - marly - ceramic',\n",
       " u'Topic 88: pastor - jesus - ministry - christ - bible - scripture',\n",
       " u'Topic 89: oldtimeradiodvdcom - announcer - shipping - superman - dvd - serial',\n",
       " u'Topic 90: bike - motorcycle - rider - riding - cycling - racing',\n",
       " u'Topic 91: bitcoin - economics - geologic - banking - economist - currency',\n",
       " u'Topic 92: stewart - dale - marcus - cliff - toby - seal',\n",
       " u'Topic 93: quilt - sara - linda - susan - fabric - quilting',\n",
       " u'Topic 94: yoga - pose - hatha - vidya - yogi - ayurveda',\n",
       " u'Topic 95: wwwyoutubecomwatch - ross - butterfield - hartman - kole - estate',\n",
       " u'Topic 96: portland - coauthor - susan - shawn - roger - certified',\n",
       " u'Topic 97: gang - throne - dragon - knight - companion - sword',\n",
       " u'Topic 98: patreon - patron - soundcloud - larson - snapchat - pledge',\n",
       " u'Topic 99: celtic - irish - marc - ireland - gunn - scottish',\n",
       " u'Topic 100: caller - michele - sheet - kara - wayne - lauren',\n",
       " u'Topic 101: newsletter - greatness - mastermind - attraction - miracle - robbins',\n",
       " u'Topic 102: farmer - farming - organic - agriculture - sustainable - chicken',\n",
       " u'Topic 103: suggests - typically - regard - obvious - prefer - potentially',\n",
       " u'Topic 104: tennis - gallup - leslie - webcast - ebook - subscriber',\n",
       " u'Topic 105: surgery - pediatric - trauma - acute - cardiac - diagnosis',\n",
       " u'Topic 106: roundtable - instructor - indoor - louis - troy - indie',\n",
       " u'Topic 107: clinical - physician - infection - vaccine - chronic - diabetes',\n",
       " u'Topic 108: brandon - katie - courtesy - performed - astronomy - cummings',\n",
       " u'Topic 109: castle - ipod - subscribing - breakfast - kindle - ipad',\n",
       " u'Topic 110: server - enterprise - stack - microsoft - infrastructure - punchdrunk',\n",
       " u'Topic 111: chiropractic - duration - chiropractor - clinic - accidental - fraser',\n",
       " u'Topic 112: audiobooks - rebecca - kindle - literary - publisher - literature',\n",
       " u'Topic 113: jacob - sponsoring - woolf - improv - moses - exodus',\n",
       " u'Topic 114: toronto - playlist - mixed - diabetes - alberta - retired',\n",
       " u'Topic 115: died - remarkable - arrived - fell - described - unusual',\n",
       " u'Topic 116: pregnancy - mom - parenting - adoption - breastfeeding - toddler',\n",
       " u'Topic 117: suggested - countdown - corsten - anime - permission - ferry',\n",
       " u'Topic 118: hunting - deer - buck - macvoices - turkey - whitetail',\n",
       " u'Topic 119: investor - investing - estate - retirement - income - debt',\n",
       " u'Topic 120: gaming - jeremy - geoff - tower - gamer - brent',\n",
       " u'Topic 121: para - min - portuguese - videocast - reyes - como',\n",
       " u'Topic 122: theatre - broadway - shakespeare - vincent - hamilton - pageant',\n",
       " u'Topic 123: climate - environmental - specie - fuel - solar - marine',\n",
       " u'Topic 124: android - samsung - microsoft - rumor - galaxy - smartphone',\n",
       " u'Topic 125: drew - homeschool - homeschooling - rookie - spotify - bedtime',\n",
       " u'Topic 126: income - entrepreneurship - entrepreneurial - networking - productivity - branding',\n",
       " u'Topic 127: shane - graphic - derek - collected - jocelyn - houston',\n",
       " u'Topic 128: retreat - mindfulness - buddhist - lama - monastery - ajahn',\n",
       " u'Topic 129: developer - programming - javascript - rail - ruby - angular',\n",
       " u'Topic 130: cathy - michelle - omega - marty - alpha - broadcaster',\n",
       " u'Topic 131: clinton - obama - hillary - republican - presidential - democratic',\n",
       " u'Topic 132: garrison - watt - hobby - leigh - kenny - legion',\n",
       " u'Topic 133: ranking - porter - stout - preshow - rubio - anastacia',\n",
       " u'Topic 134: investor - analyst - portfolio - retail - bloomberg - sector',\n",
       " u'Topic 135: commentary - believer - advisor - cow - intended - supremacy',\n",
       " u'Topic 136: summary - bandwidth - submit - cachefly - laporte - audiobook',\n",
       " u'Topic 137: vehicle - automotive - truck - auto - repair - tucker',\n",
       " u'Topic 138: engineering - strategic - consulting - sector - stanford - healthcare',\n",
       " u'Topic 139: sexy - porn - sexuality - erotic - orgasm - kink',\n",
       " u'Topic 140: inspirational - leap - pursue - dot - wasnt - huffington',\n",
       " u'Topic 141: physician - harvard - exam - faculty - admission - academic',\n",
       " u'Topic 142: megan - soccer - ballet - dancer - cory - balancing',\n",
       " u'Topic 143: android - golf - billy - entertaining - glenn - informative',\n",
       " u'Topic 144: dillon - zach - chester - dodge - kurt - shake',\n",
       " u'Topic 145: chuck - lean - dinosaur - jamison - audiblecom - github',\n",
       " u'Topic 146: programme - favourite - softball - luxury - desert - disc',\n",
       " u'Topic 147: classroom - principal - grade - edtech - district - bamradionetwork',\n",
       " u'Topic 148: harris - luke - franklin - nancy - lincoln - jefferson',\n",
       " u'Topic 149: paranormal - investigation - haunted - alien - phenomenon - investigator',\n",
       " u'Topic 150: recommended - objective - suggest - error - consideration - clearly',\n",
       " u'Topic 151: nintendo - pokemon - mario - xbox - playstation - retro',\n",
       " u'Topic 152: jerry - erik - stack - joel - drummer - circuit',\n",
       " u'Topic 153: paleo - nutrition - lowcarb - jimmy - hormone - ketogenic',\n",
       " u'Topic 154: trailer - oscar - nerd - gmail - filmmaker - starring',\n",
       " u'Topic 155: muslim - donate - updated - reminder - lasting - publisher',\n",
       " u'Topic 156: spinnin - edit - luke - laidback - mashup - bootleg',\n",
       " u'Topic 157: fishing - outdoors - liam - horn - outdoor - bass',\n",
       " u'Topic 158: podcasters - libsyn - elsie - speakpipe - license - promotion',\n",
       " u'Topic 159: poetry - prayer - aloud - gratitude - shall - heaven',\n",
       " u'Topic 160: guided - posted - leonard - sample - composed - calm',\n",
       " u'Topic 161: mailbag - woodworking - hire - swift - glen - downloading',\n",
       " u'Topic 162: rabbi - jewish - torah - israel - jew - hebrew',\n",
       " u'Topic 163: atheist - atheism - secular - abortion - unbelievable - minnesota',\n",
       " u'Topic 164: survivor - martial - belt - jiujitsu - spotlight - eddie',\n",
       " u'Topic 165: olympic - championship - ncaa - abbey - belmont - darlene',\n",
       " u'Topic 166: trail - climbing - camping - alaska - climber - summit',\n",
       " u'Topic 167: giveaway - rant - posted - announce - hangout - buddy',\n",
       " u'Topic 168: firefighter - carol - dame - notre - blacksmith - welding',\n",
       " u'Topic 169: nasa - mar - solar - physic - astronomer - galaxy',\n",
       " u'Topic 170: installment - delve - tuned - longtime - trio - entertaining',\n",
       " u'Topic 171: pagan - witch - ritual - blaze - weekday - magick',\n",
       " u'Topic 172: sugar - vitamin - supplement - holistic - nutrient - protein',\n",
       " u'Topic 173: kyle - architecture - architect - jamie - refid=stpr - fid=',\n",
       " u'Topic 174: sermon - delivered - miracle - minister - oklahoma - caroline',\n",
       " u'Topic 175: yarn - knitting - sock - knit - fiber - ravelry',\n",
       " u'Topic 176: dungeon - dragon - kickstarter - cthulhu - filipino - roleplaying',\n",
       " u'Topic 177: squarespace - clutter - ebay - audible - mattress - apron',\n",
       " u'Topic 178: false - cambria - minorlatin - xnone - fontfamily - tablemsonormaltable',\n",
       " u'Topic 179: archive - lawyer - masonic - samurai - chase - robby',\n",
       " u'Topic 180: navy - marine - bragg - naval - melvyn - soldier',\n",
       " u'Topic 181: draft - jet - patriot - cowboy - quarterback - matchup',\n",
       " u'Topic 182: wine - grape - tasting - winery - vineyard - laurie',\n",
       " u'Topic 183: larry - cruise - sailing - buzz - boat - caribbean',\n",
       " u'Topic 184: russell - webinar - adhd - productivity - tara - inbox',\n",
       " u'Topic 185: johnny - outro - spencer - underground - hayes - ie=utf',\n",
       " u'Topic 186: rating - clicking - hawaii - panic - kelli - capitol',\n",
       " u'Topic 187: racing - ford - automotive - motor - mcelroy - jeep',\n",
       " u'Topic 188: deck - oakenfold - trance - perfecto - commander - prix',\n",
       " u'Topic 189: firearm - preparedness - gun - prepper - preppers - tactical',\n",
       " u'Topic 190: traveler - amateur - destination - thailand - spain - monocle',\n",
       " u'Topic 191: skeptic - destiny - australian - nurse - sydney - derek',\n",
       " u'Topic 192: pete - thompson - nate - danny - gilbert - howard',\n",
       " u'Topic 193: baseball - keith - pitcher - yankee - cub - mets',\n",
       " u'Topic 194: photography - photographer - lens - adobe - photoshop - lightroom',\n",
       " u'Topic 195: muslim - islam - allah - powershell - islamic - prophet',\n",
       " u'Topic 196: aired - holmes - perry - sherlock - mason - detective',\n",
       " u'Topic 197: copyright - reserved - editing - respective - strictly - prohibited',\n",
       " u'Topic 198: verse - alexander - translation - mantra - swami - krishna',\n",
       " u'Topic 199: bible - jesus - christianity - catholic - bishop - theology']"
      ]
     },
     "execution_count": 70,
     "metadata": {},
     "output_type": "execute_result"
    }
   ],
   "source": [
    "# Most Important Words for Each Topic\n",
    "topic_words = model.topic_word_\n",
    "print(topic_words.shape)\n",
    "\n",
    "top_n = 6\n",
    "topic_names_temp = []\n",
    "for ii, dist in enumerate(topic_words):\n",
    "    top_n_words = np.array(feature_names)[np.argsort(dist)][:-(top_n+1):-1]\n",
    "    topic_names_temp.append('Topic ' + str(ii) + ': ' + ' - '.join(top_n_words.flatten()))\n",
    "    #print('Topic {}:  {}'.format(ii, ' - '.join(topic_names_temp)))\n",
    "    \n",
    "topic_names_temp\n",
    "    "
   ]
  },
  {
   "cell_type": "markdown",
   "metadata": {},
   "source": [
    "## B. Show Topics"
   ]
  },
  {
   "cell_type": "code",
   "execution_count": 93,
   "metadata": {
    "collapsed": false
   },
   "outputs": [
    {
     "name": "stdout",
     "output_type": "stream",
     "text": [
      "(11762L, 200L)\n"
     ]
    }
   ],
   "source": [
    "# Best Fitting Episodes for Each Topic\n",
    "show_topics = model.doc_topic_\n",
    "print(show_topics.shape)\n",
    "\n",
    "# Get closest topic for each show\n",
    "show_closest_topic = np.array(topic_names_temp)[show_topics.argmax(1)]\n",
    "# Get probability of closest topic for each show\n",
    "show_closest_topic_prob = show_topics.max(1)\n",
    "\n",
    "# Create data frame with the above two vectors\n",
    "show_closest_topic = pd.DataFrame({'usub': show_closest_topic,\n",
    "                                   'usub_prob': show_closest_topic_prob})\n",
    "# Add in the full show table\n",
    "show_closest_topic = pd.concat([show_closest_topic, shows], axis=1)\n",
    "# Extract the ID from the usub\n",
    "show_closest_topic['usub_id'] = show_closest_topic['usub'].str.extract('(Topic [0-9]{1,2})').str.replace('Topic ', '')\n",
    "\n",
    "# Reorder and rename columns\n",
    "show_closest_topic = show_closest_topic[['usub_id', 'usub', 'usub_prob', 'podcast_name', 'subgenre', 'show_desc']]\n",
    "show_closest_topic = show_closest_topic.rename(columns={'subgenre': 'isub'})\n"
   ]
  },
  {
   "cell_type": "code",
   "execution_count": 72,
   "metadata": {
    "collapsed": false
   },
   "outputs": [
    {
     "data": {
      "text/html": [
       "<div>\n",
       "<table border=\"1\" class=\"dataframe\">\n",
       "  <thead>\n",
       "    <tr style=\"text-align: right;\">\n",
       "      <th></th>\n",
       "      <th>usub_id</th>\n",
       "      <th>usub</th>\n",
       "      <th>usub_prob</th>\n",
       "      <th>podcast_name</th>\n",
       "      <th>isub</th>\n",
       "      <th>show_desc</th>\n",
       "    </tr>\n",
       "  </thead>\n",
       "  <tbody>\n",
       "    <tr>\n",
       "      <th>0</th>\n",
       "      <td>27</td>\n",
       "      <td>Topic 27: basketball - recruiting - alabama - ...</td>\n",
       "      <td>0.702484</td>\n",
       "      <td>! Football Ringtones, Text Tones, Mail Alerts ...</td>\n",
       "      <td>College &amp; High School</td>\n",
       "      <td>Get FREE RINGTONES when you subscribe! Footbal...</td>\n",
       "    </tr>\n",
       "    <tr>\n",
       "      <th>1</th>\n",
       "      <td>27</td>\n",
       "      <td>Topic 27: basketball - recruiting - alabama - ...</td>\n",
       "      <td>0.643662</td>\n",
       "      <td>! World's Funniest Ringtones for iPhone &amp; iPad...</td>\n",
       "      <td>Gadgets</td>\n",
       "      <td>Get FREE RINGTONES when you subscribe to The W...</td>\n",
       "    </tr>\n",
       "    <tr>\n",
       "      <th>2</th>\n",
       "      <td>27</td>\n",
       "      <td>Topic 27: basketball - recruiting - alabama - ...</td>\n",
       "      <td>0.675000</td>\n",
       "      <td>! iPhone Ringtones</td>\n",
       "      <td>Video Games</td>\n",
       "      <td>Get FREE RINGTONES when you subscribe! The Wor...</td>\n",
       "    </tr>\n",
       "    <tr>\n",
       "      <th>3</th>\n",
       "      <td>77</td>\n",
       "      <td>Topic 77: disorder - adhd - therapist - sympto...</td>\n",
       "      <td>0.237685</td>\n",
       "      <td>\" Talk to Tony - Radio Show \" Licensed Psychol...</td>\n",
       "      <td>Social Sciences</td>\n",
       "      <td>Dr. Tony Ferretti offers a psychological persp...</td>\n",
       "    </tr>\n",
       "    <tr>\n",
       "      <th>4</th>\n",
       "      <td>17</td>\n",
       "      <td>Topic 173: kyle - architecture - architect - j...</td>\n",
       "      <td>0.382143</td>\n",
       "      <td>\"A Tale of Two Cities\" Audiobook (Audio book)</td>\n",
       "      <td>Literature</td>\n",
       "      <td>\"A Tale of Two Cities\" was first published in ...</td>\n",
       "    </tr>\n",
       "  </tbody>\n",
       "</table>\n",
       "</div>"
      ],
      "text/plain": [
       "  usub_id                                               usub  usub_prob  \\\n",
       "0      27  Topic 27: basketball - recruiting - alabama - ...   0.702484   \n",
       "1      27  Topic 27: basketball - recruiting - alabama - ...   0.643662   \n",
       "2      27  Topic 27: basketball - recruiting - alabama - ...   0.675000   \n",
       "3      77  Topic 77: disorder - adhd - therapist - sympto...   0.237685   \n",
       "4      17  Topic 173: kyle - architecture - architect - j...   0.382143   \n",
       "\n",
       "                                        podcast_name                   isub  \\\n",
       "0  ! Football Ringtones, Text Tones, Mail Alerts ...  College & High School   \n",
       "1  ! World's Funniest Ringtones for iPhone & iPad...                Gadgets   \n",
       "2                                 ! iPhone Ringtones            Video Games   \n",
       "3  \" Talk to Tony - Radio Show \" Licensed Psychol...        Social Sciences   \n",
       "4      \"A Tale of Two Cities\" Audiobook (Audio book)             Literature   \n",
       "\n",
       "                                           show_desc  \n",
       "0  Get FREE RINGTONES when you subscribe! Footbal...  \n",
       "1  Get FREE RINGTONES when you subscribe to The W...  \n",
       "2  Get FREE RINGTONES when you subscribe! The Wor...  \n",
       "3  Dr. Tony Ferretti offers a psychological persp...  \n",
       "4  \"A Tale of Two Cities\" was first published in ...  "
      ]
     },
     "execution_count": 72,
     "metadata": {},
     "output_type": "execute_result"
    }
   ],
   "source": [
    "show_closest_topic.head()"
   ]
  },
  {
   "cell_type": "code",
   "execution_count": 80,
   "metadata": {
    "collapsed": false
   },
   "outputs": [],
   "source": [
    "# Export to CSV\n",
    "show_closest_topic.to_csv('../output/' + scenario + '_shows_and_closest_topics.csv', index=False)"
   ]
  },
  {
   "cell_type": "code",
   "execution_count": 81,
   "metadata": {
    "collapsed": false
   },
   "outputs": [],
   "source": [
    "pd.DataFrame(model.doc_topic_).to_csv('../output/' + scenario + '_doctopics.csv', index=False)"
   ]
  }
 ],
 "metadata": {
  "kernelspec": {
   "display_name": "Python 2",
   "language": "python",
   "name": "python2"
  },
  "language_info": {
   "codemirror_mode": {
    "name": "ipython",
    "version": 2
   },
   "file_extension": ".py",
   "mimetype": "text/x-python",
   "name": "python",
   "nbconvert_exporter": "python",
   "pygments_lexer": "ipython2",
   "version": "2.7.10"
  }
 },
 "nbformat": 4,
 "nbformat_minor": 0
}
