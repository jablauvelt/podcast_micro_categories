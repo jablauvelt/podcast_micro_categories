{
 "cells": [
  {
   "cell_type": "markdown",
   "metadata": {},
   "source": [
    "# Podcast Micro-Categories\n",
    "### Exploratory Notebook\n",
    "### Unsupervised LDA"
   ]
  },
  {
   "cell_type": "code",
   "execution_count": 28,
   "metadata": {
    "collapsed": true
   },
   "outputs": [],
   "source": [
    "from __future__ import print_function\n",
    "from __future__ import division\n",
    "\n",
    "import gc\n",
    "import os\n",
    "import time\n",
    "\n",
    "import numpy as np\n",
    "import pandas as pd\n",
    "import scipy\n",
    "\n",
    "import lda\n",
    "\n",
    "import re\n",
    "\n",
    "from sklearn.externals import joblib\n"
   ]
  },
  {
   "cell_type": "code",
   "execution_count": 29,
   "metadata": {
    "collapsed": true
   },
   "outputs": [],
   "source": [
    "samp = False\n",
    "samp = '_samp' if samp else ''"
   ]
  },
  {
   "cell_type": "markdown",
   "metadata": {},
   "source": [
    "# I. Load"
   ]
  },
  {
   "cell_type": "markdown",
   "metadata": {},
   "source": [
    "### A. Load Files"
   ]
  },
  {
   "cell_type": "code",
   "execution_count": 30,
   "metadata": {
    "collapsed": true
   },
   "outputs": [],
   "source": [
    "# Define scenario number (s[1-6])\n",
    "scenario = 's1'"
   ]
  },
  {
   "cell_type": "code",
   "execution_count": 31,
   "metadata": {
    "collapsed": false
   },
   "outputs": [
    {
     "name": "stdout",
     "output_type": "stream",
     "text": [
      "Episode Term Document Matrix Shape: 11,795 shows x  55,821 features\n",
      "Episode Table Shape: 11,795 shows x  2 columns (show name and concatenated description)\n"
     ]
    }
   ],
   "source": [
    "# 1. Load TDM\n",
    "loader = np.load('../interim/' + scenario + '_tdm' + samp + '.npz')\n",
    "tdm = scipy.sparse.csr_matrix((loader['data'], loader['indices'], loader['indptr']),\n",
    "                      shape=loader['shape'])\n",
    "\n",
    "# 2. Load feature names\n",
    "feature_names = np.array(pd.read_pickle('../interim/' + scenario + '_names' + samp + '.p'))\n",
    "\n",
    "# 3. Load show names and subgenres that still remain\n",
    "shows_concat = pd.read_pickle('../interim/' + scenario + '_shows_concat' + samp + '.p')\n",
    "\n",
    "# 4. Load full show table so that summaries can be pulled in\n",
    "shows_full = pd.read_pickle('../interim/pods' + samp + '.p')\n",
    "\n",
    "# 5. Print shapes and check assertions\n",
    "print(\"Episode Term Document Matrix Shape: {:,} shows x  {:,} features\".format(tdm.shape[0], tdm.shape[1]))\n",
    "print(\"Episode Table Shape: {:,} shows x  {:,} columns (show name and concatenated description)\".format(shows_concat.shape[0], shows_concat.shape[1]))\n",
    "assert tdm.shape[0] == shows_concat.shape[0]\n",
    "assert len(feature_names) == tdm.shape[1]"
   ]
  },
  {
   "cell_type": "markdown",
   "metadata": {},
   "source": [
    "### B. Remove duplicates "
   ]
  },
  {
   "cell_type": "code",
   "execution_count": 32,
   "metadata": {
    "collapsed": false
   },
   "outputs": [
    {
     "name": "stdout",
     "output_type": "stream",
     "text": [
      "Number of dupes removed:  (151, 18)\n",
      "Number of shows remaining:  (12319, 18)\n"
     ]
    }
   ],
   "source": [
    "# Remove duplicates from full show list (need to handle these earlier on in other scripts)\n",
    "dupes = shows_full.groupby(['podcast_name', 'subgenre']).filter(lambda group: len(group) > 1).sort('podcast_name')\n",
    "print(\"Number of dupes removed: \", dupes.shape)\n",
    "shows_full = shows_full.drop_duplicates(['podcast_name', 'subgenre'])\n",
    "print(\"Number of shows remaining: \", shows_full.shape)"
   ]
  },
  {
   "cell_type": "markdown",
   "metadata": {},
   "source": [
    "### C. Join features from full show table to de-duplicated shows"
   ]
  },
  {
   "cell_type": "code",
   "execution_count": 33,
   "metadata": {
    "collapsed": false
   },
   "outputs": [
    {
     "name": "stdout",
     "output_type": "stream",
     "text": [
      "(12319, 18)\n",
      "(11795, 2)\n",
      "(11795, 3)\n"
     ]
    },
    {
     "data": {
      "text/html": [
       "<div>\n",
       "<table border=\"1\" class=\"dataframe\">\n",
       "  <thead>\n",
       "    <tr style=\"text-align: right;\">\n",
       "      <th></th>\n",
       "      <th>podcast_name</th>\n",
       "      <th>subgenre</th>\n",
       "      <th>show_desc</th>\n",
       "    </tr>\n",
       "  </thead>\n",
       "  <tbody>\n",
       "    <tr>\n",
       "      <th>0</th>\n",
       "      <td>! Football Ringtones, Text Tones, Mail Alerts ...</td>\n",
       "      <td>College &amp; High School</td>\n",
       "      <td>Get FREE RINGTONES when you subscribe! Footbal...</td>\n",
       "    </tr>\n",
       "    <tr>\n",
       "      <th>1</th>\n",
       "      <td>! World's Funniest Ringtones for iPhone &amp; iPad...</td>\n",
       "      <td>Gadgets</td>\n",
       "      <td>Get FREE RINGTONES when you subscribe to The W...</td>\n",
       "    </tr>\n",
       "    <tr>\n",
       "      <th>2</th>\n",
       "      <td>! iPhone Ringtones</td>\n",
       "      <td>Video Games</td>\n",
       "      <td>Get FREE RINGTONES when you subscribe! The Wor...</td>\n",
       "    </tr>\n",
       "    <tr>\n",
       "      <th>3</th>\n",
       "      <td>\" Talk to Tony - Radio Show \" Licensed Psychol...</td>\n",
       "      <td>Social Sciences</td>\n",
       "      <td>Dr. Tony Ferretti offers a psychological persp...</td>\n",
       "    </tr>\n",
       "    <tr>\n",
       "      <th>4</th>\n",
       "      <td>\"A Tale of Two Cities\" Audiobook (Audio book)</td>\n",
       "      <td>Literature</td>\n",
       "      <td>\"A Tale of Two Cities\" was first published in ...</td>\n",
       "    </tr>\n",
       "  </tbody>\n",
       "</table>\n",
       "</div>"
      ],
      "text/plain": [
       "                                        podcast_name               subgenre  \\\n",
       "0  ! Football Ringtones, Text Tones, Mail Alerts ...  College & High School   \n",
       "1  ! World's Funniest Ringtones for iPhone & iPad...                Gadgets   \n",
       "2                                 ! iPhone Ringtones            Video Games   \n",
       "3  \" Talk to Tony - Radio Show \" Licensed Psychol...        Social Sciences   \n",
       "4      \"A Tale of Two Cities\" Audiobook (Audio book)             Literature   \n",
       "\n",
       "                                           show_desc  \n",
       "0  Get FREE RINGTONES when you subscribe! Footbal...  \n",
       "1  Get FREE RINGTONES when you subscribe to The W...  \n",
       "2  Get FREE RINGTONES when you subscribe! The Wor...  \n",
       "3  Dr. Tony Ferretti offers a psychological persp...  \n",
       "4  \"A Tale of Two Cities\" was first published in ...  "
      ]
     },
     "execution_count": 33,
     "metadata": {},
     "output_type": "execute_result"
    }
   ],
   "source": [
    "# Join data from full show table to list of shows in the model\n",
    "\n",
    "print(shows_full.shape)\n",
    "print(shows_concat.shape)\n",
    "\n",
    "shows = pd.merge(shows_concat, shows_full[['podcast_name', 'subgenre', 'show_desc']], \n",
    "                 on = ['podcast_name', 'subgenre'], how='left', sort=False)\n",
    "print(shows.shape)\n",
    "assert shows.shape[0] == shows_concat.shape[0]\n",
    "shows.head()"
   ]
  },
  {
   "cell_type": "markdown",
   "metadata": {},
   "source": [
    "# II. Filter"
   ]
  },
  {
   "cell_type": "markdown",
   "metadata": {},
   "source": [
    "### A. Remove shows with no words in the vocab"
   ]
  },
  {
   "cell_type": "code",
   "execution_count": 34,
   "metadata": {
    "collapsed": false
   },
   "outputs": [
    {
     "name": "stdout",
     "output_type": "stream",
     "text": [
      "Number of shows with no words in the vocabulary:  33\n"
     ]
    }
   ],
   "source": [
    "# Identify show that have no words in the vocabulary\n",
    "row_sums = np.array(tdm.sum(axis=1)).flatten() # sum tdm counts across rows (across shows)\n",
    "\n",
    "print(\"Number of shows with no words in the vocabulary: \", \n",
    "      shows.ix[np.where(row_sums == 0)[0],:].shape[0]) "
   ]
  },
  {
   "cell_type": "code",
   "execution_count": 35,
   "metadata": {
    "collapsed": false
   },
   "outputs": [
    {
     "name": "stdout",
     "output_type": "stream",
     "text": [
      "(11762, 3)\n",
      "(11762, 55821)\n"
     ]
    }
   ],
   "source": [
    "# Remove shows with no words in the vocabulary, from both the original shows table\n",
    "# and the TDM\n",
    "shows = shows.ix[np.where(row_sums > 0)[0],:]\n",
    "tdm = tdm[np.where(row_sums > 0)[0],:]\n",
    "print(shows.shape)\n",
    "print(tdm.shape)\n",
    "assert shows.shape[0] == tdm.shape[0]"
   ]
  },
  {
   "cell_type": "markdown",
   "metadata": {},
   "source": [
    "# III. Train LDA Model"
   ]
  },
  {
   "cell_type": "code",
   "execution_count": 21,
   "metadata": {
    "collapsed": false
   },
   "outputs": [
    {
     "name": "stdout",
     "output_type": "stream",
     "text": [
      "Wall time: 5min 45s\n"
     ]
    },
    {
     "data": {
      "text/plain": [
       "<lda.lda.LDA instance at 0x000000000A97FA08>"
      ]
     },
     "execution_count": 21,
     "metadata": {},
     "output_type": "execute_result"
    }
   ],
   "source": [
    "# Create model\n",
    "model = lda.LDA(n_topics=56, n_iter=75, random_state=42)\n",
    "\n",
    "# Fit model (takes about 20 minutes for 75 iterations\n",
    "%time model.fit(tdm)"
   ]
  },
  {
   "cell_type": "code",
   "execution_count": 22,
   "metadata": {
    "collapsed": false
   },
   "outputs": [
    {
     "data": {
      "text/plain": [
       "['../interim/trained_models/lda/lda_s2.pkl',\n",
       " '../interim/trained_models/lda/lda_s2.pkl_01.npy',\n",
       " '../interim/trained_models/lda/lda_s2.pkl_02.npy',\n",
       " '../interim/trained_models/lda/lda_s2.pkl_03.npy',\n",
       " '../interim/trained_models/lda/lda_s2.pkl_04.npy',\n",
       " '../interim/trained_models/lda/lda_s2.pkl_05.npy',\n",
       " '../interim/trained_models/lda/lda_s2.pkl_06.npy',\n",
       " '../interim/trained_models/lda/lda_s2.pkl_07.npy']"
      ]
     },
     "execution_count": 22,
     "metadata": {},
     "output_type": "execute_result"
    }
   ],
   "source": [
    "# Save Pickle model\n",
    "joblib.dump(model, '../interim/trained_models/lda/lda_' + scenario + samp + '.pkl')\n"
   ]
  },
  {
   "cell_type": "code",
   "execution_count": 36,
   "metadata": {
    "collapsed": false
   },
   "outputs": [],
   "source": [
    "# Load pickled model\n",
    "model = joblib.load('../interim/trained_models/lda/lda_' + scenario + samp + '.pkl')"
   ]
  },
  {
   "cell_type": "markdown",
   "metadata": {},
   "source": [
    "# IV. Exploration"
   ]
  },
  {
   "cell_type": "markdown",
   "metadata": {},
   "source": [
    "## A. Model Words"
   ]
  },
  {
   "cell_type": "code",
   "execution_count": 37,
   "metadata": {
    "collapsed": false
   },
   "outputs": [
    {
     "name": "stdout",
     "output_type": "stream",
     "text": [
      "(56L, 55821L)\n"
     ]
    },
    {
     "data": {
      "text/plain": [
       "[u'Topic 0: linux - alien - conspiracy - creature - underground - graham',\n",
       " u'Topic 1: nathan - audible - dana - russell - bandwidth - bos',\n",
       " u'Topic 2: stitcher - rating - clicking - soundcloud - tunein - libsyn',\n",
       " u'Topic 3: theatre - performed - singer - piano - composer - jazz',\n",
       " u'Topic 4: spoiler - marvel - batman - trailer - superman - deck',\n",
       " u'Topic 5: basketball - iowa - classroom - recruiting - georgia - ohio',\n",
       " u'Topic 6: comedian - martial - boxing - pete - larson - joey',\n",
       " u'Topic 7: draft - baseball - clay - playoff - basketball - packer',\n",
       " u'Topic 8: motorcycle - automotive - vehicle - racing - auto - motor',\n",
       " u'Topic 9: disney - walt - disneyland - cruise - resort - mouse',\n",
       " u'Topic 10: trading - chart - trader - currency - korean - forex',\n",
       " u'Topic 11: muslim - donate - islamic - publisher - updated - reminder',\n",
       " u'Topic 12: federal - startup - commentary - analyst - sector - regulation',\n",
       " u'Topic 13: nonprofit - certified - coauthor - faculty - harvard - engineering',\n",
       " u'Topic 14: android - affiliate - jimmy - lowcarb - microsoft - buzz',\n",
       " u'Topic 15: chef - cooking - cheese - chicken - dish - delicious',\n",
       " u'Topic 16: wine - brewing - italian - brewery - mitch - brew',\n",
       " u'Topic 17: estate - investor - investing - income - debt - retirement',\n",
       " u'Topic 18: poker - kate - divorce - spouse - parenting - erin',\n",
       " u'Topic 19: climate - argues - scholar - oxford - moral - philosopher',\n",
       " u'Topic 20: surgery - infection - clinical - guideline - acute - virus',\n",
       " u'Topic 21: false - clinton - obama - hillary - slate - republican',\n",
       " u'Topic 22: oldtimeradiodvdcom - cigar - aired - dental - announcer - shipping',\n",
       " u'Topic 23: paranormal - psychic - tarot - astrology - healer - witch',\n",
       " u'Topic 24: marathon - workout - runner - vegan - nutrition - muscle',\n",
       " u'Topic 25: atheist - karen - survivor - heather - susan - michelle',\n",
       " u'Topic 26: emily - megan - katie - anna - girlfriend - ballet',\n",
       " u'Topic 27: celtic - irish - ireland - quilt - marc - flower',\n",
       " u'Topic 28: nutrition - paleo - supplement - wellness - sugar - protein',\n",
       " u'Topic 29: lecture - navy - outline - marine - combat - admission',\n",
       " u'Topic 30: photography - photographer - wwwyoutubecomwatch - adobe - lens - photoshop',\n",
       " u'Topic 31: youd - instructor - indoor - calendar - homeschool - shane',\n",
       " u'Topic 32: yarn - knitting - sock - knit - fiber - ravelry',\n",
       " u'Topic 33: transcript - newsletter - spanish - premium - expression - softball',\n",
       " u'Topic 34: income - linkedin - seller - startup - productivity - entrepreneurship',\n",
       " u'Topic 35: developer - chuck - agile - programming - server - bitcoin',\n",
       " u'Topic 36: rabbi - jewish - torah - sermon - israel - mormon',\n",
       " u'Topic 37: wasnt - basically - yeah - unfortunately - suggested - yesterday',\n",
       " u'Topic 38: remix - feat - spinnin - playlist - edit - tennis',\n",
       " u'Topic 39: poetry - poem - edited - aloud - excerpt - narrated',\n",
       " u'Topic 40: yoga - buddhist - dharma - retreat - buddhism - mindfulness',\n",
       " u'Topic 41: conscious - gratitude - miracle - consciousness - heal - attraction',\n",
       " u'Topic 42: german - historian - contemporary - gallery - alexander - painting',\n",
       " u'Topic 43: gaming - nintendo - dragon - dungeon - kickstarter - guild',\n",
       " u'Topic 44: wrestling - geek - horror - gang - johnny - nerd',\n",
       " u'Topic 45: gmailcom - patreon - voicemail - donation - golf - patron',\n",
       " u'Topic 46: directed - nous - olympic - abbey - dans - pour',\n",
       " u'Topic 47: murder - porn - prison - criminal - killed - african',\n",
       " u'Topic 48: ipad - promo - google+ - macvoices - neil - ipod',\n",
       " u'Topic 49: archive - aviation - drone - nickname - copyright - favourite',\n",
       " u'Topic 50: hunting - fishing - deer - buck - outdoors - trail',\n",
       " u'Topic 51: adhd - disorder - clinical - summary - symptom - therapist',\n",
       " u'Topic 52: larry - ross - jesse - doug - roger - colin',\n",
       " u'Topic 53: bike - cycling - rider - riding - racing - courtesy',\n",
       " u'Topic 54: farmer - organic - farming - sustainable - seed - agriculture',\n",
       " u'Topic 55: jesus - bible - pastor - ministry - christ - prayer']"
      ]
     },
     "execution_count": 37,
     "metadata": {},
     "output_type": "execute_result"
    }
   ],
   "source": [
    "# Most Important Words for Each Topic\n",
    "topic_words = model.topic_word_\n",
    "print(topic_words.shape)\n",
    "\n",
    "top_n = 6\n",
    "topic_names_temp = []\n",
    "for ii, dist in enumerate(topic_words):\n",
    "    top_n_words = np.array(feature_names)[np.argsort(dist)][:-(top_n+1):-1]\n",
    "    topic_names_temp.append('Topic ' + str(ii) + ': ' + ' - '.join(top_n_words.flatten()))\n",
    "    #print('Topic {}:  {}'.format(ii, ' - '.join(topic_names_temp)))\n",
    "    \n",
    "topic_names_temp\n",
    "    "
   ]
  },
  {
   "cell_type": "markdown",
   "metadata": {},
   "source": [
    "## B. Show Topics"
   ]
  },
  {
   "cell_type": "code",
   "execution_count": 38,
   "metadata": {
    "collapsed": false
   },
   "outputs": [
    {
     "name": "stdout",
     "output_type": "stream",
     "text": [
      "(11762L, 56L)\n"
     ]
    }
   ],
   "source": [
    "# Best Fitting Episodes for Each Topic\n",
    "show_topics = model.doc_topic_\n",
    "print(show_topics.shape)\n",
    "\n",
    "# Get closest topic for each show\n",
    "show_closest_topic = np.array(topic_names_temp)[show_topics.argmax(1)]\n",
    "# Get probability of closest topic for each show\n",
    "show_closest_topic_prob = show_topics.max(1)\n",
    "\n",
    "# Create data frame with the above two vectors\n",
    "show_closest_topic = pd.DataFrame({'usub': show_closest_topic,\n",
    "                                   'usub_prob': show_closest_topic_prob})\n",
    "# Add in the full show table\n",
    "show_closest_topic = pd.concat([show_closest_topic, shows], axis=1)\n",
    "# Extract the ID from the usub\n",
    "show_closest_topic['usub_id'] = show_closest_topic['usub'].str.extract('(Topic [0-9]{1,2})').str.replace('Topic ', '')\n",
    "\n",
    "# Reorder and rename columns\n",
    "show_closest_topic = show_closest_topic[['usub_id', 'usub', 'usub_prob', 'podcast_name', 'subgenre', 'show_desc']]\n",
    "show_closest_topic = show_closest_topic.rename(columns={'subgenre': 'isub'})\n"
   ]
  },
  {
   "cell_type": "code",
   "execution_count": 39,
   "metadata": {
    "collapsed": false
   },
   "outputs": [
    {
     "data": {
      "text/html": [
       "<div>\n",
       "<table border=\"1\" class=\"dataframe\">\n",
       "  <thead>\n",
       "    <tr style=\"text-align: right;\">\n",
       "      <th></th>\n",
       "      <th>usub_id</th>\n",
       "      <th>usub</th>\n",
       "      <th>usub_prob</th>\n",
       "      <th>podcast_name</th>\n",
       "      <th>isub</th>\n",
       "      <th>show_desc</th>\n",
       "    </tr>\n",
       "  </thead>\n",
       "  <tbody>\n",
       "    <tr>\n",
       "      <th>0</th>\n",
       "      <td>1</td>\n",
       "      <td>Topic 1: nathan - audible - dana - russell - b...</td>\n",
       "      <td>0.826057</td>\n",
       "      <td>! Football Ringtones, Text Tones, Mail Alerts ...</td>\n",
       "      <td>College &amp; High School</td>\n",
       "      <td>Get FREE RINGTONES when you subscribe! Footbal...</td>\n",
       "    </tr>\n",
       "    <tr>\n",
       "      <th>1</th>\n",
       "      <td>1</td>\n",
       "      <td>Topic 1: nathan - audible - dana - russell - b...</td>\n",
       "      <td>0.926989</td>\n",
       "      <td>! World's Funniest Ringtones for iPhone &amp; iPad...</td>\n",
       "      <td>Gadgets</td>\n",
       "      <td>Get FREE RINGTONES when you subscribe to The W...</td>\n",
       "    </tr>\n",
       "    <tr>\n",
       "      <th>2</th>\n",
       "      <td>1</td>\n",
       "      <td>Topic 1: nathan - audible - dana - russell - b...</td>\n",
       "      <td>0.800170</td>\n",
       "      <td>! iPhone Ringtones</td>\n",
       "      <td>Video Games</td>\n",
       "      <td>Get FREE RINGTONES when you subscribe! The Wor...</td>\n",
       "    </tr>\n",
       "    <tr>\n",
       "      <th>3</th>\n",
       "      <td>51</td>\n",
       "      <td>Topic 51: adhd - disorder - clinical - summary...</td>\n",
       "      <td>0.586175</td>\n",
       "      <td>\" Talk to Tony - Radio Show \" Licensed Psychol...</td>\n",
       "      <td>Social Sciences</td>\n",
       "      <td>Dr. Tony Ferretti offers a psychological persp...</td>\n",
       "    </tr>\n",
       "    <tr>\n",
       "      <th>4</th>\n",
       "      <td>39</td>\n",
       "      <td>Topic 39: poetry - poem - edited - aloud - exc...</td>\n",
       "      <td>0.461207</td>\n",
       "      <td>\"A Tale of Two Cities\" Audiobook (Audio book)</td>\n",
       "      <td>Literature</td>\n",
       "      <td>\"A Tale of Two Cities\" was first published in ...</td>\n",
       "    </tr>\n",
       "  </tbody>\n",
       "</table>\n",
       "</div>"
      ],
      "text/plain": [
       "  usub_id                                               usub  usub_prob  \\\n",
       "0       1  Topic 1: nathan - audible - dana - russell - b...   0.826057   \n",
       "1       1  Topic 1: nathan - audible - dana - russell - b...   0.926989   \n",
       "2       1  Topic 1: nathan - audible - dana - russell - b...   0.800170   \n",
       "3      51  Topic 51: adhd - disorder - clinical - summary...   0.586175   \n",
       "4      39  Topic 39: poetry - poem - edited - aloud - exc...   0.461207   \n",
       "\n",
       "                                        podcast_name                   isub  \\\n",
       "0  ! Football Ringtones, Text Tones, Mail Alerts ...  College & High School   \n",
       "1  ! World's Funniest Ringtones for iPhone & iPad...                Gadgets   \n",
       "2                                 ! iPhone Ringtones            Video Games   \n",
       "3  \" Talk to Tony - Radio Show \" Licensed Psychol...        Social Sciences   \n",
       "4      \"A Tale of Two Cities\" Audiobook (Audio book)             Literature   \n",
       "\n",
       "                                           show_desc  \n",
       "0  Get FREE RINGTONES when you subscribe! Footbal...  \n",
       "1  Get FREE RINGTONES when you subscribe to The W...  \n",
       "2  Get FREE RINGTONES when you subscribe! The Wor...  \n",
       "3  Dr. Tony Ferretti offers a psychological persp...  \n",
       "4  \"A Tale of Two Cities\" was first published in ...  "
      ]
     },
     "execution_count": 39,
     "metadata": {},
     "output_type": "execute_result"
    }
   ],
   "source": [
    "show_closest_topic.head()"
   ]
  },
  {
   "cell_type": "code",
   "execution_count": 40,
   "metadata": {
    "collapsed": false
   },
   "outputs": [],
   "source": [
    "# Export to CSV\n",
    "show_closest_topic.to_csv('../output/' + scenario + '_shows_and_closest_topics.csv', index=False)"
   ]
  },
  {
   "cell_type": "code",
   "execution_count": 41,
   "metadata": {
    "collapsed": false
   },
   "outputs": [],
   "source": [
    "pd.DataFrame(model.doc_topic_).to_csv('../output/' + scenario + '_doctopics.csv', index=False)"
   ]
  },
  {
   "cell_type": "markdown",
   "metadata": {},
   "source": [
    "# V. Evaluation"
   ]
  },
  {
   "cell_type": "code",
   "execution_count": null,
   "metadata": {
    "collapsed": true
   },
   "outputs": [],
   "source": [
    "# Load category mapping\n",
    "cat_map = pd.read_csv('../raw/cat_maps/cat_map_' + scenario + '.csv')"
   ]
  }
 ],
 "metadata": {
  "kernelspec": {
   "display_name": "Python 2",
   "language": "python",
   "name": "python2"
  },
  "language_info": {
   "codemirror_mode": {
    "name": "ipython",
    "version": 2
   },
   "file_extension": ".py",
   "mimetype": "text/x-python",
   "name": "python",
   "nbconvert_exporter": "python",
   "pygments_lexer": "ipython2",
   "version": "2.7.10"
  }
 },
 "nbformat": 4,
 "nbformat_minor": 0
}
