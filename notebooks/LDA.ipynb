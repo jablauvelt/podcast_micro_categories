{
 "cells": [
  {
   "cell_type": "markdown",
   "metadata": {},
   "source": [
    "# Podcast Micro-Categories\n",
    "### Exploratory Notebook\n",
    "### Unsupervised LDA"
   ]
  },
  {
   "cell_type": "code",
   "execution_count": 51,
   "metadata": {
    "collapsed": true
   },
   "outputs": [],
   "source": [
    "from __future__ import print_function\n",
    "from __future__ import division\n",
    "\n",
    "import gc\n",
    "import os\n",
    "import time\n",
    "\n",
    "import numpy as np\n",
    "import pandas as pd\n",
    "import scipy\n",
    "\n",
    "import lda\n",
    "\n",
    "import re\n",
    "\n",
    "from sklearn.externals import joblib\n"
   ]
  },
  {
   "cell_type": "code",
   "execution_count": 52,
   "metadata": {
    "collapsed": true
   },
   "outputs": [],
   "source": [
    "samp = False\n",
    "samp = '_samp' if samp else ''"
   ]
  },
  {
   "cell_type": "markdown",
   "metadata": {},
   "source": [
    "# I. Load"
   ]
  },
  {
   "cell_type": "markdown",
   "metadata": {},
   "source": [
    "### A. Load Files"
   ]
  },
  {
   "cell_type": "code",
   "execution_count": 53,
   "metadata": {
    "collapsed": true
   },
   "outputs": [],
   "source": [
    "# Define scenario number (s[1-6])\n",
    "scenario = 's4'"
   ]
  },
  {
   "cell_type": "code",
   "execution_count": 54,
   "metadata": {
    "collapsed": false
   },
   "outputs": [
    {
     "name": "stdout",
     "output_type": "stream",
     "text": [
      "Episode Term Document Matrix Shape: 11,795 shows x  363,136 features\n",
      "Episode Table Shape: 11,795 shows x  2 columns (show name and concatenated description)\n"
     ]
    }
   ],
   "source": [
    "# 1. Load TDM\n",
    "loader = np.load('../interim/' + scenario + '_tdm' + samp + '.npz')\n",
    "tdm = scipy.sparse.csr_matrix((loader['data'], loader['indices'], loader['indptr']),\n",
    "                      shape=loader['shape'])\n",
    "\n",
    "# 2. Load feature names\n",
    "feature_names = np.array(pd.read_pickle('../interim/' + scenario + '_names' + samp + '.p'))\n",
    "\n",
    "# 3. Load show names and subgenres that still remain\n",
    "shows_concat = pd.read_pickle('../interim/' + scenario + '_shows_concat' + samp + '.p')\n",
    "\n",
    "# 4. Load full show table so that summaries can be pulled in\n",
    "shows_full = pd.read_pickle('../interim/pods' + samp + '.p')\n",
    "\n",
    "# 5. Print shapes and check assertions\n",
    "print(\"Episode Term Document Matrix Shape: {:,} shows x  {:,} features\".format(tdm.shape[0], tdm.shape[1]))\n",
    "print(\"Episode Table Shape: {:,} shows x  {:,} columns (show name and concatenated description)\".format(shows_concat.shape[0], shows_concat.shape[1]))\n",
    "assert tdm.shape[0] == shows_concat.shape[0]\n",
    "assert len(feature_names) == tdm.shape[1]"
   ]
  },
  {
   "cell_type": "markdown",
   "metadata": {},
   "source": [
    "### B. Remove duplicates "
   ]
  },
  {
   "cell_type": "code",
   "execution_count": 55,
   "metadata": {
    "collapsed": false
   },
   "outputs": [
    {
     "name": "stdout",
     "output_type": "stream",
     "text": [
      "Number of dupes removed:  (151, 18)\n",
      "Number of shows remaining:  (12319, 18)\n"
     ]
    }
   ],
   "source": [
    "# Remove duplicates from full show list (need to handle these earlier on in other scripts)\n",
    "dupes = shows_full.groupby(['podcast_name', 'subgenre']).filter(lambda group: len(group) > 1).sort('podcast_name')\n",
    "print(\"Number of dupes removed: \", dupes.shape)\n",
    "shows_full = shows_full.drop_duplicates(['podcast_name', 'subgenre'])\n",
    "print(\"Number of shows remaining: \", shows_full.shape)"
   ]
  },
  {
   "cell_type": "markdown",
   "metadata": {},
   "source": [
    "### C. Join features from full show table to de-duplicated shows"
   ]
  },
  {
   "cell_type": "code",
   "execution_count": 56,
   "metadata": {
    "collapsed": false
   },
   "outputs": [
    {
     "name": "stdout",
     "output_type": "stream",
     "text": [
      "(12319, 18)\n",
      "(11795, 2)\n",
      "(11795, 3)\n"
     ]
    },
    {
     "data": {
      "text/html": [
       "<div>\n",
       "<table border=\"1\" class=\"dataframe\">\n",
       "  <thead>\n",
       "    <tr style=\"text-align: right;\">\n",
       "      <th></th>\n",
       "      <th>podcast_name</th>\n",
       "      <th>subgenre</th>\n",
       "      <th>show_desc</th>\n",
       "    </tr>\n",
       "  </thead>\n",
       "  <tbody>\n",
       "    <tr>\n",
       "      <th>0</th>\n",
       "      <td>! Football Ringtones, Text Tones, Mail Alerts ...</td>\n",
       "      <td>College &amp; High School</td>\n",
       "      <td>Get FREE RINGTONES when you subscribe! Footbal...</td>\n",
       "    </tr>\n",
       "    <tr>\n",
       "      <th>1</th>\n",
       "      <td>! World's Funniest Ringtones for iPhone &amp; iPad...</td>\n",
       "      <td>Gadgets</td>\n",
       "      <td>Get FREE RINGTONES when you subscribe to The W...</td>\n",
       "    </tr>\n",
       "    <tr>\n",
       "      <th>2</th>\n",
       "      <td>! iPhone Ringtones</td>\n",
       "      <td>Video Games</td>\n",
       "      <td>Get FREE RINGTONES when you subscribe! The Wor...</td>\n",
       "    </tr>\n",
       "    <tr>\n",
       "      <th>3</th>\n",
       "      <td>\" Talk to Tony - Radio Show \" Licensed Psychol...</td>\n",
       "      <td>Social Sciences</td>\n",
       "      <td>Dr. Tony Ferretti offers a psychological persp...</td>\n",
       "    </tr>\n",
       "    <tr>\n",
       "      <th>4</th>\n",
       "      <td>\"A Tale of Two Cities\" Audiobook (Audio book)</td>\n",
       "      <td>Literature</td>\n",
       "      <td>\"A Tale of Two Cities\" was first published in ...</td>\n",
       "    </tr>\n",
       "  </tbody>\n",
       "</table>\n",
       "</div>"
      ],
      "text/plain": [
       "                                        podcast_name               subgenre  \\\n",
       "0  ! Football Ringtones, Text Tones, Mail Alerts ...  College & High School   \n",
       "1  ! World's Funniest Ringtones for iPhone & iPad...                Gadgets   \n",
       "2                                 ! iPhone Ringtones            Video Games   \n",
       "3  \" Talk to Tony - Radio Show \" Licensed Psychol...        Social Sciences   \n",
       "4      \"A Tale of Two Cities\" Audiobook (Audio book)             Literature   \n",
       "\n",
       "                                           show_desc  \n",
       "0  Get FREE RINGTONES when you subscribe! Footbal...  \n",
       "1  Get FREE RINGTONES when you subscribe to The W...  \n",
       "2  Get FREE RINGTONES when you subscribe! The Wor...  \n",
       "3  Dr. Tony Ferretti offers a psychological persp...  \n",
       "4  \"A Tale of Two Cities\" was first published in ...  "
      ]
     },
     "execution_count": 56,
     "metadata": {},
     "output_type": "execute_result"
    }
   ],
   "source": [
    "# Join data from full show table to list of shows in the model\n",
    "\n",
    "print(shows_full.shape)\n",
    "print(shows_concat.shape)\n",
    "\n",
    "shows = pd.merge(shows_concat, shows_full[['podcast_name', 'subgenre', 'show_desc']], \n",
    "                 on = ['podcast_name', 'subgenre'], how='left', sort=False)\n",
    "print(shows.shape)\n",
    "assert shows.shape[0] == shows_concat.shape[0]\n",
    "shows.head()"
   ]
  },
  {
   "cell_type": "markdown",
   "metadata": {},
   "source": [
    "# II. Filter"
   ]
  },
  {
   "cell_type": "markdown",
   "metadata": {},
   "source": [
    "### A. Remove shows with no words in the vocab"
   ]
  },
  {
   "cell_type": "code",
   "execution_count": 57,
   "metadata": {
    "collapsed": false
   },
   "outputs": [
    {
     "name": "stdout",
     "output_type": "stream",
     "text": [
      "Number of shows with no words in the vocabulary:  57\n"
     ]
    }
   ],
   "source": [
    "# Identify show that have no words in the vocabulary\n",
    "row_sums = np.array(tdm.sum(axis=1)).flatten() # sum tdm counts across rows (across shows)\n",
    "\n",
    "print(\"Number of shows with no words in the vocabulary: \", \n",
    "      shows.ix[np.where(row_sums == 0)[0],:].shape[0]) "
   ]
  },
  {
   "cell_type": "code",
   "execution_count": 58,
   "metadata": {
    "collapsed": false
   },
   "outputs": [
    {
     "name": "stdout",
     "output_type": "stream",
     "text": [
      "(11738, 3)\n",
      "(11738, 363136)\n"
     ]
    }
   ],
   "source": [
    "# Remove shows with no words in the vocabulary, from both the original shows table\n",
    "# and the TDM\n",
    "shows = shows.ix[np.where(row_sums > 0)[0],:]\n",
    "tdm = tdm[np.where(row_sums > 0)[0],:]\n",
    "print(shows.shape)\n",
    "print(tdm.shape)\n",
    "assert shows.shape[0] == tdm.shape[0]"
   ]
  },
  {
   "cell_type": "markdown",
   "metadata": {},
   "source": [
    "# III. Train LDA Model"
   ]
  },
  {
   "cell_type": "code",
   "execution_count": 30,
   "metadata": {
    "collapsed": false
   },
   "outputs": [
    {
     "name": "stdout",
     "output_type": "stream",
     "text": [
      "Wall time: 9min 7s\n"
     ]
    },
    {
     "data": {
      "text/plain": [
       "<lda.lda.LDA instance at 0x000000000C3FCDC8>"
      ]
     },
     "execution_count": 30,
     "metadata": {},
     "output_type": "execute_result"
    }
   ],
   "source": [
    "# Create model\n",
    "model = lda.LDA(n_topics=56, n_iter=75, random_state=42)\n",
    "\n",
    "# Fit model (takes about 20 minutes for 75 iterations\n",
    "%time model.fit(tdm)"
   ]
  },
  {
   "cell_type": "code",
   "execution_count": 31,
   "metadata": {
    "collapsed": false
   },
   "outputs": [
    {
     "data": {
      "text/plain": [
       "['../interim/trained_models/lda/lda_s1.pkl',\n",
       " '../interim/trained_models/lda/lda_s1.pkl_01.npy',\n",
       " '../interim/trained_models/lda/lda_s1.pkl_02.npy',\n",
       " '../interim/trained_models/lda/lda_s1.pkl_03.npy',\n",
       " '../interim/trained_models/lda/lda_s1.pkl_04.npy',\n",
       " '../interim/trained_models/lda/lda_s1.pkl_05.npy',\n",
       " '../interim/trained_models/lda/lda_s1.pkl_06.npy',\n",
       " '../interim/trained_models/lda/lda_s1.pkl_07.npy']"
      ]
     },
     "execution_count": 31,
     "metadata": {},
     "output_type": "execute_result"
    }
   ],
   "source": [
    "# Save Pickle model\n",
    "joblib.dump(model, '../interim/trained_models/lda/lda_' + scenario + samp + '.pkl')\n"
   ]
  },
  {
   "cell_type": "code",
   "execution_count": 45,
   "metadata": {
    "collapsed": false
   },
   "outputs": [],
   "source": [
    "# Load pickled model\n",
    "model = joblib.load('../interim/trained_models/lda/lda_' + scenario + samp + '.pkl')"
   ]
  },
  {
   "cell_type": "markdown",
   "metadata": {},
   "source": [
    "# IV. Exploration"
   ]
  },
  {
   "cell_type": "markdown",
   "metadata": {},
   "source": [
    "## A. Model Words"
   ]
  },
  {
   "cell_type": "code",
   "execution_count": 46,
   "metadata": {
    "collapsed": false
   },
   "outputs": [
    {
     "name": "stdout",
     "output_type": "stream",
     "text": [
      "(56L, 78771L)\n"
     ]
    },
    {
     "data": {
      "text/plain": [
       "[u'Topic 0: Wine - wines - Sport - Abbey - Belmont - Playing',\n",
       " u'Topic 1: Gallery - exhibition - architecture - painting - Ancient - museum',\n",
       " u'Topic 2: fishing - deer - Hunting - Outdoors - Fishing - Deer',\n",
       " u'Topic 3: generous - somebody - sharp - Person - merely - objective',\n",
       " u'Topic 4: Muslim - Islamic - DONATE - Publisher - Audience - Updated',\n",
       " u'Topic 5: Slate - Republican - Democratic - Secretary - Sanders - Bloomberg',\n",
       " u'Topic 6: argues - Oxford - Philosophy - Poetry - scholars - scholar',\n",
       " u'Topic 7: voicemail - Feedback - Podcasting - Pilot - nickname - Aviation',\n",
       " u'Topic 8: Sponsors - Sponsor - Roundtable - Itunes - Topic - Feed',\n",
       " u'Topic 9: comics - Rate - Bitcoin - Corsten - Kurt - para',\n",
       " u'Topic 10: Mitch - Teaching - Separation - faculty - principal - Pixels',\n",
       " u'Topic 11: Meditation - mindfulness - Healing - meditations - Yoga - Spiritual',\n",
       " u'Topic 12: Pastor - Rabbi - Christians - ministry - Mormon - Torah',\n",
       " u'Topic 13: Nintendo - Gaming - Pokemon - Destiny - Mario - forums',\n",
       " u'Topic 14: Bike - Cycling - Brought - motorcycle - Racing - Motorcycle',\n",
       " u'Topic 15: Continue - Packers - Draft - league - Jets - playoff',\n",
       " u'Topic 16: ABOUT - SHOW - Affiliate - affiliate - Buzz - dental',\n",
       " u'Topic 17: investors - Estate - investor - stocks - Wealth - Investing',\n",
       " u'Topic 18: Commons - transcript - premium - MacLeod - Cigar - Premium',\n",
       " u'Topic 19: Clinical - Emergency - summary - Hospital - physician - nous',\n",
       " u'Topic 20: recruiting - Segment - NCAA - Championships - Ironman - Notre',\n",
       " u'Topic 21: Date - automotive - File - Length - Title - McElroy',\n",
       " u'Topic 22: Speaker - Matters - PowerShell - Michele - Quotes - Windows',\n",
       " u'Topic 23: Linux - developers - Windows - Agile - Developer - Cloud',\n",
       " u'Topic 24: yarn - knitting - Yarn - Knitting - Ravelry - socks',\n",
       " u'Topic 25: ADHD - divorce - Fashion - Attention - moms - Natalie',\n",
       " u'Topic 26: Spoilers - Beer - Brewing - beers - Sessions - Picks',\n",
       " u'Topic 27: Comedy - Broadway - Theatre - Alison - Comedian - starring',\n",
       " u'Topic 28: Celtic - Photography - Adobe - Camera - Samsung - Photoshop',\n",
       " u'Topic 29: CLICK - SHOW - EPISODE - LINKS - SUBSCRIBE - TWITTER',\n",
       " u'Topic 30: clicking - Coaching - Transcript - Newsletter - Anxiety - appreciated',\n",
       " u'Topic 31: Walt - Disneyland - Marathon - Hosts - Mouse - Resort',\n",
       " u'Topic 32: workout - Write - Mentioned - CrossFit - Strength - Miracle',\n",
       " u'Topic 33: donation - donations - Lesson - Wellness - trainers - Denton',\n",
       " u'Topic 34: Tumblr - Kindle - Meanwhile - Yeah - thankful - Everywhere',\n",
       " u'Topic 35: Chef - Farm - cheese - vegan - chef - cook',\n",
       " u'Topic 36: Survivor - Produced - softball - Fans - Interviews - Archives',\n",
       " u'Topic 37: Normal - MacVoices - Cambria - minorlatin - Google+ - XNONE',\n",
       " u'Topic 38: Skip - checkout - Quote - Okay - Theyre - Dylan',\n",
       " u'Topic 39: porn - sexuality - boyfriend - erotic - BDSM - racist',\n",
       " u'Topic 40: programme - Desert - Produced - archive - Luxury - Favourite',\n",
       " u'Topic 41: paranormal - Paranormal - Tarot - Psychic - psychic - readings',\n",
       " u'Topic 42: wrestling - Wrestling - martial - Cast - Vince - Thrones',\n",
       " u'Topic 43: Comics - comics - Marvel - Batman - Intro - Comic',\n",
       " u'Topic 44: Yoga - Gallup - Military - Afghanistan - Marine - Corps',\n",
       " u'Topic 45: solar - Commentary - Astronomy - physics - planets - astronomy',\n",
       " u'Topic 46: cells - genetic - diseases - disorders - breastfeeding - autism',\n",
       " u'Topic 47: Songs - piano - Album - guitar - copyright - composer',\n",
       " u'Topic 48: oldtimeradiodvdcom - Sponsored - aired - Fiction - Superman - Flash',\n",
       " u'Topic 49: Golf - Dana - golf - Clay - Russ - astrology',\n",
       " u'Topic 50: Buddhist - Buddhism - Dharma - poker - teachings - Buddha',\n",
       " u'Topic 51: Remix - feat - Records - remix - Spinnin - Recordings',\n",
       " u'Topic 52: Guys - Technique - Gilbert - Evan - PLUS - Genealogy',\n",
       " u'Topic 53: Chat - facebook - Minute - Related - pregnancy - Theresa',\n",
       " u'Topic 54: Paleo - Diet - Nutrition - Healthy - Weight - supplements',\n",
       " u'Topic 55: LinkedIn - startups - Entrepreneur - Growth - Snapchat - WordPress']"
      ]
     },
     "execution_count": 46,
     "metadata": {},
     "output_type": "execute_result"
    }
   ],
   "source": [
    "# Most Important Words for Each Topic\n",
    "topic_words = model.topic_word_\n",
    "print(topic_words.shape)\n",
    "\n",
    "top_n = 6\n",
    "topic_names_temp = []\n",
    "for ii, dist in enumerate(topic_words):\n",
    "    top_n_words = np.array(feature_names)[np.argsort(dist)][:-(top_n+1):-1]\n",
    "    topic_names_temp.append('Topic ' + str(ii) + ': ' + ' - '.join(top_n_words.flatten()))\n",
    "    #print('Topic {}:  {}'.format(ii, ' - '.join(topic_names_temp)))\n",
    "    \n",
    "topic_names_temp\n",
    "    "
   ]
  },
  {
   "cell_type": "markdown",
   "metadata": {},
   "source": [
    "## B. Show Topics"
   ]
  },
  {
   "cell_type": "code",
   "execution_count": 47,
   "metadata": {
    "collapsed": false
   },
   "outputs": [
    {
     "name": "stdout",
     "output_type": "stream",
     "text": [
      "(11759L, 56L)\n"
     ]
    }
   ],
   "source": [
    "# Best Fitting Episodes for Each Topic\n",
    "show_topics = model.doc_topic_\n",
    "print(show_topics.shape)\n",
    "\n",
    "# Get closest topic for each show\n",
    "show_closest_topic = np.array(topic_names_temp)[show_topics.argmax(1)]\n",
    "# Get probability of closest topic for each show\n",
    "show_closest_topic_prob = show_topics.max(1)\n",
    "\n",
    "# Create data frame with the above two vectors\n",
    "show_closest_topic = pd.DataFrame({'usub': show_closest_topic,\n",
    "                                   'usub_prob': show_closest_topic_prob})\n",
    "# Add in the full show table\n",
    "show_closest_topic = pd.concat([show_closest_topic, shows], axis=1)\n",
    "# Extract the ID from the usub\n",
    "show_closest_topic['usub_id'] = show_closest_topic['usub'].str.extract('(Topic [0-9]{1,2})').str.replace('Topic ', '')\n",
    "\n",
    "# Reorder and rename columns\n",
    "show_closest_topic = show_closest_topic[['usub_id', 'usub', 'usub_prob', 'podcast_name', 'subgenre', 'show_desc']]\n",
    "show_closest_topic = show_closest_topic.rename(columns={'subgenre': 'isub'})\n"
   ]
  },
  {
   "cell_type": "code",
   "execution_count": 48,
   "metadata": {
    "collapsed": false
   },
   "outputs": [
    {
     "data": {
      "text/html": [
       "<div>\n",
       "<table border=\"1\" class=\"dataframe\">\n",
       "  <thead>\n",
       "    <tr style=\"text-align: right;\">\n",
       "      <th></th>\n",
       "      <th>usub_id</th>\n",
       "      <th>usub</th>\n",
       "      <th>usub_prob</th>\n",
       "      <th>podcast_name</th>\n",
       "      <th>isub</th>\n",
       "      <th>show_desc</th>\n",
       "    </tr>\n",
       "  </thead>\n",
       "  <tbody>\n",
       "    <tr>\n",
       "      <th>0</th>\n",
       "      <td>0</td>\n",
       "      <td>Topic 0: Wine - wines - Sport - Abbey - Belmon...</td>\n",
       "      <td>0.513723</td>\n",
       "      <td>! Football Ringtones, Text Tones, Mail Alerts ...</td>\n",
       "      <td>College &amp; High School</td>\n",
       "      <td>Get FREE RINGTONES when you subscribe! Footbal...</td>\n",
       "    </tr>\n",
       "    <tr>\n",
       "      <th>1</th>\n",
       "      <td>0</td>\n",
       "      <td>Topic 0: Wine - wines - Sport - Abbey - Belmon...</td>\n",
       "      <td>0.740233</td>\n",
       "      <td>! World's Funniest Ringtones for iPhone &amp; iPad...</td>\n",
       "      <td>Gadgets</td>\n",
       "      <td>Get FREE RINGTONES when you subscribe to The W...</td>\n",
       "    </tr>\n",
       "    <tr>\n",
       "      <th>2</th>\n",
       "      <td>0</td>\n",
       "      <td>Topic 0: Wine - wines - Sport - Abbey - Belmon...</td>\n",
       "      <td>0.557210</td>\n",
       "      <td>! iPhone Ringtones</td>\n",
       "      <td>Video Games</td>\n",
       "      <td>Get FREE RINGTONES when you subscribe! The Wor...</td>\n",
       "    </tr>\n",
       "    <tr>\n",
       "      <th>3</th>\n",
       "      <td>47</td>\n",
       "      <td>Topic 47: Songs - piano - Album - guitar - cop...</td>\n",
       "      <td>0.320848</td>\n",
       "      <td>\" Talk to Tony - Radio Show \" Licensed Psychol...</td>\n",
       "      <td>Social Sciences</td>\n",
       "      <td>Dr. Tony Ferretti offers a psychological persp...</td>\n",
       "    </tr>\n",
       "    <tr>\n",
       "      <th>4</th>\n",
       "      <td>16</td>\n",
       "      <td>Topic 16: ABOUT - SHOW - Affiliate - affiliate...</td>\n",
       "      <td>0.473366</td>\n",
       "      <td>\"A Tale of Two Cities\" Audiobook (Audio book)</td>\n",
       "      <td>Literature</td>\n",
       "      <td>\"A Tale of Two Cities\" was first published in ...</td>\n",
       "    </tr>\n",
       "  </tbody>\n",
       "</table>\n",
       "</div>"
      ],
      "text/plain": [
       "  usub_id                                               usub  usub_prob  \\\n",
       "0       0  Topic 0: Wine - wines - Sport - Abbey - Belmon...   0.513723   \n",
       "1       0  Topic 0: Wine - wines - Sport - Abbey - Belmon...   0.740233   \n",
       "2       0  Topic 0: Wine - wines - Sport - Abbey - Belmon...   0.557210   \n",
       "3      47  Topic 47: Songs - piano - Album - guitar - cop...   0.320848   \n",
       "4      16  Topic 16: ABOUT - SHOW - Affiliate - affiliate...   0.473366   \n",
       "\n",
       "                                        podcast_name                   isub  \\\n",
       "0  ! Football Ringtones, Text Tones, Mail Alerts ...  College & High School   \n",
       "1  ! World's Funniest Ringtones for iPhone & iPad...                Gadgets   \n",
       "2                                 ! iPhone Ringtones            Video Games   \n",
       "3  \" Talk to Tony - Radio Show \" Licensed Psychol...        Social Sciences   \n",
       "4      \"A Tale of Two Cities\" Audiobook (Audio book)             Literature   \n",
       "\n",
       "                                           show_desc  \n",
       "0  Get FREE RINGTONES when you subscribe! Footbal...  \n",
       "1  Get FREE RINGTONES when you subscribe to The W...  \n",
       "2  Get FREE RINGTONES when you subscribe! The Wor...  \n",
       "3  Dr. Tony Ferretti offers a psychological persp...  \n",
       "4  \"A Tale of Two Cities\" was first published in ...  "
      ]
     },
     "execution_count": 48,
     "metadata": {},
     "output_type": "execute_result"
    }
   ],
   "source": [
    "show_closest_topic.head()"
   ]
  },
  {
   "cell_type": "code",
   "execution_count": 49,
   "metadata": {
    "collapsed": false
   },
   "outputs": [],
   "source": [
    "# Export to CSV\n",
    "show_closest_topic.to_csv('../output/' + scenario + '_shows_and_closest_topics.csv', index=False)"
   ]
  },
  {
   "cell_type": "code",
   "execution_count": 50,
   "metadata": {
    "collapsed": false
   },
   "outputs": [],
   "source": [
    "pd.DataFrame(model.doc_topic_).to_csv('../output/' + scenario + '_doctopics.csv', index=False)"
   ]
  },
  {
   "cell_type": "markdown",
   "metadata": {},
   "source": [
    "# V. Evaluation"
   ]
  },
  {
   "cell_type": "code",
   "execution_count": null,
   "metadata": {
    "collapsed": true
   },
   "outputs": [],
   "source": [
    "# Load category mapping\n",
    "cat_map = pd.read_csv('../raw/cat_maps/cat_map_' + scenario + '.csv')"
   ]
  }
 ],
 "metadata": {
  "kernelspec": {
   "display_name": "Python 2",
   "language": "python",
   "name": "python2"
  },
  "language_info": {
   "codemirror_mode": {
    "name": "ipython",
    "version": 2
   },
   "file_extension": ".py",
   "mimetype": "text/x-python",
   "name": "python",
   "nbconvert_exporter": "python",
   "pygments_lexer": "ipython2",
   "version": "2.7.10"
  }
 },
 "nbformat": 4,
 "nbformat_minor": 0
}
