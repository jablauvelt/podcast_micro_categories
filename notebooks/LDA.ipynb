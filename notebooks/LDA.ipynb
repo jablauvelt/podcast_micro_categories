{
 "cells": [
  {
   "cell_type": "markdown",
   "metadata": {},
   "source": [
    "# Podcast Micro-Categories\n",
    "### Exploratory Notebook\n",
    "### Unsupervised LDA"
   ]
  },
  {
   "cell_type": "code",
   "execution_count": 15,
   "metadata": {
    "collapsed": true
   },
   "outputs": [],
   "source": [
    "from __future__ import print_function\n",
    "from __future__ import division\n",
    "\n",
    "import gc\n",
    "import os\n",
    "import time\n",
    "\n",
    "import numpy as np\n",
    "import pandas as pd\n",
    "import scipy\n",
    "\n",
    "import lda\n",
    "\n",
    "import re\n",
    "\n",
    "from sklearn.externals import joblib\n"
   ]
  },
  {
   "cell_type": "code",
   "execution_count": 16,
   "metadata": {
    "collapsed": true
   },
   "outputs": [],
   "source": [
    "samp = False\n",
    "samp = '_samp' if samp else ''"
   ]
  },
  {
   "cell_type": "markdown",
   "metadata": {},
   "source": [
    "# I. Load"
   ]
  },
  {
   "cell_type": "markdown",
   "metadata": {},
   "source": [
    "### A. Load Files"
   ]
  },
  {
   "cell_type": "code",
   "execution_count": 17,
   "metadata": {
    "collapsed": true
   },
   "outputs": [],
   "source": [
    "# Define scenario number (s[1-6])\n",
    "scenario = 's2'"
   ]
  },
  {
   "cell_type": "code",
   "execution_count": 18,
   "metadata": {
    "collapsed": false
   },
   "outputs": [
    {
     "name": "stdout",
     "output_type": "stream",
     "text": [
      "Episode Term Document Matrix Shape: 11,795 shows x  55,873 features\n",
      "Episode Table Shape: 11,795 shows x  2 columns (show name and concatenated description)\n"
     ]
    }
   ],
   "source": [
    "# 1. Load TDM\n",
    "loader = np.load('../interim/' + scenario + '_tdm' + samp + '.npz')\n",
    "tdm = scipy.sparse.csr_matrix((loader['data'], loader['indices'], loader['indptr']),\n",
    "                      shape=loader['shape'])\n",
    "\n",
    "# 2. Load feature names\n",
    "feature_names = np.array(pd.read_pickle('../interim/' + scenario + '_names' + samp + '.p'))\n",
    "\n",
    "# 3. Load show names and subgenres that still remain\n",
    "shows_concat = pd.read_pickle('../interim/' + scenario + '_shows_concat' + samp + '.p')\n",
    "\n",
    "# 4. Load full show table so that summaries can be pulled in\n",
    "shows_full = pd.read_pickle('../interim/pods' + samp + '.p')\n",
    "\n",
    "# 5. Print shapes and check assertions\n",
    "print(\"Episode Term Document Matrix Shape: {:,} shows x  {:,} features\".format(tdm.shape[0], tdm.shape[1]))\n",
    "print(\"Episode Table Shape: {:,} shows x  {:,} columns (show name and concatenated description)\".format(shows_concat.shape[0], shows_concat.shape[1]))\n",
    "assert tdm.shape[0] == shows_concat.shape[0]\n",
    "assert len(feature_names) == tdm.shape[1]"
   ]
  },
  {
   "cell_type": "markdown",
   "metadata": {},
   "source": [
    "### B. Remove duplicates "
   ]
  },
  {
   "cell_type": "code",
   "execution_count": 19,
   "metadata": {
    "collapsed": false
   },
   "outputs": [
    {
     "name": "stdout",
     "output_type": "stream",
     "text": [
      "Number of dupes removed:  (151, 18)\n",
      "Number of shows remaining:  (12319, 18)\n"
     ]
    }
   ],
   "source": [
    "# Remove duplicates from full show list (need to handle these earlier on in other scripts)\n",
    "dupes = shows_full.groupby(['podcast_name', 'subgenre']).filter(lambda group: len(group) > 1).sort('podcast_name')\n",
    "print(\"Number of dupes removed: \", dupes.shape)\n",
    "shows_full = shows_full.drop_duplicates(['podcast_name', 'subgenre'])\n",
    "print(\"Number of shows remaining: \", shows_full.shape)"
   ]
  },
  {
   "cell_type": "markdown",
   "metadata": {},
   "source": [
    "### C. Join features from full show table to de-duplicated shows"
   ]
  },
  {
   "cell_type": "code",
   "execution_count": 20,
   "metadata": {
    "collapsed": false
   },
   "outputs": [
    {
     "name": "stdout",
     "output_type": "stream",
     "text": [
      "(12319, 18)\n",
      "(11795, 2)\n",
      "(11795, 3)\n"
     ]
    },
    {
     "data": {
      "text/html": [
       "<div>\n",
       "<table border=\"1\" class=\"dataframe\">\n",
       "  <thead>\n",
       "    <tr style=\"text-align: right;\">\n",
       "      <th></th>\n",
       "      <th>podcast_name</th>\n",
       "      <th>subgenre</th>\n",
       "      <th>show_desc</th>\n",
       "    </tr>\n",
       "  </thead>\n",
       "  <tbody>\n",
       "    <tr>\n",
       "      <th>0</th>\n",
       "      <td>! Football Ringtones, Text Tones, Mail Alerts ...</td>\n",
       "      <td>College &amp; High School</td>\n",
       "      <td>Get FREE RINGTONES when you subscribe! Footbal...</td>\n",
       "    </tr>\n",
       "    <tr>\n",
       "      <th>1</th>\n",
       "      <td>! World's Funniest Ringtones for iPhone &amp; iPad...</td>\n",
       "      <td>Gadgets</td>\n",
       "      <td>Get FREE RINGTONES when you subscribe to The W...</td>\n",
       "    </tr>\n",
       "    <tr>\n",
       "      <th>2</th>\n",
       "      <td>! iPhone Ringtones</td>\n",
       "      <td>Video Games</td>\n",
       "      <td>Get FREE RINGTONES when you subscribe! The Wor...</td>\n",
       "    </tr>\n",
       "    <tr>\n",
       "      <th>3</th>\n",
       "      <td>\" Talk to Tony - Radio Show \" Licensed Psychol...</td>\n",
       "      <td>Social Sciences</td>\n",
       "      <td>Dr. Tony Ferretti offers a psychological persp...</td>\n",
       "    </tr>\n",
       "    <tr>\n",
       "      <th>4</th>\n",
       "      <td>\"A Tale of Two Cities\" Audiobook (Audio book)</td>\n",
       "      <td>Literature</td>\n",
       "      <td>\"A Tale of Two Cities\" was first published in ...</td>\n",
       "    </tr>\n",
       "  </tbody>\n",
       "</table>\n",
       "</div>"
      ],
      "text/plain": [
       "                                        podcast_name               subgenre  \\\n",
       "0  ! Football Ringtones, Text Tones, Mail Alerts ...  College & High School   \n",
       "1  ! World's Funniest Ringtones for iPhone & iPad...                Gadgets   \n",
       "2                                 ! iPhone Ringtones            Video Games   \n",
       "3  \" Talk to Tony - Radio Show \" Licensed Psychol...        Social Sciences   \n",
       "4      \"A Tale of Two Cities\" Audiobook (Audio book)             Literature   \n",
       "\n",
       "                                           show_desc  \n",
       "0  Get FREE RINGTONES when you subscribe! Footbal...  \n",
       "1  Get FREE RINGTONES when you subscribe to The W...  \n",
       "2  Get FREE RINGTONES when you subscribe! The Wor...  \n",
       "3  Dr. Tony Ferretti offers a psychological persp...  \n",
       "4  \"A Tale of Two Cities\" was first published in ...  "
      ]
     },
     "execution_count": 20,
     "metadata": {},
     "output_type": "execute_result"
    }
   ],
   "source": [
    "# Join data from full show table to list of shows in the model\n",
    "\n",
    "print(shows_full.shape)\n",
    "print(shows_concat.shape)\n",
    "\n",
    "shows = pd.merge(shows_concat, shows_full[['podcast_name', 'subgenre', 'show_desc']], \n",
    "                 on = ['podcast_name', 'subgenre'], how='left', sort=False)\n",
    "print(shows.shape)\n",
    "assert shows.shape[0] == shows_concat.shape[0]\n",
    "shows.head()"
   ]
  },
  {
   "cell_type": "markdown",
   "metadata": {},
   "source": [
    "# II. Filter"
   ]
  },
  {
   "cell_type": "markdown",
   "metadata": {},
   "source": [
    "### A. Remove shows with no words in the vocab"
   ]
  },
  {
   "cell_type": "code",
   "execution_count": 21,
   "metadata": {
    "collapsed": false
   },
   "outputs": [
    {
     "name": "stdout",
     "output_type": "stream",
     "text": [
      "Number of shows with no words in the vocabulary:  33\n"
     ]
    }
   ],
   "source": [
    "# Identify show that have no words in the vocabulary\n",
    "row_sums = np.array(tdm.sum(axis=1)).flatten() # sum tdm counts across rows (across shows)\n",
    "\n",
    "print(\"Number of shows with no words in the vocabulary: \", \n",
    "      shows.ix[np.where(row_sums == 0)[0],:].shape[0]) "
   ]
  },
  {
   "cell_type": "code",
   "execution_count": 22,
   "metadata": {
    "collapsed": false
   },
   "outputs": [
    {
     "name": "stdout",
     "output_type": "stream",
     "text": [
      "(11762, 3)\n",
      "(11762, 55873)\n"
     ]
    }
   ],
   "source": [
    "# Remove shows with no words in the vocabulary, from both the original shows table\n",
    "# and the TDM\n",
    "shows = shows.ix[np.where(row_sums > 0)[0],:]\n",
    "tdm = tdm[np.where(row_sums > 0)[0],:]\n",
    "print(shows.shape)\n",
    "print(tdm.shape)\n",
    "assert shows.shape[0] == tdm.shape[0]"
   ]
  },
  {
   "cell_type": "markdown",
   "metadata": {},
   "source": [
    "# III. Train LDA Model"
   ]
  },
  {
   "cell_type": "code",
   "execution_count": 23,
   "metadata": {
    "collapsed": false
   },
   "outputs": [
    {
     "name": "stdout",
     "output_type": "stream",
     "text": [
      "Wall time: 9min 2s\n"
     ]
    },
    {
     "data": {
      "text/plain": [
       "<lda.lda.LDA instance at 0x00000000185770C8>"
      ]
     },
     "execution_count": 23,
     "metadata": {},
     "output_type": "execute_result"
    }
   ],
   "source": [
    "# Create model\n",
    "model = lda.LDA(n_topics=56, n_iter=75, random_state=42)\n",
    "\n",
    "# Fit model (takes about 20 minutes for 75 iterations\n",
    "%time model.fit(tdm)"
   ]
  },
  {
   "cell_type": "code",
   "execution_count": 24,
   "metadata": {
    "collapsed": false
   },
   "outputs": [
    {
     "data": {
      "text/plain": [
       "['../interim/trained_models/lda/lda_s2.pkl',\n",
       " '../interim/trained_models/lda/lda_s2.pkl_01.npy',\n",
       " '../interim/trained_models/lda/lda_s2.pkl_02.npy',\n",
       " '../interim/trained_models/lda/lda_s2.pkl_03.npy',\n",
       " '../interim/trained_models/lda/lda_s2.pkl_04.npy',\n",
       " '../interim/trained_models/lda/lda_s2.pkl_05.npy',\n",
       " '../interim/trained_models/lda/lda_s2.pkl_06.npy',\n",
       " '../interim/trained_models/lda/lda_s2.pkl_07.npy']"
      ]
     },
     "execution_count": 24,
     "metadata": {},
     "output_type": "execute_result"
    }
   ],
   "source": [
    "# Save Pickle model\n",
    "joblib.dump(model, '../interim/trained_models/lda/lda_' + scenario + samp + '.pkl')\n"
   ]
  },
  {
   "cell_type": "code",
   "execution_count": 9,
   "metadata": {
    "collapsed": false
   },
   "outputs": [],
   "source": [
    "# Load pickled model\n",
    "model = joblib.load('../interim/trained_models/lda/lda_' + scenario + samp + '.pkl')"
   ]
  },
  {
   "cell_type": "markdown",
   "metadata": {},
   "source": [
    "# IV. Exploration"
   ]
  },
  {
   "cell_type": "markdown",
   "metadata": {},
   "source": [
    "## A. Model Words"
   ]
  },
  {
   "cell_type": "code",
   "execution_count": 10,
   "metadata": {
    "collapsed": false
   },
   "outputs": [
    {
     "name": "stdout",
     "output_type": "stream",
     "text": [
      "(56L, 362728L)\n"
     ]
    },
    {
     "data": {
      "text/plain": [
       "[u'Topic 0: creative common - kevin macleod - online business - facebook group - grow business - licensed creative',\n",
       " u'Topic 1: nt really - note page - last night - happy hour - day wa - visit show',\n",
       " u'Topic 2: muslim central - short video - facebook channel - updated regularly - channel short - making lasting',\n",
       " u'Topic 3: talk radio - air date - original air - attention deficit - internet radio - attention talk',\n",
       " u'Topic 4: associate professor - assistant professor - university california - stanford university - university chicago - st louis',\n",
       " u'Topic 5: guest discus - science fiction - melvyn bragg - mitch joel - national gallery - gallery art',\n",
       " u'Topic 6: please consider - please check - r feed - talk radio - u info - radio mike',\n",
       " u'Topic 7: god ha - course miracle - jesus christ - holy spirit - new testament - part show',\n",
       " u'Topic 8: weight loss - celtic music - lose weight - functional medicine - eating disorder - jimmy moore',\n",
       " u'Topic 9: walking dead - news week - hd video - facebook google+ - show video - producer host',\n",
       " u'Topic 10: estate investing - estate investor - cash flow - personal finance - credit card - rental property',\n",
       " u'Topic 11: theme music - special thanks - national park - short story - show highlight - film festival',\n",
       " u'Topic 12: college football - head coach - join show - ohio state - latest news - look ahead',\n",
       " u'Topic 13: continue reading - de la - guest week - auto show - du jour - dans la',\n",
       " u'Topic 14: law enforcement - true story - family history - native american - police officer - serial killer',\n",
       " u'Topic 15: comic book - middle school - graphic novel - school district - social work - join host',\n",
       " u'Topic 16: university press - hillary clinton - experience strength - strength hope - african american - human right',\n",
       " u'Topic 17: board game - game throne - theme song - voice mail - ravelry group - please send',\n",
       " u'Topic 18: major spoiler - comic book - star trek - contact u - force awakens - pop culture',\n",
       " u'Topic 19: climate change - click learn - story start - david cummings - know magic - silicon valley',\n",
       " u'Topic 20: web site - bible church - call u - fan page - visit web - today lecture',\n",
       " u'Topic 21: link mentioned - open source - project management - big data - company ha - top tip',\n",
       " u'Topic 22: full show - law school - day trial - get first - first order - blue apron',\n",
       " u'Topic 23: original mix - extended mix - guest mix - club mix - follow facebook - laidback luke',\n",
       " u'Topic 24: visit u - visit website - facebook group - note link - daily meditation - private facebook',\n",
       " u'Topic 25: love hear - show please - help show - thank much - like show - please take',\n",
       " u'Topic 26: fantasy football - wa sponsored - program wa - guy discus - guy talk - limited resource',\n",
       " u'Topic 27: r feed - final fantasy - movie tv - sit back - game show - new game',\n",
       " u'Topic 28: u feedback - email u - martial art - send u - radio network - google play',\n",
       " u'Topic 29: youll learn - public speaking - product service - key takeaway - training program - graphic design',\n",
       " u'Topic 30: sport medicine - physical therapy - sport psychology - dr bill - world championship - ncaa division',\n",
       " u'Topic 31: please show - pm est - right click - show visit - original post - monday night',\n",
       " u'Topic 32: medical school - interview dr - air force - private practice - emergency medicine - guest dr',\n",
       " u'Topic 33: im going - youre going - fly fishing - youll hear - youve got - private label',\n",
       " u'Topic 34: fat guy - fitness trainer - fit love - fitness expert - jj flizanes - universal orlando',\n",
       " u'Topic 35: desert island - island disc - favourite track - ha featured - taken original - archive edition',\n",
       " u'Topic 36: pm et - stop talk - day life - join talk - friday pm - group coaching',\n",
       " u'Topic 37: follow u - leave u - email u - u facebook - find u - contact u',\n",
       " u'Topic 38: sex life - sex toy - check show - complete show - youd like - mp file',\n",
       " u'Topic 39: old time - time radio - radio sponsored - dvd old - science fiction - classic tv',\n",
       " u'Topic 40: mentioned show - stitcher radio - feel good - today going - dont forget - right away',\n",
       " u'Topic 41: coffee break - full transcript - write u - premium version - read full - season lesson',\n",
       " u'Topic 42: dharma talk - guided meditation - talk given - wa given - buddhist monastery - amaravati buddhist',\n",
       " u'Topic 43: also cover - back another - open source - tip week - week joined - also discussed',\n",
       " u'Topic 44: never heard - via email - real housewife - rest u - even better - ha found',\n",
       " u'Topic 45: area life - guest today - take action - today discus - life want - make change',\n",
       " u'Topic 46: trend following - amazon kindle - goldman sachs - federal reserve - book sold - fine book',\n",
       " u'Topic 47: link resource - resource mentioned - email list - show link - click show - research practice',\n",
       " u'Topic 48: click via - via r - lds church - via click - via stitcher - mindfulness meditation',\n",
       " u'Topic 49: walt disney - disney world - false false - style definition - definition tablemsonormaltable - msostylenoshow yes',\n",
       " u'Topic 50: new album - craft beer - brewing company - google play - beer session - stitcher tunein',\n",
       " u'Topic 51: fat loss - essential oil - report week - going learn - immune system - relationship food',\n",
       " u'Topic 52: appeared first - read post - post ep - reading post - part appeared - radio broadcast',\n",
       " u'Topic 53: bbc radio - solar system - black hole - favorite track - pm central - harry potter',\n",
       " u'Topic 54: information visit - life coach - law attraction - world renowned - spiritual teacher - family life',\n",
       " u'Topic 55: apple watch - app store - running time - bandwidth show - thanks cachefly - apple tv']"
      ]
     },
     "execution_count": 10,
     "metadata": {},
     "output_type": "execute_result"
    }
   ],
   "source": [
    "# Most Important Words for Each Topic\n",
    "topic_words = model.topic_word_\n",
    "print(topic_words.shape)\n",
    "\n",
    "top_n = 6\n",
    "topic_names_temp = []\n",
    "for ii, dist in enumerate(topic_words):\n",
    "    top_n_words = np.array(feature_names)[np.argsort(dist)][:-(top_n+1):-1]\n",
    "    topic_names_temp.append('Topic ' + str(ii) + ': ' + ' - '.join(top_n_words.flatten()))\n",
    "    #print('Topic {}:  {}'.format(ii, ' - '.join(topic_names_temp)))\n",
    "    \n",
    "topic_names_temp\n",
    "    "
   ]
  },
  {
   "cell_type": "markdown",
   "metadata": {},
   "source": [
    "## B. Show Topics"
   ]
  },
  {
   "cell_type": "code",
   "execution_count": 11,
   "metadata": {
    "collapsed": false
   },
   "outputs": [
    {
     "data": {
      "text/plain": [
       "(11735L, 56L)"
      ]
     },
     "execution_count": 11,
     "metadata": {},
     "output_type": "execute_result"
    }
   ],
   "source": [
    "model.doc_topic_.shape"
   ]
  },
  {
   "cell_type": "code",
   "execution_count": 12,
   "metadata": {
    "collapsed": false
   },
   "outputs": [
    {
     "name": "stdout",
     "output_type": "stream",
     "text": [
      "(11735L, 56L)\n"
     ]
    }
   ],
   "source": [
    "# Best Fitting Episodes for Each Topic\n",
    "show_topics = model.doc_topic_\n",
    "print(show_topics.shape)\n",
    "\n",
    "# Get closest topic for each show\n",
    "show_closest_topic = np.array(topic_names_temp)[show_topics.argmax(1)]\n",
    "# Get probability of closest topic for each show\n",
    "show_closest_topic_prob = show_topics.max(1)\n",
    "\n",
    "# Create data frame with the above two vectors\n",
    "show_closest_topic = pd.DataFrame({'usub': show_closest_topic,\n",
    "                                   'usub_prob': show_closest_topic_prob})\n",
    "# Add in the full show table\n",
    "show_closest_topic = pd.concat([show_closest_topic, shows], axis=1)\n",
    "# Extract the ID from the usub\n",
    "show_closest_topic['usub_id'] = show_closest_topic['usub'].str.extract('(Topic [0-9]{1,2})').str.replace('Topic ', '')\n",
    "\n",
    "# Reorder and rename columns\n",
    "show_closest_topic = show_closest_topic[['usub_id', 'usub', 'usub_prob', 'podcast_name', 'subgenre', 'show_desc']]\n",
    "show_closest_topic = show_closest_topic.rename(columns={'subgenre': 'isub'})\n"
   ]
  },
  {
   "cell_type": "code",
   "execution_count": 13,
   "metadata": {
    "collapsed": false
   },
   "outputs": [
    {
     "data": {
      "text/html": [
       "<div>\n",
       "<table border=\"1\" class=\"dataframe\">\n",
       "  <thead>\n",
       "    <tr style=\"text-align: right;\">\n",
       "      <th></th>\n",
       "      <th>usub_id</th>\n",
       "      <th>usub</th>\n",
       "      <th>usub_prob</th>\n",
       "      <th>podcast_name</th>\n",
       "      <th>isub</th>\n",
       "      <th>show_desc</th>\n",
       "    </tr>\n",
       "  </thead>\n",
       "  <tbody>\n",
       "    <tr>\n",
       "      <th>0</th>\n",
       "      <td>15</td>\n",
       "      <td>Topic 15: comic book - middle school - graphic...</td>\n",
       "      <td>0.387690</td>\n",
       "      <td>! Football Ringtones, Text Tones, Mail Alerts ...</td>\n",
       "      <td>College &amp; High School</td>\n",
       "      <td>Get FREE RINGTONES when you subscribe! Footbal...</td>\n",
       "    </tr>\n",
       "    <tr>\n",
       "      <th>1</th>\n",
       "      <td>55</td>\n",
       "      <td>Topic 55: apple watch - app store - running ti...</td>\n",
       "      <td>0.430023</td>\n",
       "      <td>! World's Funniest Ringtones for iPhone &amp; iPad...</td>\n",
       "      <td>Gadgets</td>\n",
       "      <td>Get FREE RINGTONES when you subscribe to The W...</td>\n",
       "    </tr>\n",
       "    <tr>\n",
       "      <th>2</th>\n",
       "      <td>55</td>\n",
       "      <td>Topic 55: apple watch - app store - running ti...</td>\n",
       "      <td>0.268448</td>\n",
       "      <td>! iPhone Ringtones</td>\n",
       "      <td>Video Games</td>\n",
       "      <td>Get FREE RINGTONES when you subscribe! The Wor...</td>\n",
       "    </tr>\n",
       "    <tr>\n",
       "      <th>3</th>\n",
       "      <td>32</td>\n",
       "      <td>Topic 32: medical school - interview dr - air ...</td>\n",
       "      <td>0.296358</td>\n",
       "      <td>\" Talk to Tony - Radio Show \" Licensed Psychol...</td>\n",
       "      <td>Social Sciences</td>\n",
       "      <td>Dr. Tony Ferretti offers a psychological persp...</td>\n",
       "    </tr>\n",
       "    <tr>\n",
       "      <th>4</th>\n",
       "      <td>53</td>\n",
       "      <td>Topic 53: bbc radio - solar system - black hol...</td>\n",
       "      <td>0.409414</td>\n",
       "      <td>\"A Tale of Two Cities\" Audiobook (Audio book)</td>\n",
       "      <td>Literature</td>\n",
       "      <td>\"A Tale of Two Cities\" was first published in ...</td>\n",
       "    </tr>\n",
       "  </tbody>\n",
       "</table>\n",
       "</div>"
      ],
      "text/plain": [
       "  usub_id                                               usub  usub_prob  \\\n",
       "0      15  Topic 15: comic book - middle school - graphic...   0.387690   \n",
       "1      55  Topic 55: apple watch - app store - running ti...   0.430023   \n",
       "2      55  Topic 55: apple watch - app store - running ti...   0.268448   \n",
       "3      32  Topic 32: medical school - interview dr - air ...   0.296358   \n",
       "4      53  Topic 53: bbc radio - solar system - black hol...   0.409414   \n",
       "\n",
       "                                        podcast_name                   isub  \\\n",
       "0  ! Football Ringtones, Text Tones, Mail Alerts ...  College & High School   \n",
       "1  ! World's Funniest Ringtones for iPhone & iPad...                Gadgets   \n",
       "2                                 ! iPhone Ringtones            Video Games   \n",
       "3  \" Talk to Tony - Radio Show \" Licensed Psychol...        Social Sciences   \n",
       "4      \"A Tale of Two Cities\" Audiobook (Audio book)             Literature   \n",
       "\n",
       "                                           show_desc  \n",
       "0  Get FREE RINGTONES when you subscribe! Footbal...  \n",
       "1  Get FREE RINGTONES when you subscribe to The W...  \n",
       "2  Get FREE RINGTONES when you subscribe! The Wor...  \n",
       "3  Dr. Tony Ferretti offers a psychological persp...  \n",
       "4  \"A Tale of Two Cities\" was first published in ...  "
      ]
     },
     "execution_count": 13,
     "metadata": {},
     "output_type": "execute_result"
    }
   ],
   "source": [
    "show_closest_topic.head()"
   ]
  },
  {
   "cell_type": "code",
   "execution_count": 14,
   "metadata": {
    "collapsed": false
   },
   "outputs": [],
   "source": [
    "# Export to CSV\n",
    "show_closest_topic.to_csv('../output/' + scenario + '_shows_and_closest_topics.csv', index=False)"
   ]
  },
  {
   "cell_type": "markdown",
   "metadata": {},
   "source": [
    "# V. Evaluation"
   ]
  },
  {
   "cell_type": "code",
   "execution_count": null,
   "metadata": {
    "collapsed": true
   },
   "outputs": [],
   "source": [
    "# Load category mapping\n",
    "cat_map = pd.read_csv('../raw/cat_maps/cat_map_' + scenario + '.csv')"
   ]
  }
 ],
 "metadata": {
  "kernelspec": {
   "display_name": "Python 2",
   "language": "python",
   "name": "python2"
  },
  "language_info": {
   "codemirror_mode": {
    "name": "ipython",
    "version": 2
   },
   "file_extension": ".py",
   "mimetype": "text/x-python",
   "name": "python",
   "nbconvert_exporter": "python",
   "pygments_lexer": "ipython2",
   "version": "2.7.10"
  }
 },
 "nbformat": 4,
 "nbformat_minor": 0
}
