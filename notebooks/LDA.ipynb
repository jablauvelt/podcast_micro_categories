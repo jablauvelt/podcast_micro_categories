{
 "cells": [
  {
   "cell_type": "markdown",
   "metadata": {},
   "source": [
    "# Podcast Micro-Categories\n",
    "### Exploratory Notebook\n",
    "### Unsupervised LDA"
   ]
  },
  {
   "cell_type": "code",
   "execution_count": 25,
   "metadata": {
    "collapsed": true
   },
   "outputs": [],
   "source": [
    "from __future__ import print_function\n",
    "from __future__ import division\n",
    "\n",
    "import gc\n",
    "import os\n",
    "import time\n",
    "\n",
    "import numpy as np\n",
    "import pandas as pd\n",
    "import scipy\n",
    "\n",
    "import lda\n",
    "\n",
    "from sklearn.externals import joblib\n"
   ]
  },
  {
   "cell_type": "code",
   "execution_count": 26,
   "metadata": {
    "collapsed": true
   },
   "outputs": [],
   "source": [
    "samp = False\n",
    "samp = '_samp' if samp else ''"
   ]
  },
  {
   "cell_type": "markdown",
   "metadata": {},
   "source": [
    "# I. Load"
   ]
  },
  {
   "cell_type": "code",
   "execution_count": 27,
   "metadata": {
    "collapsed": false
   },
   "outputs": [
    {
     "name": "stdout",
     "output_type": "stream",
     "text": [
      "Episode Term Document Matrix Shape: (11795, 58684)\n",
      "Episode Table Shape: (11795, 2)\n"
     ]
    }
   ],
   "source": [
    "\n",
    "# Load TDM\n",
    "loader = np.load('../interim/028_preproc_heavy_tdm' + samp + '.npz')\n",
    "tdm = scipy.sparse.csr_matrix((loader['data'], loader['indices'], loader['indptr']),\n",
    "                      shape=loader['shape'])\n",
    "\n",
    "# Load feature names\n",
    "feature_names = np.array(pd.read_pickle('../interim/028_preproc_heavy_names' + samp + '.p'))\n",
    "\n",
    "# Load show names and subgenres that still remain\n",
    "shows_concat = pd.read_pickle('../interim/028_preproc_heavy_shows_concat' + samp + '.p')\n",
    "\n",
    "# Load full show table so that summaries can be pulled in\n",
    "shows_full = pd.read_pickle('../interim/pods' + samp + '.p')\n",
    "\n",
    "print(\"Episode Term Document Matrix Shape:\", tdm.shape)\n",
    "print(\"Episode Table Shape:\", shows_concat.shape)\n",
    "assert tdm.shape[0] == shows_concat.shape[0]\n",
    "assert len(feature_names) == tdm.shape[1]"
   ]
  },
  {
   "cell_type": "code",
   "execution_count": 28,
   "metadata": {
    "collapsed": false
   },
   "outputs": [
    {
     "name": "stdout",
     "output_type": "stream",
     "text": [
      "(151, 18)\n",
      "(12319, 18)\n"
     ]
    }
   ],
   "source": [
    "# Remove duplicates from full show list (need to handle these earlier on in other scripts)\n",
    "dupes = shows_full.groupby(['podcast_name', 'subgenre']).filter(lambda group: len(group) > 1).sort('podcast_name')\n",
    "print(dupes.shape)\n",
    "shows_full = shows_full.drop_duplicates(['podcast_name', 'subgenre'])\n",
    "print(shows_full.shape)"
   ]
  },
  {
   "cell_type": "code",
   "execution_count": 29,
   "metadata": {
    "collapsed": false
   },
   "outputs": [
    {
     "name": "stdout",
     "output_type": "stream",
     "text": [
      "(12319, 18)\n",
      "(11795, 2)\n",
      "(11795, 3)\n"
     ]
    },
    {
     "data": {
      "text/html": [
       "<div>\n",
       "<table border=\"1\" class=\"dataframe\">\n",
       "  <thead>\n",
       "    <tr style=\"text-align: right;\">\n",
       "      <th></th>\n",
       "      <th>podcast_name</th>\n",
       "      <th>subgenre</th>\n",
       "      <th>show_desc</th>\n",
       "    </tr>\n",
       "  </thead>\n",
       "  <tbody>\n",
       "    <tr>\n",
       "      <th>0</th>\n",
       "      <td>! Football Ringtones, Text Tones, Mail Alerts ...</td>\n",
       "      <td>College &amp; High School</td>\n",
       "      <td>Get FREE RINGTONES when you subscribe! Footbal...</td>\n",
       "    </tr>\n",
       "    <tr>\n",
       "      <th>1</th>\n",
       "      <td>! World's Funniest Ringtones for iPhone &amp; iPad...</td>\n",
       "      <td>Gadgets</td>\n",
       "      <td>Get FREE RINGTONES when you subscribe to The W...</td>\n",
       "    </tr>\n",
       "    <tr>\n",
       "      <th>2</th>\n",
       "      <td>! iPhone Ringtones</td>\n",
       "      <td>Video Games</td>\n",
       "      <td>Get FREE RINGTONES when you subscribe! The Wor...</td>\n",
       "    </tr>\n",
       "    <tr>\n",
       "      <th>3</th>\n",
       "      <td>\" Talk to Tony - Radio Show \" Licensed Psychol...</td>\n",
       "      <td>Social Sciences</td>\n",
       "      <td>Dr. Tony Ferretti offers a psychological persp...</td>\n",
       "    </tr>\n",
       "    <tr>\n",
       "      <th>4</th>\n",
       "      <td>\"A Tale of Two Cities\" Audiobook (Audio book)</td>\n",
       "      <td>Literature</td>\n",
       "      <td>\"A Tale of Two Cities\" was first published in ...</td>\n",
       "    </tr>\n",
       "  </tbody>\n",
       "</table>\n",
       "</div>"
      ],
      "text/plain": [
       "                                        podcast_name               subgenre  \\\n",
       "0  ! Football Ringtones, Text Tones, Mail Alerts ...  College & High School   \n",
       "1  ! World's Funniest Ringtones for iPhone & iPad...                Gadgets   \n",
       "2                                 ! iPhone Ringtones            Video Games   \n",
       "3  \" Talk to Tony - Radio Show \" Licensed Psychol...        Social Sciences   \n",
       "4      \"A Tale of Two Cities\" Audiobook (Audio book)             Literature   \n",
       "\n",
       "                                           show_desc  \n",
       "0  Get FREE RINGTONES when you subscribe! Footbal...  \n",
       "1  Get FREE RINGTONES when you subscribe to The W...  \n",
       "2  Get FREE RINGTONES when you subscribe! The Wor...  \n",
       "3  Dr. Tony Ferretti offers a psychological persp...  \n",
       "4  \"A Tale of Two Cities\" was first published in ...  "
      ]
     },
     "execution_count": 29,
     "metadata": {},
     "output_type": "execute_result"
    }
   ],
   "source": [
    "# Join data from full show table to list of shows in the model\n",
    "\n",
    "print(shows_full.shape)\n",
    "print(shows_concat.shape)\n",
    "\n",
    "shows = pd.merge(shows_concat, shows_full[['podcast_name', 'subgenre', 'show_desc']], \n",
    "                 on = ['podcast_name', 'subgenre'], how='left', sort=False)\n",
    "print(shows.shape)\n",
    "assert shows.shape[0] == shows_concat.shape[0]\n",
    "shows.head()"
   ]
  },
  {
   "cell_type": "code",
   "execution_count": 30,
   "metadata": {
    "collapsed": false
   },
   "outputs": [
    {
     "data": {
      "text/plain": [
       "array([[0, 0, 0, 0, 0, 0, 0, 0, 0, 0, 0, 0, 0, 0, 0, 0, 0, 0, 0, 0],\n",
       "       [0, 0, 0, 0, 0, 0, 0, 0, 0, 0, 0, 0, 0, 0, 0, 0, 0, 0, 0, 0],\n",
       "       [0, 0, 0, 0, 0, 0, 0, 0, 0, 0, 0, 0, 0, 0, 0, 0, 0, 0, 0, 0],\n",
       "       [0, 0, 0, 0, 0, 0, 0, 0, 0, 0, 0, 0, 0, 0, 0, 0, 0, 0, 0, 0],\n",
       "       [0, 0, 0, 0, 0, 0, 0, 0, 0, 0, 0, 0, 0, 0, 0, 0, 0, 0, 0, 0]], dtype=int64)"
      ]
     },
     "execution_count": 30,
     "metadata": {},
     "output_type": "execute_result"
    }
   ],
   "source": [
    "# Small cutout of TDM - it is a sparse matrix and therefore mostly 0s\n",
    "tdm.toarray()[:5,0:20]"
   ]
  },
  {
   "cell_type": "markdown",
   "metadata": {},
   "source": [
    "# II. Filter"
   ]
  },
  {
   "cell_type": "code",
   "execution_count": 31,
   "metadata": {
    "collapsed": false
   },
   "outputs": [],
   "source": [
    "row_sums = np.array(tdm.sum(axis=1)).flatten()"
   ]
  },
  {
   "cell_type": "code",
   "execution_count": 32,
   "metadata": {
    "collapsed": false
   },
   "outputs": [
    {
     "data": {
      "text/html": [
       "<div>\n",
       "<table border=\"1\" class=\"dataframe\">\n",
       "  <thead>\n",
       "    <tr style=\"text-align: right;\">\n",
       "      <th></th>\n",
       "      <th>podcast_name</th>\n",
       "      <th>subgenre</th>\n",
       "      <th>show_desc</th>\n",
       "    </tr>\n",
       "  </thead>\n",
       "  <tbody>\n",
       "    <tr>\n",
       "      <th>88</th>\n",
       "      <td>2 Minute Chef</td>\n",
       "      <td>Food</td>\n",
       "      <td>Recipes you can cook fast and easily. These qu...</td>\n",
       "    </tr>\n",
       "    <tr>\n",
       "      <th>712</th>\n",
       "      <td>Arabic Grammar 2010</td>\n",
       "      <td>Islam</td>\n",
       "      <td>The beautiful Arabic language is the one chose...</td>\n",
       "    </tr>\n",
       "    <tr>\n",
       "      <th>1126</th>\n",
       "      <td>Bhagavad Gita Class (Ch1) in Sanskrit by Dr. K...</td>\n",
       "      <td>Hinduism</td>\n",
       "      <td>Bhagavad Gita Class (Ch1) in Sanskrit by Dr. K...</td>\n",
       "    </tr>\n",
       "    <tr>\n",
       "      <th>1307</th>\n",
       "      <td>Brain Talk</td>\n",
       "      <td>Medicine</td>\n",
       "      <td>Brain Talk, a BSi production, hosts weekly int...</td>\n",
       "    </tr>\n",
       "    <tr>\n",
       "      <th>1658</th>\n",
       "      <td>Chio in the morning's podcast</td>\n",
       "      <td>Podcasting</td>\n",
       "      <td>None</td>\n",
       "    </tr>\n",
       "    <tr>\n",
       "      <th>2500</th>\n",
       "      <td>Dr. Usama Al-Atar Lectures</td>\n",
       "      <td>Islam</td>\n",
       "      <td>Al-Hajj Usama Al-Atar is originally from the h...</td>\n",
       "    </tr>\n",
       "    <tr>\n",
       "      <th>2534</th>\n",
       "      <td>Driving Sports TV</td>\n",
       "      <td>Automotive</td>\n",
       "      <td>The video series for a new generation of drivi...</td>\n",
       "    </tr>\n",
       "    <tr>\n",
       "      <th>2847</th>\n",
       "      <td>Experimental Game Development Podcast</td>\n",
       "      <td>Tech News</td>\n",
       "      <td>A show that talks about the development and se...</td>\n",
       "    </tr>\n",
       "    <tr>\n",
       "      <th>3022</th>\n",
       "      <td>Figure Drawing Online</td>\n",
       "      <td>Visual Arts</td>\n",
       "      <td>Figure Drawing Online provides free video podc...</td>\n",
       "    </tr>\n",
       "    <tr>\n",
       "      <th>4511</th>\n",
       "      <td>Kabbalah Media Updates</td>\n",
       "      <td>Judaism</td>\n",
       "      <td>Kabbalah podcast brings you the daily kabbalah...</td>\n",
       "    </tr>\n",
       "    <tr>\n",
       "      <th>5121</th>\n",
       "      <td>MahiShAsuramardinI Stotra Class in Sanskrit</td>\n",
       "      <td>Hinduism</td>\n",
       "      <td>MahiShAsuramardinI Stotra Class in Sanskrit by...</td>\n",
       "    </tr>\n",
       "    <tr>\n",
       "      <th>5717</th>\n",
       "      <td>National Defense Magazine's Podcast</td>\n",
       "      <td>Non-Profit</td>\n",
       "      <td>National Defense is a podcast on military tech...</td>\n",
       "    </tr>\n",
       "    <tr>\n",
       "      <th>6893</th>\n",
       "      <td>RCFlightline Forums - Beyond the Flightline</td>\n",
       "      <td>Aviation</td>\n",
       "      <td>Our family friendly podcast integrates radio c...</td>\n",
       "    </tr>\n",
       "    <tr>\n",
       "      <th>7178</th>\n",
       "      <td>Revolutionary Dating</td>\n",
       "      <td>Podcasting</td>\n",
       "      <td>This podcast is to help single guys find the g...</td>\n",
       "    </tr>\n",
       "    <tr>\n",
       "      <th>7422</th>\n",
       "      <td>Saloeurm Savath</td>\n",
       "      <td>Buddhism</td>\n",
       "      <td>This podcast is created for sharing the Khmer ...</td>\n",
       "    </tr>\n",
       "    <tr>\n",
       "      <th>7452</th>\n",
       "      <td>Saturday Morning Samoflange</td>\n",
       "      <td>TV &amp; Film</td>\n",
       "      <td>Giving our Top 5 on Movies, TV shows and Games!</td>\n",
       "    </tr>\n",
       "    <tr>\n",
       "      <th>7898</th>\n",
       "      <td>Spanish - The EZ Way with LaGringa</td>\n",
       "      <td>Language Courses</td>\n",
       "      <td>Learn Spanish the EZ Way. Your Host, Cass Mull...</td>\n",
       "    </tr>\n",
       "    <tr>\n",
       "      <th>8648</th>\n",
       "      <td>The Beginning of the End</td>\n",
       "      <td>Personal Journals</td>\n",
       "      <td>Stories about when, how and why things end, to...</td>\n",
       "    </tr>\n",
       "    <tr>\n",
       "      <th>9142</th>\n",
       "      <td>The Football Coaching Podcast with Joe Daniel</td>\n",
       "      <td>College &amp; High School</td>\n",
       "      <td>The Football Coaching Podcast focuses on topic...</td>\n",
       "    </tr>\n",
       "    <tr>\n",
       "      <th>9501</th>\n",
       "      <td>The Learn Auto Body And Paint Weekly Pod</td>\n",
       "      <td>Automotive</td>\n",
       "      <td>Have you ever wanted to learn how to customize...</td>\n",
       "    </tr>\n",
       "    <tr>\n",
       "      <th>10696</th>\n",
       "      <td>Today In History</td>\n",
       "      <td>History</td>\n",
       "      <td>An automated daily podcast that covers an even...</td>\n",
       "    </tr>\n",
       "    <tr>\n",
       "      <th>11126</th>\n",
       "      <td>Visual MS Excel</td>\n",
       "      <td>Higher Education</td>\n",
       "      <td>Microsoft Excel usage by students, educators, ...</td>\n",
       "    </tr>\n",
       "    <tr>\n",
       "      <th>11188</th>\n",
       "      <td>WSJ Your Money Matters</td>\n",
       "      <td>Investing</td>\n",
       "      <td>Enjoy listening to insights from The Wall Stre...</td>\n",
       "    </tr>\n",
       "    <tr>\n",
       "      <th>11723</th>\n",
       "      <td>keithcast's Podcast</td>\n",
       "      <td>Automotive</td>\n",
       "      <td>I talk about what's my mind, and what's going ...</td>\n",
       "    </tr>\n",
       "    <tr>\n",
       "      <th>11739</th>\n",
       "      <td>o2 ??????</td>\n",
       "      <td>Training</td>\n",
       "      <td>my podcast</td>\n",
       "    </tr>\n",
       "  </tbody>\n",
       "</table>\n",
       "</div>"
      ],
      "text/plain": [
       "                                            podcast_name  \\\n",
       "88                                         2 Minute Chef   \n",
       "712                                  Arabic Grammar 2010   \n",
       "1126   Bhagavad Gita Class (Ch1) in Sanskrit by Dr. K...   \n",
       "1307                                          Brain Talk   \n",
       "1658                       Chio in the morning's podcast   \n",
       "2500                          Dr. Usama Al-Atar Lectures   \n",
       "2534                                   Driving Sports TV   \n",
       "2847               Experimental Game Development Podcast   \n",
       "3022                               Figure Drawing Online   \n",
       "4511                              Kabbalah Media Updates   \n",
       "5121         MahiShAsuramardinI Stotra Class in Sanskrit   \n",
       "5717                 National Defense Magazine's Podcast   \n",
       "6893         RCFlightline Forums - Beyond the Flightline   \n",
       "7178                                Revolutionary Dating   \n",
       "7422                                     Saloeurm Savath   \n",
       "7452                         Saturday Morning Samoflange   \n",
       "7898                  Spanish - The EZ Way with LaGringa   \n",
       "8648                            The Beginning of the End   \n",
       "9142       The Football Coaching Podcast with Joe Daniel   \n",
       "9501            The Learn Auto Body And Paint Weekly Pod   \n",
       "10696                                   Today In History   \n",
       "11126                                    Visual MS Excel   \n",
       "11188                             WSJ Your Money Matters   \n",
       "11723                                keithcast's Podcast   \n",
       "11739                                          o2 ??????   \n",
       "\n",
       "                    subgenre  \\\n",
       "88                      Food   \n",
       "712                    Islam   \n",
       "1126                Hinduism   \n",
       "1307                Medicine   \n",
       "1658              Podcasting   \n",
       "2500                   Islam   \n",
       "2534              Automotive   \n",
       "2847               Tech News   \n",
       "3022             Visual Arts   \n",
       "4511                 Judaism   \n",
       "5121                Hinduism   \n",
       "5717              Non-Profit   \n",
       "6893                Aviation   \n",
       "7178              Podcasting   \n",
       "7422                Buddhism   \n",
       "7452               TV & Film   \n",
       "7898        Language Courses   \n",
       "8648       Personal Journals   \n",
       "9142   College & High School   \n",
       "9501              Automotive   \n",
       "10696                History   \n",
       "11126       Higher Education   \n",
       "11188              Investing   \n",
       "11723             Automotive   \n",
       "11739               Training   \n",
       "\n",
       "                                               show_desc  \n",
       "88     Recipes you can cook fast and easily. These qu...  \n",
       "712    The beautiful Arabic language is the one chose...  \n",
       "1126   Bhagavad Gita Class (Ch1) in Sanskrit by Dr. K...  \n",
       "1307   Brain Talk, a BSi production, hosts weekly int...  \n",
       "1658                                                None  \n",
       "2500   Al-Hajj Usama Al-Atar is originally from the h...  \n",
       "2534   The video series for a new generation of drivi...  \n",
       "2847   A show that talks about the development and se...  \n",
       "3022   Figure Drawing Online provides free video podc...  \n",
       "4511   Kabbalah podcast brings you the daily kabbalah...  \n",
       "5121   MahiShAsuramardinI Stotra Class in Sanskrit by...  \n",
       "5717   National Defense is a podcast on military tech...  \n",
       "6893   Our family friendly podcast integrates radio c...  \n",
       "7178   This podcast is to help single guys find the g...  \n",
       "7422   This podcast is created for sharing the Khmer ...  \n",
       "7452     Giving our Top 5 on Movies, TV shows and Games!  \n",
       "7898   Learn Spanish the EZ Way. Your Host, Cass Mull...  \n",
       "8648   Stories about when, how and why things end, to...  \n",
       "9142   The Football Coaching Podcast focuses on topic...  \n",
       "9501   Have you ever wanted to learn how to customize...  \n",
       "10696  An automated daily podcast that covers an even...  \n",
       "11126  Microsoft Excel usage by students, educators, ...  \n",
       "11188  Enjoy listening to insights from The Wall Stre...  \n",
       "11723  I talk about what's my mind, and what's going ...  \n",
       "11739                                         my podcast  "
      ]
     },
     "execution_count": 32,
     "metadata": {},
     "output_type": "execute_result"
    }
   ],
   "source": [
    "shows.ix[np.where(row_sums == 0)[0],:]"
   ]
  },
  {
   "cell_type": "code",
   "execution_count": 33,
   "metadata": {
    "collapsed": false
   },
   "outputs": [
    {
     "data": {
      "text/plain": [
       "6     48\n",
       "3     47\n",
       "8     44\n",
       "10    39\n",
       "4     38\n",
       "dtype: int64"
      ]
     },
     "execution_count": 33,
     "metadata": {},
     "output_type": "execute_result"
    }
   ],
   "source": [
    "pd.Series(row_sums).value_counts().head()"
   ]
  },
  {
   "cell_type": "code",
   "execution_count": 34,
   "metadata": {
    "collapsed": false
   },
   "outputs": [
    {
     "name": "stdout",
     "output_type": "stream",
     "text": [
      "(11770, 3)\n",
      "(11770, 58684)\n"
     ]
    }
   ],
   "source": [
    "# Remove rows with zero words in the set\n",
    "shows = shows.ix[np.where(row_sums > 0)[0],:]\n",
    "tdm = tdm[np.where(row_sums > 0)[0],:]\n",
    "print(shows.shape)\n",
    "print(tdm.shape)"
   ]
  },
  {
   "cell_type": "markdown",
   "metadata": {},
   "source": [
    "# III. Train LDA Model"
   ]
  },
  {
   "cell_type": "code",
   "execution_count": 123,
   "metadata": {
    "collapsed": false
   },
   "outputs": [
    {
     "name": "stdout",
     "output_type": "stream",
     "text": [
      "Wall time: 2h 16min 22s\n"
     ]
    },
    {
     "data": {
      "text/plain": [
       "<lda.lda.LDA instance at 0x0000000012878BC8>"
      ]
     },
     "execution_count": 123,
     "metadata": {},
     "output_type": "execute_result"
    }
   ],
   "source": [
    "# Create model\n",
    "model = lda.LDA(n_topics=56, n_iter=500, random_state=42)\n",
    "\n",
    "# Fit model (takes about 2 hours 15 minutes)\n",
    "#%time model.fit(tdm)"
   ]
  },
  {
   "cell_type": "code",
   "execution_count": 8,
   "metadata": {
    "collapsed": false
   },
   "outputs": [],
   "source": [
    "# (Save/Load model pickle object as needed)\n",
    "# Pickle model\n",
    "#joblib.dump(model, '../interim/trained_models/lda/lda' + samp + '.pkl')\n",
    "# Load pickled model\n",
    "#model = joblib.load('../interim/trained_models/lda/lda.pkl')"
   ]
  },
  {
   "cell_type": "markdown",
   "metadata": {},
   "source": [
    "# IV. Exploration"
   ]
  },
  {
   "cell_type": "markdown",
   "metadata": {},
   "source": [
    "## A. Model Words"
   ]
  },
  {
   "cell_type": "code",
   "execution_count": 35,
   "metadata": {
    "collapsed": false
   },
   "outputs": [
    {
     "name": "stdout",
     "output_type": "stream",
     "text": [
      "(56L, 58684L)\n",
      "Topic 0:  buddhist zen dharma buddhism aviation retreat buddha lama\n",
      "Topic 1:  nonprofit certified awardwinning internationally clinical therapist volunteer faculty\n",
      "Topic 2:  survivor ron ian terry directed louis harris keith\n",
      "Topic 3:  gay porn sexy dental toy emily sexuality spouse\n",
      "Topic 4:  developer agile programming stack server chuck javascript github\n",
      "Topic 5:  muslim islamic donate publisher reminder updated lasting countless\n",
      "Topic 6:  gaming jj rpg dungeon kickstarter dice dragon miniature\n",
      "Topic 7:  golf archive poker favourite luxury disc piano castaway\n",
      "Topic 8:  paranormal psychic ufo tarot healer pagan intuitive investigation\n",
      "Topic 9:  yoga oldtimeradiodvdcom dvd aired announcer shipping perry superman\n",
      "Topic 10:  promo ep wwwyoutubecomwatch donation slate audible checkout discount\n",
      "Topic 11:  bbc britain programme india historian centre royal german\n",
      "Topic 12:  estate investor investing trading income retirement debt portfolio\n",
      "Topic 13:  gang rant yeah gon installment dude shake shout\n",
      "Topic 14:  adhd disorder nutrition symptom pregnancy sugar gut holistic\n",
      "Topic 15:  wasnt basically suggested yesterday unfortunately okay showed poetry\n",
      "Topic 16:  android drone io vr microsoft bandwidth samsung cachefly\n",
      "Topic 17:  nutrition paleo jimmy muscle workout lowcarb gym crossfit\n",
      "Topic 18:  stitcher patreon rating r clicking patron soundcloud libsyn\n",
      "Topic 19:  spoiler marvel batman superman geek horror trailer flash\n",
      "Topic 20:  mindfulness yoga miracle gratitude consciousness guided conscious heal\n",
      "Topic 21:  pt false cambria minorlatin mormon chiropractic xnone lds\n",
      "Topic 22:  nfl nba draft baseball playoff basketball packer rookie\n",
      "Topic 23:  cigar copyright dj indoor reserved playlist bpm instructor\n",
      "Topic 24:  clinton obama hillary presidential republican murder supreme criminal\n",
      "Topic 25:  lecture scholar poetry narrative contemporary moral argues literature\n",
      "Topic 26:  wrestling mat martial belt bjj roy mma spreaker\n",
      "Topic 27:  gmailcom mp voicemail brewing min dvd nickname brewery\n",
      "Topic 28:  climate federal economics bitcoin environmental sector regulation stanford\n",
      "Topic 29:  wine chef cooking vegan farmer cheese chicken meat\n",
      "Topic 30:  disney walt disneyland cruise resort wdw attraction mouse\n",
      "Topic 31:  basketball recruiting iowa sec georgia alabama ohio championship\n",
      "Topic 32:  productivity productive quit takeaway entrepreneurial lawyer entrepreneurship accomplish\n",
      "Topic 33:  remix ft feat dj spinnin edit tracklist dub\n",
      "Topic 34:  rabbi jewish commentary torah israel jew larson hebrew\n",
      "Topic 35:  transcript premium spanish pdf expression vat italian shane\n",
      "Topic 36:  yarn knitting sock knit fiber ravelry du quilt\n",
      "Topic 37:  hunting fishing deer buck outdoors rv trail turkey\n",
      "Topic 38:  en el que mb del translation di se\n",
      "Topic 39:  jesus bible pastor ministry atheist christ sermon gospel\n",
      "Topic 40:  comedian larry joel mitch separation pixel standup jesse\n",
      "Topic 41:  nintendo gaming tennis softball wow destiny pokemon p\n",
      "Topic 42:  bryan licensed cc macleod license jake exam incompetechcom\n",
      "Topic 43:  ipad mac io google+ chuck macvoices deck hd\n",
      "Topic 44:  md clinical em physician surgery lecture oncology nurse\n",
      "Topic 45:  celtic bike cycling irish marc cd ireland kenobi\n",
      "Topic 46:  theatre singer broadway jazz guitar filmmaker composer genre\n",
      "Topic 47:  startup affiliate seller income nathan revenue marketer traffic\n",
      "Topic 48:  gallery megan painting katie exhibition architecture etsy jewelry\n",
      "Topic 49:  marine traveler pacific bigfoot navy specie garrison boat\n",
      "Topic 50:  photography photographer dot linux com adobe lens photoshop\n",
      "Topic 51:  marathon runner ufc endurance ironman ross triathlon evan\n",
      "Topic 52:  classroom principal firearm edtech entertaining preparedness grade prepper\n",
      "Topic 53:  doug mar nasa solar astronomy skeptic astrology physic\n",
      "Topic 54:  wwe wrestling raw pat castle est dillon breakfast\n",
      "Topic 55:  motorcycle racing automotive vehicle auto motor truck bike\n"
     ]
    }
   ],
   "source": [
    "# Most Important Words for Each Topic\n",
    "topic_words = model.topic_word_\n",
    "print(topic_words.shape)\n",
    "\n",
    "top_n = 8\n",
    "topic_names_temp = []\n",
    "for ii, dist in enumerate(topic_words):\n",
    "    topic_words = np.array(feature_names)[np.argsort(dist)][:-(top_n+1):-1]\n",
    "    topic_names_temp.append('Topic ' + str(ii) + ': ' + '-'.join(topic_words.flatten()[:4]))\n",
    "    print('Topic {}:  {}'.format(ii, ' '.join(topic_words.flatten())))\n",
    "    "
   ]
  },
  {
   "cell_type": "markdown",
   "metadata": {},
   "source": [
    "## B. Show Topics"
   ]
  },
  {
   "cell_type": "code",
   "execution_count": 39,
   "metadata": {
    "collapsed": false
   },
   "outputs": [
    {
     "data": {
      "text/plain": [
       "(11770L, 56L)"
      ]
     },
     "execution_count": 39,
     "metadata": {},
     "output_type": "execute_result"
    }
   ],
   "source": [
    "model.doc_topic_.shape"
   ]
  },
  {
   "cell_type": "code",
   "execution_count": 52,
   "metadata": {
    "collapsed": false
   },
   "outputs": [
    {
     "data": {
      "text/plain": [
       "(11770L, 56L)"
      ]
     },
     "execution_count": 52,
     "metadata": {},
     "output_type": "execute_result"
    }
   ],
   "source": [
    "model.doc_topic_.shape"
   ]
  },
  {
   "cell_type": "code",
   "execution_count": 59,
   "metadata": {
    "collapsed": false
   },
   "outputs": [
    {
     "name": "stdout",
     "output_type": "stream",
     "text": [
      "(11770L, 56L)\n"
     ]
    }
   ],
   "source": [
    "# Best Fitting Episodes for Each Topic\n",
    "show_topics = model.doc_topic_\n",
    "print(show_topics.shape)\n",
    "\n",
    "\n",
    "show_closest_topic = np.array(topic_names_temp)[show_topics.argmax(1)]\n",
    "show_closest_topic_prob = show_topics.max(1)"
   ]
  },
  {
   "cell_type": "code",
   "execution_count": 64,
   "metadata": {
    "collapsed": false
   },
   "outputs": [
    {
     "data": {
      "text/html": [
       "<div>\n",
       "<table border=\"1\" class=\"dataframe\">\n",
       "  <thead>\n",
       "    <tr style=\"text-align: right;\">\n",
       "      <th></th>\n",
       "      <th>podcast_name</th>\n",
       "      <th>subgenre</th>\n",
       "      <th>show_desc</th>\n",
       "    </tr>\n",
       "  </thead>\n",
       "  <tbody>\n",
       "    <tr>\n",
       "      <th>0</th>\n",
       "      <td>! Football Ringtones, Text Tones, Mail Alerts ...</td>\n",
       "      <td>College &amp; High School</td>\n",
       "      <td>Get FREE RINGTONES when you subscribe! Footbal...</td>\n",
       "    </tr>\n",
       "    <tr>\n",
       "      <th>1</th>\n",
       "      <td>! World's Funniest Ringtones for iPhone &amp; iPad...</td>\n",
       "      <td>Gadgets</td>\n",
       "      <td>Get FREE RINGTONES when you subscribe to The W...</td>\n",
       "    </tr>\n",
       "    <tr>\n",
       "      <th>2</th>\n",
       "      <td>! iPhone Ringtones</td>\n",
       "      <td>Video Games</td>\n",
       "      <td>Get FREE RINGTONES when you subscribe! The Wor...</td>\n",
       "    </tr>\n",
       "    <tr>\n",
       "      <th>3</th>\n",
       "      <td>\" Talk to Tony - Radio Show \" Licensed Psychol...</td>\n",
       "      <td>Social Sciences</td>\n",
       "      <td>Dr. Tony Ferretti offers a psychological persp...</td>\n",
       "    </tr>\n",
       "    <tr>\n",
       "      <th>4</th>\n",
       "      <td>\"A Tale of Two Cities\" Audiobook (Audio book)</td>\n",
       "      <td>Literature</td>\n",
       "      <td>\"A Tale of Two Cities\" was first published in ...</td>\n",
       "    </tr>\n",
       "  </tbody>\n",
       "</table>\n",
       "</div>"
      ],
      "text/plain": [
       "                                        podcast_name               subgenre  \\\n",
       "0  ! Football Ringtones, Text Tones, Mail Alerts ...  College & High School   \n",
       "1  ! World's Funniest Ringtones for iPhone & iPad...                Gadgets   \n",
       "2                                 ! iPhone Ringtones            Video Games   \n",
       "3  \" Talk to Tony - Radio Show \" Licensed Psychol...        Social Sciences   \n",
       "4      \"A Tale of Two Cities\" Audiobook (Audio book)             Literature   \n",
       "\n",
       "                                           show_desc  \n",
       "0  Get FREE RINGTONES when you subscribe! Footbal...  \n",
       "1  Get FREE RINGTONES when you subscribe to The W...  \n",
       "2  Get FREE RINGTONES when you subscribe! The Wor...  \n",
       "3  Dr. Tony Ferretti offers a psychological persp...  \n",
       "4  \"A Tale of Two Cities\" was first published in ...  "
      ]
     },
     "execution_count": 64,
     "metadata": {},
     "output_type": "execute_result"
    }
   ],
   "source": [
    "shows.head()"
   ]
  },
  {
   "cell_type": "code",
   "execution_count": 65,
   "metadata": {
    "collapsed": false
   },
   "outputs": [
    {
     "data": {
      "text/html": [
       "<div>\n",
       "<table border=\"1\" class=\"dataframe\">\n",
       "  <thead>\n",
       "    <tr style=\"text-align: right;\">\n",
       "      <th></th>\n",
       "      <th>prob</th>\n",
       "      <th>topic</th>\n",
       "    </tr>\n",
       "  </thead>\n",
       "  <tbody>\n",
       "    <tr>\n",
       "      <th>0</th>\n",
       "      <td>0.749332</td>\n",
       "      <td>Topic 51: marathon-runner-ufc-endurance</td>\n",
       "    </tr>\n",
       "    <tr>\n",
       "      <th>1</th>\n",
       "      <td>0.846425</td>\n",
       "      <td>Topic 51: marathon-runner-ufc-endurance</td>\n",
       "    </tr>\n",
       "    <tr>\n",
       "      <th>2</th>\n",
       "      <td>0.772727</td>\n",
       "      <td>Topic 51: marathon-runner-ufc-endurance</td>\n",
       "    </tr>\n",
       "    <tr>\n",
       "      <th>3</th>\n",
       "      <td>0.353501</td>\n",
       "      <td>Topic 20: mindfulness-yoga-miracle-gratitude</td>\n",
       "    </tr>\n",
       "    <tr>\n",
       "      <th>4</th>\n",
       "      <td>0.475575</td>\n",
       "      <td>Topic 36: yarn-knitting-sock-knit</td>\n",
       "    </tr>\n",
       "  </tbody>\n",
       "</table>\n",
       "</div>"
      ],
      "text/plain": [
       "       prob                                         topic\n",
       "0  0.749332       Topic 51: marathon-runner-ufc-endurance\n",
       "1  0.846425       Topic 51: marathon-runner-ufc-endurance\n",
       "2  0.772727       Topic 51: marathon-runner-ufc-endurance\n",
       "3  0.353501  Topic 20: mindfulness-yoga-miracle-gratitude\n",
       "4  0.475575             Topic 36: yarn-knitting-sock-knit"
      ]
     },
     "execution_count": 65,
     "metadata": {},
     "output_type": "execute_result"
    }
   ],
   "source": [
    "show_closest_topic.head()"
   ]
  },
  {
   "cell_type": "code",
   "execution_count": 61,
   "metadata": {
    "collapsed": false
   },
   "outputs": [],
   "source": [
    "show_closest_topic = pd.DataFrame({'topic': show_closest_topic, \n",
    "                                 'prob': show_closest_topic_prob})\n",
    "show_closest_topic = pd.concat([show_closest_topic, shows], axis=1)"
   ]
  },
  {
   "cell_type": "code",
   "execution_count": 62,
   "metadata": {
    "collapsed": true
   },
   "outputs": [
    {
     "data": {
      "text/html": [
       "<div>\n",
       "<table border=\"1\" class=\"dataframe\">\n",
       "  <thead>\n",
       "    <tr style=\"text-align: right;\">\n",
       "      <th></th>\n",
       "      <th>prob</th>\n",
       "      <th>topic</th>\n",
       "    </tr>\n",
       "  </thead>\n",
       "  <tbody>\n",
       "    <tr>\n",
       "      <th>0</th>\n",
       "      <td>0.749332</td>\n",
       "      <td>Topic 51: marathon-runner-ufc-endurance</td>\n",
       "    </tr>\n",
       "    <tr>\n",
       "      <th>1</th>\n",
       "      <td>0.846425</td>\n",
       "      <td>Topic 51: marathon-runner-ufc-endurance</td>\n",
       "    </tr>\n",
       "    <tr>\n",
       "      <th>2</th>\n",
       "      <td>0.772727</td>\n",
       "      <td>Topic 51: marathon-runner-ufc-endurance</td>\n",
       "    </tr>\n",
       "    <tr>\n",
       "      <th>3</th>\n",
       "      <td>0.353501</td>\n",
       "      <td>Topic 20: mindfulness-yoga-miracle-gratitude</td>\n",
       "    </tr>\n",
       "    <tr>\n",
       "      <th>4</th>\n",
       "      <td>0.475575</td>\n",
       "      <td>Topic 36: yarn-knitting-sock-knit</td>\n",
       "    </tr>\n",
       "    <tr>\n",
       "      <th>5</th>\n",
       "      <td>0.431818</td>\n",
       "      <td>Topic 45: celtic-bike-cycling-irish</td>\n",
       "    </tr>\n",
       "    <tr>\n",
       "      <th>6</th>\n",
       "      <td>0.274194</td>\n",
       "      <td>Topic 3: gay-porn-sexy-dental</td>\n",
       "    </tr>\n",
       "    <tr>\n",
       "      <th>7</th>\n",
       "      <td>0.340491</td>\n",
       "      <td>Topic 9: yoga-oldtimeradiodvdcom-dvd-aired</td>\n",
       "    </tr>\n",
       "    <tr>\n",
       "      <th>8</th>\n",
       "      <td>0.212329</td>\n",
       "      <td>Topic 47: startup-affiliate-seller-income</td>\n",
       "    </tr>\n",
       "    <tr>\n",
       "      <th>9</th>\n",
       "      <td>0.463105</td>\n",
       "      <td>Topic 20: mindfulness-yoga-miracle-gratitude</td>\n",
       "    </tr>\n",
       "    <tr>\n",
       "      <th>10</th>\n",
       "      <td>0.557126</td>\n",
       "      <td>Topic 20: mindfulness-yoga-miracle-gratitude</td>\n",
       "    </tr>\n",
       "    <tr>\n",
       "      <th>11</th>\n",
       "      <td>0.272419</td>\n",
       "      <td>Topic 54: wwe-wrestling-raw-pat</td>\n",
       "    </tr>\n",
       "    <tr>\n",
       "      <th>12</th>\n",
       "      <td>0.467054</td>\n",
       "      <td>Topic 19: spoiler-marvel-batman-superman</td>\n",
       "    </tr>\n",
       "    <tr>\n",
       "      <th>13</th>\n",
       "      <td>0.431352</td>\n",
       "      <td>Topic 34: rabbi-jewish-commentary-torah</td>\n",
       "    </tr>\n",
       "    <tr>\n",
       "      <th>14</th>\n",
       "      <td>0.541252</td>\n",
       "      <td>Topic 24: clinton-obama-hillary-presidential</td>\n",
       "    </tr>\n",
       "    <tr>\n",
       "      <th>15</th>\n",
       "      <td>0.719731</td>\n",
       "      <td>Topic 29: wine-chef-cooking-vegan</td>\n",
       "    </tr>\n",
       "    <tr>\n",
       "      <th>16</th>\n",
       "      <td>0.677139</td>\n",
       "      <td>Topic 52: classroom-principal-firearm-edtech</td>\n",
       "    </tr>\n",
       "    <tr>\n",
       "      <th>17</th>\n",
       "      <td>0.789572</td>\n",
       "      <td>Topic 52: classroom-principal-firearm-edtech</td>\n",
       "    </tr>\n",
       "    <tr>\n",
       "      <th>18</th>\n",
       "      <td>0.402401</td>\n",
       "      <td>Topic 5: muslim-islamic-donate-publisher</td>\n",
       "    </tr>\n",
       "    <tr>\n",
       "      <th>19</th>\n",
       "      <td>0.297920</td>\n",
       "      <td>Topic 52: classroom-principal-firearm-edtech</td>\n",
       "    </tr>\n",
       "    <tr>\n",
       "      <th>20</th>\n",
       "      <td>0.317151</td>\n",
       "      <td>Topic 1: nonprofit-certified-awardwinning-inte...</td>\n",
       "    </tr>\n",
       "    <tr>\n",
       "      <th>21</th>\n",
       "      <td>0.326230</td>\n",
       "      <td>Topic 20: mindfulness-yoga-miracle-gratitude</td>\n",
       "    </tr>\n",
       "    <tr>\n",
       "      <th>22</th>\n",
       "      <td>0.224884</td>\n",
       "      <td>Topic 24: clinton-obama-hillary-presidential</td>\n",
       "    </tr>\n",
       "    <tr>\n",
       "      <th>23</th>\n",
       "      <td>0.416421</td>\n",
       "      <td>Topic 48: gallery-megan-painting-katie</td>\n",
       "    </tr>\n",
       "    <tr>\n",
       "      <th>24</th>\n",
       "      <td>0.414557</td>\n",
       "      <td>Topic 20: mindfulness-yoga-miracle-gratitude</td>\n",
       "    </tr>\n",
       "    <tr>\n",
       "      <th>25</th>\n",
       "      <td>0.585073</td>\n",
       "      <td>Topic 35: transcript-premium-spanish-pdf</td>\n",
       "    </tr>\n",
       "    <tr>\n",
       "      <th>26</th>\n",
       "      <td>0.218750</td>\n",
       "      <td>Topic 16: android-drone-io-vr</td>\n",
       "    </tr>\n",
       "    <tr>\n",
       "      <th>27</th>\n",
       "      <td>0.264354</td>\n",
       "      <td>Topic 2: survivor-ron-ian-terry</td>\n",
       "    </tr>\n",
       "    <tr>\n",
       "      <th>28</th>\n",
       "      <td>0.502052</td>\n",
       "      <td>Topic 20: mindfulness-yoga-miracle-gratitude</td>\n",
       "    </tr>\n",
       "    <tr>\n",
       "      <th>29</th>\n",
       "      <td>0.456169</td>\n",
       "      <td>Topic 6: gaming-jj-rpg-dungeon</td>\n",
       "    </tr>\n",
       "    <tr>\n",
       "      <th>...</th>\n",
       "      <td>...</td>\n",
       "      <td>...</td>\n",
       "    </tr>\n",
       "    <tr>\n",
       "      <th>11740</th>\n",
       "      <td>0.764151</td>\n",
       "      <td>Topic 40: comedian-larry-joel-mitch</td>\n",
       "    </tr>\n",
       "    <tr>\n",
       "      <th>11741</th>\n",
       "      <td>0.234203</td>\n",
       "      <td>Topic 49: marine-traveler-pacific-bigfoot</td>\n",
       "    </tr>\n",
       "    <tr>\n",
       "      <th>11742</th>\n",
       "      <td>0.440981</td>\n",
       "      <td>Topic 21: pt-false-cambria-minorlatin</td>\n",
       "    </tr>\n",
       "    <tr>\n",
       "      <th>11743</th>\n",
       "      <td>0.645415</td>\n",
       "      <td>Topic 28: climate-federal-economics-bitcoin</td>\n",
       "    </tr>\n",
       "    <tr>\n",
       "      <th>11744</th>\n",
       "      <td>0.995803</td>\n",
       "      <td>Topic 9: yoga-oldtimeradiodvdcom-dvd-aired</td>\n",
       "    </tr>\n",
       "    <tr>\n",
       "      <th>11745</th>\n",
       "      <td>0.274119</td>\n",
       "      <td>Topic 0: buddhist-zen-dharma-buddhism</td>\n",
       "    </tr>\n",
       "    <tr>\n",
       "      <th>11746</th>\n",
       "      <td>0.201787</td>\n",
       "      <td>Topic 28: climate-federal-economics-bitcoin</td>\n",
       "    </tr>\n",
       "    <tr>\n",
       "      <th>11747</th>\n",
       "      <td>0.430742</td>\n",
       "      <td>Topic 0: buddhist-zen-dharma-buddhism</td>\n",
       "    </tr>\n",
       "    <tr>\n",
       "      <th>11748</th>\n",
       "      <td>0.698651</td>\n",
       "      <td>Topic 38: en-el-que-mb</td>\n",
       "    </tr>\n",
       "    <tr>\n",
       "      <th>11749</th>\n",
       "      <td>0.349894</td>\n",
       "      <td>Topic 2: survivor-ron-ian-terry</td>\n",
       "    </tr>\n",
       "    <tr>\n",
       "      <th>11750</th>\n",
       "      <td>0.411058</td>\n",
       "      <td>Topic 18: stitcher-patreon-rating-r</td>\n",
       "    </tr>\n",
       "    <tr>\n",
       "      <th>11751</th>\n",
       "      <td>0.802842</td>\n",
       "      <td>Topic 49: marine-traveler-pacific-bigfoot</td>\n",
       "    </tr>\n",
       "    <tr>\n",
       "      <th>11752</th>\n",
       "      <td>0.465499</td>\n",
       "      <td>Topic 18: stitcher-patreon-rating-r</td>\n",
       "    </tr>\n",
       "    <tr>\n",
       "      <th>11753</th>\n",
       "      <td>0.190074</td>\n",
       "      <td>Topic 2: survivor-ron-ian-terry</td>\n",
       "    </tr>\n",
       "    <tr>\n",
       "      <th>11754</th>\n",
       "      <td>0.221195</td>\n",
       "      <td>Topic 48: gallery-megan-painting-katie</td>\n",
       "    </tr>\n",
       "    <tr>\n",
       "      <th>11755</th>\n",
       "      <td>0.325963</td>\n",
       "      <td>Topic 1: nonprofit-certified-awardwinning-inte...</td>\n",
       "    </tr>\n",
       "    <tr>\n",
       "      <th>11756</th>\n",
       "      <td>0.439752</td>\n",
       "      <td>Topic 55: motorcycle-racing-automotive-vehicle</td>\n",
       "    </tr>\n",
       "    <tr>\n",
       "      <th>11757</th>\n",
       "      <td>0.241476</td>\n",
       "      <td>Topic 29: wine-chef-cooking-vegan</td>\n",
       "    </tr>\n",
       "    <tr>\n",
       "      <th>11758</th>\n",
       "      <td>0.305732</td>\n",
       "      <td>Topic 16: android-drone-io-vr</td>\n",
       "    </tr>\n",
       "    <tr>\n",
       "      <th>11759</th>\n",
       "      <td>0.153930</td>\n",
       "      <td>Topic 53: doug-mar-nasa-solar</td>\n",
       "    </tr>\n",
       "    <tr>\n",
       "      <th>11760</th>\n",
       "      <td>0.489779</td>\n",
       "      <td>Topic 14: adhd-disorder-nutrition-symptom</td>\n",
       "    </tr>\n",
       "    <tr>\n",
       "      <th>11761</th>\n",
       "      <td>0.667873</td>\n",
       "      <td>Topic 4: developer-agile-programming-stack</td>\n",
       "    </tr>\n",
       "    <tr>\n",
       "      <th>11762</th>\n",
       "      <td>0.393657</td>\n",
       "      <td>Topic 42: bryan-licensed-cc-macleod</td>\n",
       "    </tr>\n",
       "    <tr>\n",
       "      <th>11763</th>\n",
       "      <td>0.353448</td>\n",
       "      <td>Topic 9: yoga-oldtimeradiodvdcom-dvd-aired</td>\n",
       "    </tr>\n",
       "    <tr>\n",
       "      <th>11764</th>\n",
       "      <td>0.469267</td>\n",
       "      <td>Topic 4: developer-agile-programming-stack</td>\n",
       "    </tr>\n",
       "    <tr>\n",
       "      <th>11765</th>\n",
       "      <td>0.302120</td>\n",
       "      <td>Topic 13: gang-rant-yeah-gon</td>\n",
       "    </tr>\n",
       "    <tr>\n",
       "      <th>11766</th>\n",
       "      <td>0.407807</td>\n",
       "      <td>Topic 26: wrestling-mat-martial-belt</td>\n",
       "    </tr>\n",
       "    <tr>\n",
       "      <th>11767</th>\n",
       "      <td>0.310159</td>\n",
       "      <td>Topic 4: developer-agile-programming-stack</td>\n",
       "    </tr>\n",
       "    <tr>\n",
       "      <th>11768</th>\n",
       "      <td>0.345741</td>\n",
       "      <td>Topic 13: gang-rant-yeah-gon</td>\n",
       "    </tr>\n",
       "    <tr>\n",
       "      <th>11769</th>\n",
       "      <td>0.361642</td>\n",
       "      <td>Topic 20: mindfulness-yoga-miracle-gratitude</td>\n",
       "    </tr>\n",
       "  </tbody>\n",
       "</table>\n",
       "<p>11770 rows × 2 columns</p>\n",
       "</div>"
      ],
      "text/plain": [
       "           prob                                              topic\n",
       "0      0.749332            Topic 51: marathon-runner-ufc-endurance\n",
       "1      0.846425            Topic 51: marathon-runner-ufc-endurance\n",
       "2      0.772727            Topic 51: marathon-runner-ufc-endurance\n",
       "3      0.353501       Topic 20: mindfulness-yoga-miracle-gratitude\n",
       "4      0.475575                  Topic 36: yarn-knitting-sock-knit\n",
       "5      0.431818                Topic 45: celtic-bike-cycling-irish\n",
       "6      0.274194                      Topic 3: gay-porn-sexy-dental\n",
       "7      0.340491         Topic 9: yoga-oldtimeradiodvdcom-dvd-aired\n",
       "8      0.212329          Topic 47: startup-affiliate-seller-income\n",
       "9      0.463105       Topic 20: mindfulness-yoga-miracle-gratitude\n",
       "10     0.557126       Topic 20: mindfulness-yoga-miracle-gratitude\n",
       "11     0.272419                    Topic 54: wwe-wrestling-raw-pat\n",
       "12     0.467054           Topic 19: spoiler-marvel-batman-superman\n",
       "13     0.431352            Topic 34: rabbi-jewish-commentary-torah\n",
       "14     0.541252       Topic 24: clinton-obama-hillary-presidential\n",
       "15     0.719731                  Topic 29: wine-chef-cooking-vegan\n",
       "16     0.677139       Topic 52: classroom-principal-firearm-edtech\n",
       "17     0.789572       Topic 52: classroom-principal-firearm-edtech\n",
       "18     0.402401           Topic 5: muslim-islamic-donate-publisher\n",
       "19     0.297920       Topic 52: classroom-principal-firearm-edtech\n",
       "20     0.317151  Topic 1: nonprofit-certified-awardwinning-inte...\n",
       "21     0.326230       Topic 20: mindfulness-yoga-miracle-gratitude\n",
       "22     0.224884       Topic 24: clinton-obama-hillary-presidential\n",
       "23     0.416421             Topic 48: gallery-megan-painting-katie\n",
       "24     0.414557       Topic 20: mindfulness-yoga-miracle-gratitude\n",
       "25     0.585073           Topic 35: transcript-premium-spanish-pdf\n",
       "26     0.218750                      Topic 16: android-drone-io-vr\n",
       "27     0.264354                    Topic 2: survivor-ron-ian-terry\n",
       "28     0.502052       Topic 20: mindfulness-yoga-miracle-gratitude\n",
       "29     0.456169                     Topic 6: gaming-jj-rpg-dungeon\n",
       "...         ...                                                ...\n",
       "11740  0.764151                Topic 40: comedian-larry-joel-mitch\n",
       "11741  0.234203          Topic 49: marine-traveler-pacific-bigfoot\n",
       "11742  0.440981              Topic 21: pt-false-cambria-minorlatin\n",
       "11743  0.645415        Topic 28: climate-federal-economics-bitcoin\n",
       "11744  0.995803         Topic 9: yoga-oldtimeradiodvdcom-dvd-aired\n",
       "11745  0.274119              Topic 0: buddhist-zen-dharma-buddhism\n",
       "11746  0.201787        Topic 28: climate-federal-economics-bitcoin\n",
       "11747  0.430742              Topic 0: buddhist-zen-dharma-buddhism\n",
       "11748  0.698651                             Topic 38: en-el-que-mb\n",
       "11749  0.349894                    Topic 2: survivor-ron-ian-terry\n",
       "11750  0.411058                Topic 18: stitcher-patreon-rating-r\n",
       "11751  0.802842          Topic 49: marine-traveler-pacific-bigfoot\n",
       "11752  0.465499                Topic 18: stitcher-patreon-rating-r\n",
       "11753  0.190074                    Topic 2: survivor-ron-ian-terry\n",
       "11754  0.221195             Topic 48: gallery-megan-painting-katie\n",
       "11755  0.325963  Topic 1: nonprofit-certified-awardwinning-inte...\n",
       "11756  0.439752     Topic 55: motorcycle-racing-automotive-vehicle\n",
       "11757  0.241476                  Topic 29: wine-chef-cooking-vegan\n",
       "11758  0.305732                      Topic 16: android-drone-io-vr\n",
       "11759  0.153930                      Topic 53: doug-mar-nasa-solar\n",
       "11760  0.489779          Topic 14: adhd-disorder-nutrition-symptom\n",
       "11761  0.667873         Topic 4: developer-agile-programming-stack\n",
       "11762  0.393657                Topic 42: bryan-licensed-cc-macleod\n",
       "11763  0.353448         Topic 9: yoga-oldtimeradiodvdcom-dvd-aired\n",
       "11764  0.469267         Topic 4: developer-agile-programming-stack\n",
       "11765  0.302120                       Topic 13: gang-rant-yeah-gon\n",
       "11766  0.407807               Topic 26: wrestling-mat-martial-belt\n",
       "11767  0.310159         Topic 4: developer-agile-programming-stack\n",
       "11768  0.345741                       Topic 13: gang-rant-yeah-gon\n",
       "11769  0.361642       Topic 20: mindfulness-yoga-miracle-gratitude\n",
       "\n",
       "[11770 rows x 2 columns]"
      ]
     },
     "execution_count": 62,
     "metadata": {},
     "output_type": "execute_result"
    }
   ],
   "source": [
    "show_closest_topic"
   ]
  },
  {
   "cell_type": "code",
   "execution_count": 261,
   "metadata": {
    "collapsed": false
   },
   "outputs": [],
   "source": [
    "show_closest_topic.to_csv('C:/Users/JBLAUVELT/Desktop/review_cats.csv')"
   ]
  },
  {
   "cell_type": "markdown",
   "metadata": {},
   "source": [
    "##C. Episode Words"
   ]
  },
  {
   "cell_type": "code",
   "execution_count": 66,
   "metadata": {
    "collapsed": false
   },
   "outputs": [
    {
     "name": "stdout",
     "output_type": "stream",
     "text": [
      "(56L, 58684L)\n"
     ]
    }
   ],
   "source": [
    "# Most Important Words for Each Topic\n",
    "topic_words = model.topic_word_\n",
    "print(topic_words.shape)"
   ]
  },
  {
   "cell_type": "code",
   "execution_count": null,
   "metadata": {
    "collapsed": true
   },
   "outputs": [],
   "source": [
    "topic_words."
   ]
  },
  {
   "cell_type": "code",
   "execution_count": null,
   "metadata": {
    "collapsed": true
   },
   "outputs": [],
   "source": [
    "top_n = 8\n",
    "topic_names_temp = []\n",
    "for ii, dist in enumerate(topic_words):\n",
    "    topic_words = np.array(feature_names)[np.argsort(dist)][:-(top_n+1):-1]\n",
    "    topic_names_temp.append('Topic ' + str(ii) + ': ' + '-'.join(topic_words.flatten()[:4]))\n",
    "    print('Topic {}:  {}'.format(ii, ' '.join(topic_words.flatten())))"
   ]
  }
 ],
 "metadata": {
  "kernelspec": {
   "display_name": "Python 2",
   "language": "python",
   "name": "python2"
  },
  "language_info": {
   "codemirror_mode": {
    "name": "ipython",
    "version": 2
   },
   "file_extension": ".py",
   "mimetype": "text/x-python",
   "name": "python",
   "nbconvert_exporter": "python",
   "pygments_lexer": "ipython2",
   "version": "2.7.10"
  }
 },
 "nbformat": 4,
 "nbformat_minor": 0
}
