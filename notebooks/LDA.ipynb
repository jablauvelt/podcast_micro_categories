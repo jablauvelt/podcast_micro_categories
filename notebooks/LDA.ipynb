{
 "cells": [
  {
   "cell_type": "code",
   "execution_count": 27,
   "metadata": {
    "collapsed": true
   },
   "outputs": [],
   "source": [
    "### Podcast Micro-Categories\n",
    "### Unsupervised LDA\n",
    "\n",
    "from __future__ import print_function\n",
    "from __future__ import division\n",
    "\n",
    "import gc\n",
    "import os\n",
    "import time\n",
    "\n",
    "import numpy as np\n",
    "import pandas as pd\n",
    "import scipy\n",
    "\n",
    "import lda\n"
   ]
  },
  {
   "cell_type": "code",
   "execution_count": 114,
   "metadata": {
    "collapsed": true
   },
   "outputs": [],
   "source": [
    "samp = False\n",
    "samp = '_samp' if samp else ''"
   ]
  },
  {
   "cell_type": "code",
   "execution_count": 115,
   "metadata": {
    "collapsed": false
   },
   "outputs": [
    {
     "name": "stdout",
     "output_type": "stream",
     "text": [
      "Episode Term Document Matrix Shape: (11795, 58684)\n",
      "Episode Table Shape: (11795, 2)\n"
     ]
    }
   ],
   "source": [
    "# I. LOAD ---------------------------------------------------\n",
    "\n",
    "# Load TDM\n",
    "loader = np.load('../interim/028_preproc_heavy_tdm' + samp + '.npz')\n",
    "tdm = scipy.sparse.csr_matrix((loader['data'], loader['indices'], loader['indptr']),\n",
    "                      shape=loader['shape'])\n",
    "\n",
    "# Load feature names\n",
    "feature_names = np.array(pd.read_pickle('../interim/028_preproc_heavy_names' + samp + '.p'))\n",
    "\n",
    "# Load show names and subgenres\n",
    "eps = pd.read_pickle('../interim/028_preproc_heavy_eps' + samp + '.p')\n",
    "\n",
    "print(\"Episode Term Document Matrix Shape:\", tdm.shape)\n",
    "print(\"Episode Table Shape:\", eps.shape)\n",
    "assert tdm.shape[0] == eps.shape[0]\n",
    "assert len(feature_names) == tdm.shape[1]"
   ]
  },
  {
   "cell_type": "code",
   "execution_count": 116,
   "metadata": {
    "collapsed": false
   },
   "outputs": [
    {
     "data": {
      "text/html": [
       "<div>\n",
       "<table border=\"1\" class=\"dataframe\">\n",
       "  <thead>\n",
       "    <tr style=\"text-align: right;\">\n",
       "      <th></th>\n",
       "      <th>podcast_name</th>\n",
       "      <th>subgenre</th>\n",
       "    </tr>\n",
       "  </thead>\n",
       "  <tbody>\n",
       "    <tr>\n",
       "      <th>0</th>\n",
       "      <td>! Football Ringtones, Text Tones, Mail Alerts ...</td>\n",
       "      <td>College &amp; High School</td>\n",
       "    </tr>\n",
       "    <tr>\n",
       "      <th>1</th>\n",
       "      <td>! World's Funniest Ringtones for iPhone &amp; iPad...</td>\n",
       "      <td>Gadgets</td>\n",
       "    </tr>\n",
       "    <tr>\n",
       "      <th>2</th>\n",
       "      <td>! iPhone Ringtones</td>\n",
       "      <td>Video Games</td>\n",
       "    </tr>\n",
       "    <tr>\n",
       "      <th>3</th>\n",
       "      <td>\" Talk to Tony - Radio Show \" Licensed Psychol...</td>\n",
       "      <td>Social Sciences</td>\n",
       "    </tr>\n",
       "    <tr>\n",
       "      <th>4</th>\n",
       "      <td>\"A Tale of Two Cities\" Audiobook (Audio book)</td>\n",
       "      <td>Literature</td>\n",
       "    </tr>\n",
       "  </tbody>\n",
       "</table>\n",
       "</div>"
      ],
      "text/plain": [
       "                                        podcast_name               subgenre\n",
       "0  ! Football Ringtones, Text Tones, Mail Alerts ...  College & High School\n",
       "1  ! World's Funniest Ringtones for iPhone & iPad...                Gadgets\n",
       "2                                 ! iPhone Ringtones            Video Games\n",
       "3  \" Talk to Tony - Radio Show \" Licensed Psychol...        Social Sciences\n",
       "4      \"A Tale of Two Cities\" Audiobook (Audio book)             Literature"
      ]
     },
     "execution_count": 116,
     "metadata": {},
     "output_type": "execute_result"
    }
   ],
   "source": [
    "eps.head()\n"
   ]
  },
  {
   "cell_type": "code",
   "execution_count": 117,
   "metadata": {
    "collapsed": false
   },
   "outputs": [
    {
     "data": {
      "text/plain": [
       "array([[0, 0, 0, 0, 0, 0, 0, 0, 0, 0, 0, 0, 0, 0, 0, 0, 0, 0, 0, 0],\n",
       "       [0, 0, 0, 0, 0, 0, 0, 0, 0, 0, 0, 0, 0, 0, 0, 0, 0, 0, 0, 0],\n",
       "       [0, 0, 0, 0, 0, 0, 0, 0, 0, 0, 0, 0, 0, 0, 0, 0, 0, 0, 0, 0],\n",
       "       [0, 0, 0, 0, 0, 0, 0, 0, 0, 0, 0, 0, 0, 0, 0, 0, 0, 0, 0, 0],\n",
       "       [0, 0, 0, 0, 0, 0, 0, 0, 0, 0, 0, 0, 0, 0, 0, 0, 0, 0, 0, 0]], dtype=int64)"
      ]
     },
     "execution_count": 117,
     "metadata": {},
     "output_type": "execute_result"
    }
   ],
   "source": [
    "tdm.toarray()[:5,0:20]"
   ]
  },
  {
   "cell_type": "markdown",
   "metadata": {},
   "source": [
    "# II. Filter"
   ]
  },
  {
   "cell_type": "code",
   "execution_count": 118,
   "metadata": {
    "collapsed": false
   },
   "outputs": [],
   "source": [
    "row_sums = np.array(tdm.sum(axis=1)).flatten()"
   ]
  },
  {
   "cell_type": "code",
   "execution_count": 119,
   "metadata": {
    "collapsed": false
   },
   "outputs": [
    {
     "data": {
      "text/html": [
       "<div>\n",
       "<table border=\"1\" class=\"dataframe\">\n",
       "  <thead>\n",
       "    <tr style=\"text-align: right;\">\n",
       "      <th></th>\n",
       "      <th>podcast_name</th>\n",
       "      <th>subgenre</th>\n",
       "    </tr>\n",
       "  </thead>\n",
       "  <tbody>\n",
       "    <tr>\n",
       "      <th>88</th>\n",
       "      <td>2 Minute Chef</td>\n",
       "      <td>Food</td>\n",
       "    </tr>\n",
       "    <tr>\n",
       "      <th>712</th>\n",
       "      <td>Arabic Grammar 2010</td>\n",
       "      <td>Islam</td>\n",
       "    </tr>\n",
       "    <tr>\n",
       "      <th>1126</th>\n",
       "      <td>Bhagavad Gita Class (Ch1) in Sanskrit by Dr. K...</td>\n",
       "      <td>Hinduism</td>\n",
       "    </tr>\n",
       "    <tr>\n",
       "      <th>1307</th>\n",
       "      <td>Brain Talk</td>\n",
       "      <td>Medicine</td>\n",
       "    </tr>\n",
       "    <tr>\n",
       "      <th>1658</th>\n",
       "      <td>Chio in the morning's podcast</td>\n",
       "      <td>Podcasting</td>\n",
       "    </tr>\n",
       "    <tr>\n",
       "      <th>2500</th>\n",
       "      <td>Dr. Usama Al-Atar Lectures</td>\n",
       "      <td>Islam</td>\n",
       "    </tr>\n",
       "    <tr>\n",
       "      <th>2534</th>\n",
       "      <td>Driving Sports TV</td>\n",
       "      <td>Automotive</td>\n",
       "    </tr>\n",
       "    <tr>\n",
       "      <th>2847</th>\n",
       "      <td>Experimental Game Development Podcast</td>\n",
       "      <td>Tech News</td>\n",
       "    </tr>\n",
       "    <tr>\n",
       "      <th>3022</th>\n",
       "      <td>Figure Drawing Online</td>\n",
       "      <td>Visual Arts</td>\n",
       "    </tr>\n",
       "    <tr>\n",
       "      <th>4511</th>\n",
       "      <td>Kabbalah Media Updates</td>\n",
       "      <td>Judaism</td>\n",
       "    </tr>\n",
       "    <tr>\n",
       "      <th>5121</th>\n",
       "      <td>MahiShAsuramardinI Stotra Class in Sanskrit</td>\n",
       "      <td>Hinduism</td>\n",
       "    </tr>\n",
       "    <tr>\n",
       "      <th>5717</th>\n",
       "      <td>National Defense Magazine's Podcast</td>\n",
       "      <td>Non-Profit</td>\n",
       "    </tr>\n",
       "    <tr>\n",
       "      <th>6893</th>\n",
       "      <td>RCFlightline Forums - Beyond the Flightline</td>\n",
       "      <td>Aviation</td>\n",
       "    </tr>\n",
       "    <tr>\n",
       "      <th>7178</th>\n",
       "      <td>Revolutionary Dating</td>\n",
       "      <td>Podcasting</td>\n",
       "    </tr>\n",
       "    <tr>\n",
       "      <th>7422</th>\n",
       "      <td>Saloeurm Savath</td>\n",
       "      <td>Buddhism</td>\n",
       "    </tr>\n",
       "    <tr>\n",
       "      <th>7452</th>\n",
       "      <td>Saturday Morning Samoflange</td>\n",
       "      <td>TV &amp; Film</td>\n",
       "    </tr>\n",
       "    <tr>\n",
       "      <th>7898</th>\n",
       "      <td>Spanish - The EZ Way with LaGringa</td>\n",
       "      <td>Language Courses</td>\n",
       "    </tr>\n",
       "    <tr>\n",
       "      <th>8648</th>\n",
       "      <td>The Beginning of the End</td>\n",
       "      <td>Personal Journals</td>\n",
       "    </tr>\n",
       "    <tr>\n",
       "      <th>9142</th>\n",
       "      <td>The Football Coaching Podcast with Joe Daniel</td>\n",
       "      <td>College &amp; High School</td>\n",
       "    </tr>\n",
       "    <tr>\n",
       "      <th>9501</th>\n",
       "      <td>The Learn Auto Body And Paint Weekly Pod</td>\n",
       "      <td>Automotive</td>\n",
       "    </tr>\n",
       "    <tr>\n",
       "      <th>10696</th>\n",
       "      <td>Today In History</td>\n",
       "      <td>History</td>\n",
       "    </tr>\n",
       "    <tr>\n",
       "      <th>11126</th>\n",
       "      <td>Visual MS Excel</td>\n",
       "      <td>Higher Education</td>\n",
       "    </tr>\n",
       "    <tr>\n",
       "      <th>11188</th>\n",
       "      <td>WSJ Your Money Matters</td>\n",
       "      <td>Investing</td>\n",
       "    </tr>\n",
       "    <tr>\n",
       "      <th>11723</th>\n",
       "      <td>keithcast's Podcast</td>\n",
       "      <td>Automotive</td>\n",
       "    </tr>\n",
       "    <tr>\n",
       "      <th>11739</th>\n",
       "      <td>o2 ??????</td>\n",
       "      <td>Training</td>\n",
       "    </tr>\n",
       "  </tbody>\n",
       "</table>\n",
       "</div>"
      ],
      "text/plain": [
       "                                            podcast_name  \\\n",
       "88                                         2 Minute Chef   \n",
       "712                                  Arabic Grammar 2010   \n",
       "1126   Bhagavad Gita Class (Ch1) in Sanskrit by Dr. K...   \n",
       "1307                                          Brain Talk   \n",
       "1658                       Chio in the morning's podcast   \n",
       "2500                          Dr. Usama Al-Atar Lectures   \n",
       "2534                                   Driving Sports TV   \n",
       "2847               Experimental Game Development Podcast   \n",
       "3022                               Figure Drawing Online   \n",
       "4511                              Kabbalah Media Updates   \n",
       "5121         MahiShAsuramardinI Stotra Class in Sanskrit   \n",
       "5717                 National Defense Magazine's Podcast   \n",
       "6893         RCFlightline Forums - Beyond the Flightline   \n",
       "7178                                Revolutionary Dating   \n",
       "7422                                     Saloeurm Savath   \n",
       "7452                         Saturday Morning Samoflange   \n",
       "7898                  Spanish - The EZ Way with LaGringa   \n",
       "8648                            The Beginning of the End   \n",
       "9142       The Football Coaching Podcast with Joe Daniel   \n",
       "9501            The Learn Auto Body And Paint Weekly Pod   \n",
       "10696                                   Today In History   \n",
       "11126                                    Visual MS Excel   \n",
       "11188                             WSJ Your Money Matters   \n",
       "11723                                keithcast's Podcast   \n",
       "11739                                          o2 ??????   \n",
       "\n",
       "                    subgenre  \n",
       "88                      Food  \n",
       "712                    Islam  \n",
       "1126                Hinduism  \n",
       "1307                Medicine  \n",
       "1658              Podcasting  \n",
       "2500                   Islam  \n",
       "2534              Automotive  \n",
       "2847               Tech News  \n",
       "3022             Visual Arts  \n",
       "4511                 Judaism  \n",
       "5121                Hinduism  \n",
       "5717              Non-Profit  \n",
       "6893                Aviation  \n",
       "7178              Podcasting  \n",
       "7422                Buddhism  \n",
       "7452               TV & Film  \n",
       "7898        Language Courses  \n",
       "8648       Personal Journals  \n",
       "9142   College & High School  \n",
       "9501              Automotive  \n",
       "10696                History  \n",
       "11126       Higher Education  \n",
       "11188              Investing  \n",
       "11723             Automotive  \n",
       "11739               Training  "
      ]
     },
     "execution_count": 119,
     "metadata": {},
     "output_type": "execute_result"
    }
   ],
   "source": [
    "eps.ix[np.where(row_sums == 0)[0],:]"
   ]
  },
  {
   "cell_type": "code",
   "execution_count": 121,
   "metadata": {
    "collapsed": false
   },
   "outputs": [
    {
     "data": {
      "text/plain": [
       "6     48\n",
       "3     47\n",
       "8     44\n",
       "10    39\n",
       "4     38\n",
       "dtype: int64"
      ]
     },
     "execution_count": 121,
     "metadata": {},
     "output_type": "execute_result"
    }
   ],
   "source": [
    "pd.Series(row_sums).value_counts().head()"
   ]
  },
  {
   "cell_type": "code",
   "execution_count": 122,
   "metadata": {
    "collapsed": false
   },
   "outputs": [],
   "source": [
    "# Remove rows with zero words in the set\n",
    "eps = eps.ix[np.where(row_sums > 0)[0],:]\n",
    "tdm = tdm[np.where(row_sums > 0)[0],:]"
   ]
  },
  {
   "cell_type": "markdown",
   "metadata": {},
   "source": [
    "# III. LDA Model"
   ]
  },
  {
   "cell_type": "code",
   "execution_count": null,
   "metadata": {
    "collapsed": true
   },
   "outputs": [],
   "source": [
    "# Create model\n",
    "model = lda.LDA(n_topics=56, n_iter=500, random_state=42)\n",
    "\n",
    "# Fit model\n",
    "%time model.fit(tdm)"
   ]
  },
  {
   "cell_type": "code",
   "execution_count": null,
   "metadata": {
    "collapsed": true
   },
   "outputs": [],
   "source": [
    "# Best Fitting Episodes for Each Topic\n"
   ]
  },
  {
   "cell_type": "code",
   "execution_count": 113,
   "metadata": {
    "collapsed": false
   },
   "outputs": [
    {
     "data": {
      "text/plain": [
       "(56L, 13463L)"
      ]
     },
     "execution_count": 113,
     "metadata": {},
     "output_type": "execute_result"
    }
   ],
   "source": [
    "# Most Important Words for Each Topic\n",
    "topic_words = model.topic_word_\n",
    "topic_words.shape\n",
    "\n",
    "top_n = 5\n",
    "for ii, dist in enumerate(topic_words):\n",
    "    topic_words = np.array(feature_names)[np.argsort(dist)][:-(top_n+1):-1]\n",
    "    print('Topic {}:  {}'.format(ii, ' '.join(topic_words)))\n",
    "    "
   ]
  }
 ],
 "metadata": {
  "kernelspec": {
   "display_name": "Python 2",
   "language": "python",
   "name": "python2"
  },
  "language_info": {
   "codemirror_mode": {
    "name": "ipython",
    "version": 2
   },
   "file_extension": ".py",
   "mimetype": "text/x-python",
   "name": "python",
   "nbconvert_exporter": "python",
   "pygments_lexer": "ipython2",
   "version": "2.7.10"
  }
 },
 "nbformat": 4,
 "nbformat_minor": 0
}
