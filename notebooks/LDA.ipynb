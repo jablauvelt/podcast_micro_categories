{
 "cells": [
  {
   "cell_type": "markdown",
   "metadata": {},
   "source": [
    "# Podcast Micro-Categories\n",
    "### Exploratory Notebook\n",
    "### Unsupervised LDA"
   ]
  },
  {
   "cell_type": "code",
   "execution_count": 1,
   "metadata": {
    "collapsed": true
   },
   "outputs": [],
   "source": [
    "from __future__ import print_function\n",
    "from __future__ import division\n",
    "\n",
    "import gc\n",
    "import os\n",
    "import time\n",
    "\n",
    "import numpy as np\n",
    "import pandas as pd\n",
    "import scipy\n",
    "\n",
    "import lda\n",
    "\n",
    "import re\n",
    "\n",
    "from sklearn.externals import joblib\n"
   ]
  },
  {
   "cell_type": "code",
   "execution_count": 2,
   "metadata": {
    "collapsed": true
   },
   "outputs": [],
   "source": [
    "samp = False\n",
    "samp = '_samp' if samp else ''"
   ]
  },
  {
   "cell_type": "markdown",
   "metadata": {},
   "source": [
    "# I. Load"
   ]
  },
  {
   "cell_type": "markdown",
   "metadata": {},
   "source": [
    "### A. Load Files"
   ]
  },
  {
   "cell_type": "code",
   "execution_count": 3,
   "metadata": {
    "collapsed": true
   },
   "outputs": [],
   "source": [
    "# Define scenario number (s[1-6])\n",
    "scenario = 's6'"
   ]
  },
  {
   "cell_type": "code",
   "execution_count": 4,
   "metadata": {
    "collapsed": false
   },
   "outputs": [
    {
     "name": "stdout",
     "output_type": "stream",
     "text": [
      "Episode Term Document Matrix Shape: 11,795 shows x  66,230 features\n",
      "Episode Table Shape: 11,795 shows x  2 columns (show name and concatenated description)\n"
     ]
    }
   ],
   "source": [
    "# 1. Load TDM\n",
    "loader = np.load('../interim/' + scenario + '_tdm' + samp + '.npz')\n",
    "tdm = scipy.sparse.csr_matrix((loader['data'], loader['indices'], loader['indptr']),\n",
    "                      shape=loader['shape'])\n",
    "\n",
    "# 2. Load feature names\n",
    "feature_names = np.array(pd.read_pickle('../interim/' + scenario + '_names' + samp + '.p'))\n",
    "\n",
    "# 3. Load show names and subgenres that still remain\n",
    "shows_concat = pd.read_pickle('../interim/' + scenario + '_shows_concat' + samp + '.p')\n",
    "\n",
    "# 4. Load full show table so that summaries can be pulled in\n",
    "shows_full = pd.read_pickle('../interim/pods' + samp + '.p')\n",
    "\n",
    "# 5. Print shapes and check assertions\n",
    "print(\"Episode Term Document Matrix Shape: {:,} shows x  {:,} features\".format(tdm.shape[0], tdm.shape[1]))\n",
    "print(\"Episode Table Shape: {:,} shows x  {:,} columns (show name and concatenated description)\".format(shows_concat.shape[0], shows_concat.shape[1]))\n",
    "assert tdm.shape[0] == shows_concat.shape[0]\n",
    "assert len(feature_names) == tdm.shape[1]"
   ]
  },
  {
   "cell_type": "markdown",
   "metadata": {},
   "source": [
    "### B. Remove duplicates "
   ]
  },
  {
   "cell_type": "code",
   "execution_count": 5,
   "metadata": {
    "collapsed": false
   },
   "outputs": [
    {
     "name": "stdout",
     "output_type": "stream",
     "text": [
      "Number of dupes removed:  (151, 18)\n",
      "Number of shows remaining:  (12319, 18)\n"
     ]
    }
   ],
   "source": [
    "# Remove duplicates from full show list (need to handle these earlier on in other scripts)\n",
    "dupes = shows_full.groupby(['podcast_name', 'subgenre']).filter(lambda group: len(group) > 1).sort('podcast_name')\n",
    "print(\"Number of dupes removed: \", dupes.shape)\n",
    "shows_full = shows_full.drop_duplicates(['podcast_name', 'subgenre'])\n",
    "print(\"Number of shows remaining: \", shows_full.shape)"
   ]
  },
  {
   "cell_type": "markdown",
   "metadata": {},
   "source": [
    "### C. Join features from full show table to de-duplicated shows"
   ]
  },
  {
   "cell_type": "code",
   "execution_count": 6,
   "metadata": {
    "collapsed": false
   },
   "outputs": [
    {
     "name": "stdout",
     "output_type": "stream",
     "text": [
      "(12319, 18)\n",
      "(11795, 2)\n",
      "(11795, 3)\n"
     ]
    },
    {
     "data": {
      "text/html": [
       "<div>\n",
       "<table border=\"1\" class=\"dataframe\">\n",
       "  <thead>\n",
       "    <tr style=\"text-align: right;\">\n",
       "      <th></th>\n",
       "      <th>podcast_name</th>\n",
       "      <th>subgenre</th>\n",
       "      <th>show_desc</th>\n",
       "    </tr>\n",
       "  </thead>\n",
       "  <tbody>\n",
       "    <tr>\n",
       "      <th>0</th>\n",
       "      <td>! Football Ringtones, Text Tones, Mail Alerts ...</td>\n",
       "      <td>College &amp; High School</td>\n",
       "      <td>Get FREE RINGTONES when you subscribe! Footbal...</td>\n",
       "    </tr>\n",
       "    <tr>\n",
       "      <th>1</th>\n",
       "      <td>! World's Funniest Ringtones for iPhone &amp; iPad...</td>\n",
       "      <td>Gadgets</td>\n",
       "      <td>Get FREE RINGTONES when you subscribe to The W...</td>\n",
       "    </tr>\n",
       "    <tr>\n",
       "      <th>2</th>\n",
       "      <td>! iPhone Ringtones</td>\n",
       "      <td>Video Games</td>\n",
       "      <td>Get FREE RINGTONES when you subscribe! The Wor...</td>\n",
       "    </tr>\n",
       "    <tr>\n",
       "      <th>3</th>\n",
       "      <td>\" Talk to Tony - Radio Show \" Licensed Psychol...</td>\n",
       "      <td>Social Sciences</td>\n",
       "      <td>Dr. Tony Ferretti offers a psychological persp...</td>\n",
       "    </tr>\n",
       "    <tr>\n",
       "      <th>4</th>\n",
       "      <td>\"A Tale of Two Cities\" Audiobook (Audio book)</td>\n",
       "      <td>Literature</td>\n",
       "      <td>\"A Tale of Two Cities\" was first published in ...</td>\n",
       "    </tr>\n",
       "  </tbody>\n",
       "</table>\n",
       "</div>"
      ],
      "text/plain": [
       "                                        podcast_name               subgenre  \\\n",
       "0  ! Football Ringtones, Text Tones, Mail Alerts ...  College & High School   \n",
       "1  ! World's Funniest Ringtones for iPhone & iPad...                Gadgets   \n",
       "2                                 ! iPhone Ringtones            Video Games   \n",
       "3  \" Talk to Tony - Radio Show \" Licensed Psychol...        Social Sciences   \n",
       "4      \"A Tale of Two Cities\" Audiobook (Audio book)             Literature   \n",
       "\n",
       "                                           show_desc  \n",
       "0  Get FREE RINGTONES when you subscribe! Footbal...  \n",
       "1  Get FREE RINGTONES when you subscribe to The W...  \n",
       "2  Get FREE RINGTONES when you subscribe! The Wor...  \n",
       "3  Dr. Tony Ferretti offers a psychological persp...  \n",
       "4  \"A Tale of Two Cities\" was first published in ...  "
      ]
     },
     "execution_count": 6,
     "metadata": {},
     "output_type": "execute_result"
    }
   ],
   "source": [
    "# Join data from full show table to list of shows in the model\n",
    "\n",
    "print(shows_full.shape)\n",
    "print(shows_concat.shape)\n",
    "\n",
    "shows = pd.merge(shows_concat, shows_full[['podcast_name', 'subgenre', 'show_desc']], \n",
    "                 on = ['podcast_name', 'subgenre'], how='left', sort=False)\n",
    "print(shows.shape)\n",
    "assert shows.shape[0] == shows_concat.shape[0]\n",
    "shows.head()"
   ]
  },
  {
   "cell_type": "markdown",
   "metadata": {},
   "source": [
    "# II. Filter"
   ]
  },
  {
   "cell_type": "markdown",
   "metadata": {},
   "source": [
    "### A. Remove shows with no words in the vocab"
   ]
  },
  {
   "cell_type": "code",
   "execution_count": 7,
   "metadata": {
    "collapsed": false
   },
   "outputs": [
    {
     "name": "stdout",
     "output_type": "stream",
     "text": [
      "Number of shows with no words in the vocabulary:  448\n"
     ]
    }
   ],
   "source": [
    "# Identify show that have no words in the vocabulary\n",
    "row_sums = np.array(tdm.sum(axis=1)).flatten() # sum tdm counts across rows (across shows)\n",
    "\n",
    "print(\"Number of shows with no words in the vocabulary: \", \n",
    "      shows.ix[np.where(row_sums == 0)[0],:].shape[0]) "
   ]
  },
  {
   "cell_type": "code",
   "execution_count": 8,
   "metadata": {
    "collapsed": false
   },
   "outputs": [
    {
     "name": "stdout",
     "output_type": "stream",
     "text": [
      "(11347, 3)\n",
      "(11347, 66230)\n"
     ]
    }
   ],
   "source": [
    "# Remove shows with no words in the vocabulary, from both the original shows table\n",
    "# and the TDM\n",
    "shows = shows.ix[np.where(row_sums > 0)[0],:]\n",
    "tdm = tdm[np.where(row_sums > 0)[0],:]\n",
    "print(shows.shape)\n",
    "print(tdm.shape)\n",
    "assert shows.shape[0] == tdm.shape[0]"
   ]
  },
  {
   "cell_type": "markdown",
   "metadata": {},
   "source": [
    "# III. Train LDA Model"
   ]
  },
  {
   "cell_type": "code",
   "execution_count": 9,
   "metadata": {
    "collapsed": false
   },
   "outputs": [
    {
     "name": "stdout",
     "output_type": "stream",
     "text": [
      "Wall time: 2min 53s\n"
     ]
    },
    {
     "data": {
      "text/plain": [
       "<lda.lda.LDA instance at 0x000000000AC03548>"
      ]
     },
     "execution_count": 9,
     "metadata": {},
     "output_type": "execute_result"
    }
   ],
   "source": [
    "# Create model\n",
    "model = lda.LDA(n_topics=56, n_iter=75, random_state=42)\n",
    "\n",
    "# Fit model (takes about 20 minutes for 75 iterations\n",
    "%time model.fit(tdm)"
   ]
  },
  {
   "cell_type": "code",
   "execution_count": 10,
   "metadata": {
    "collapsed": false
   },
   "outputs": [
    {
     "data": {
      "text/plain": [
       "['../interim/trained_models/lda/lda_s6.pkl',\n",
       " '../interim/trained_models/lda/lda_s6.pkl_01.npy',\n",
       " '../interim/trained_models/lda/lda_s6.pkl_02.npy',\n",
       " '../interim/trained_models/lda/lda_s6.pkl_03.npy',\n",
       " '../interim/trained_models/lda/lda_s6.pkl_04.npy',\n",
       " '../interim/trained_models/lda/lda_s6.pkl_05.npy',\n",
       " '../interim/trained_models/lda/lda_s6.pkl_06.npy',\n",
       " '../interim/trained_models/lda/lda_s6.pkl_07.npy']"
      ]
     },
     "execution_count": 10,
     "metadata": {},
     "output_type": "execute_result"
    }
   ],
   "source": [
    "# Save Pickle model\n",
    "joblib.dump(model, '../interim/trained_models/lda/lda_' + scenario + samp + '.pkl')\n"
   ]
  },
  {
   "cell_type": "code",
   "execution_count": 25,
   "metadata": {
    "collapsed": false
   },
   "outputs": [],
   "source": [
    "# Load pickled model\n",
    "#model = joblib.load('../interim/trained_models/lda/lda_' + scenario + samp + '.pkl')"
   ]
  },
  {
   "cell_type": "markdown",
   "metadata": {},
   "source": [
    "# IV. Exploration"
   ]
  },
  {
   "cell_type": "markdown",
   "metadata": {},
   "source": [
    "## A. Model Words"
   ]
  },
  {
   "cell_type": "code",
   "execution_count": 11,
   "metadata": {
    "collapsed": false
   },
   "outputs": [
    {
     "name": "stdout",
     "output_type": "stream",
     "text": [
      "(56L, 66230L)\n"
     ]
    },
    {
     "data": {
      "text/plain": [
       "[u'Topic 0: Of The - On The - From The - Film Festival - Goldman Sachs - Into The',\n",
       " u'Topic 1: Middle East - South Africa - Senior Fellow - Prime Minister - War II - Hong Kong',\n",
       " u'Topic 2: Thank You - You Tell - Rate Review - Critical Hit - Click Here - Review Show',\n",
       " u'Topic 3: Force Awakens - Follow @ - Twitter Email - Topics Include - Mental Game - The Force',\n",
       " u'Topic 4: Walt Disney - Disney World - Coffee Break - Disney Disney - Magic Kingdom - Windows PowerShell',\n",
       " u'Topic 5: In Episode - Continue Episode - Podcast | - Episode The - Show Show - Episode Episode',\n",
       " u'Topic 6: Facebook Page - Supreme Court - Law School - Civil War - ( iTunes - Podcast @',\n",
       " u'Topic 7: BBC Radio - National Gallery - Gallery Art - Hatha Yoga - Video Games - Tiny Desk',\n",
       " u'Topic 8: Real Estate - Estate Investing - OF THE - THE SHOW - Cash Flow - Key Takeaways',\n",
       " u'Topic 9: Twitter Follow - Stitcher Radio - iTunes Subscribe - Subscribe Stitcher - Listen iTunes - iTunes Listen',\n",
       " u'Topic 10: Click Here - Email Twitter - RSS iTunes - Subscribe RSS - Brewing Company - [ Read',\n",
       " u'Topic 11: Follow Twitter - Facebook Follow - Creative Commons - Amazon Amazon - TV Show - Follow Instagram',\n",
       " u'Topic 12: Old Time - Time Radio - Island Discs - Desert Island - Free Shipping - Classic TV',\n",
       " u'Topic 13: Doctor Who - Dharma Talk - Zen Center - Twitter Twitter - iPhone iPad - iPod Touch',\n",
       " u'Topic 14: Podcast Network - Language Learning - Comic Book - Dr. Michael - Find Dr. - Managing Editor',\n",
       " u'Topic 15: Bridging Gap - Patient Care - Green Bay - ON TWITTER - Tom Brady - PDF PDF',\n",
       " u'Topic 16: Fitness Expert - JJ JJ - Fit Love - Podcast Show - JJ Flizanes - Personal Trainer',\n",
       " u'Topic 17: D D - Notre Dame - Ohio State - College Football - Ole Miss - James John',\n",
       " u'Topic 18: Radio Show - Talk Radio - WDW Radio - Radio Mike - Travel Podcast - Lou Mongello',\n",
       " u'Topic 19: Fantasy Football - Contact Us - Best Ever - New England - Hall Fame - Taylor Swift',\n",
       " u'Topic 20: Silicon Valley - Leo Laporte - Buddhist Monastery - Amaravati Buddhist - On Fire - Joe Joe',\n",
       " u'Topic 21: CLICK HERE - HERE FOR - Running Time - Continue Reading - HERE TO - News Radio',\n",
       " u'Topic 22: Southern California - St. Louis - Bay Area - Leave iTunes - Kansas City - New Mexico',\n",
       " u'Topic 23: With Me - Sleep With - Justice League - Star Trek - Captain America - Fantastic Four',\n",
       " u'Topic 24: Contact Info - Listen Now - Star Trek - Listener Feedback - Executive Producer - Harry Potter',\n",
       " u'Topic 25: ) ( - Audio Podcast - Records ) - Of The - Recordings ) - Science Mike',\n",
       " u'Topic 26: High School - Know Your - Middle School - National Park - Intuitive Healer - Dream Job',\n",
       " u'Topic 27: Definitions */ - Style Definitions - */ Table - Table Normal - Cambria Cambria - Normal mso-padding-alt:0in',\n",
       " u'Topic 28: Remix ) - Mix ) - ) [ - Original Mix - ( Original - Records ]',\n",
       " u'Topic 29: ( CC - Rate Review - Stack Overflow - Mentioned Show - Podington Bear - International (',\n",
       " u'Topic 30: Download MP3 - Our Our - ( Twitter - K N - Episode Links - Man World',\n",
       " u'Topic 31: Please Twitter - Psychic Medium - iTunes Get - New Media - Join Scott - Twitter Did',\n",
       " u'Topic 32: Alexander Technique - Monday Friday - Amazon Kindle - Blue Apron - Slate Plus - Podcast Monday',\n",
       " u'Topic 33: Podcast Episode - Melvyn Bragg - ( Chuck - College London - Mitch Joel - Episode Host',\n",
       " u'Topic 34: Subscribe iTunes - iTunes Stitcher - Google Play - Podcast iTunes - SHOW NOTES - This Episode',\n",
       " u'Topic 35: Apple Watch - Subscribe iTunes - Facebook Google+ - App Store - Audio Video - iTunes Subscribe',\n",
       " u'Topic 36: Air Force - Download Podcast - Podcast Video - US Army - Marine Corps - National Guard',\n",
       " u'Topic 37: Social Media - Im Im - Your Life - On The - In Your - Media Marketing',\n",
       " u'Topic 38: OUR SPONSOR - Jimmy Moore - Dr. Bill - United Olympic - Sport Psychology - NCAA Division',\n",
       " u'Topic 39: S ) - DVD Blu-ray - Collection ( - ( DVD - ( S - ) (',\n",
       " u'Topic 40: Kevin MacLeod - Celtic Music - incompetech.com ) - ( incompetech.com - MacLeod ( - Licensed Creative',\n",
       " u'Topic 41: Twitter Instagram - RSS Feed - Instagram Twitter - Instagram Facebook - Facebook Instagram - iTunes (',\n",
       " u'Topic 42: Air Date - Original Air - Season Pass - Twitter YouTube - Follow Us - Live Love',\n",
       " u'Topic 43: Hillary Clinton - President Obama - Supreme Court - Trump Trump - President Trump - For Hire',\n",
       " u'Topic 44: Please iTunes - Instagram @ - Jay Scott - iTunes | - Stitcher | - | Stitcher',\n",
       " u'Topic 45: Muslim Central - YouTube Channel - Subscribe YouTube - Facebook Instagram - Instagram Twitter - Twitter Subscribe',\n",
       " u'Topic 46: Course Miracles - ] ( - Huffington Post - Your Life - Life Coach - Law Attraction',\n",
       " u'Topic 47: God God - God Word - Jesus Christ - Bible Church - God His - God In',\n",
       " u'Topic 48: University Press - University California - ( University - Associate Professor - University Chicago - Harvard University',\n",
       " u'Topic 49: Game Thrones - Final Fantasy - Ryan Scott - Wii U - World Warcraft - Super Mario',\n",
       " u'Topic 50: Podcast In - Facebook Group - Join Facebook - Welcome Episode - Website Facebook - Website Twitter',\n",
       " u'Topic 51: Show Notes - Radio Network - ] The - Show Links - ] In - iTunes Twitter',\n",
       " u'Topic 52: Click iTunes - Walking Dead - iTunes Click - Season Episode - SPREAD THE - Bay Area',\n",
       " u'Topic 53: In Dr. - Talk Radio - Dr. David - Emergency Medicine - CALL IN - ADHD ADHD',\n",
       " u'Topic 54: Download Standard - Standard Podcasts - Strength Coach - Click Download - Whole Foods - Perform Better',\n",
       " u'Topic 55: Read More - @ gmail.com - More The - Round Table - In Chris - Matt Matt']"
      ]
     },
     "execution_count": 11,
     "metadata": {},
     "output_type": "execute_result"
    }
   ],
   "source": [
    "# Most Important Words for Each Topic\n",
    "topic_words = model.topic_word_\n",
    "print(topic_words.shape)\n",
    "\n",
    "top_n = 6\n",
    "topic_names_temp = []\n",
    "for ii, dist in enumerate(topic_words):\n",
    "    top_n_words = np.array(feature_names)[np.argsort(dist)][:-(top_n+1):-1]\n",
    "    topic_names_temp.append('Topic ' + str(ii) + ': ' + ' - '.join(top_n_words.flatten()))\n",
    "    #print('Topic {}:  {}'.format(ii, ' - '.join(topic_names_temp)))\n",
    "    \n",
    "topic_names_temp\n",
    "    "
   ]
  },
  {
   "cell_type": "markdown",
   "metadata": {},
   "source": [
    "## B. Show Topics"
   ]
  },
  {
   "cell_type": "code",
   "execution_count": 27,
   "metadata": {
    "collapsed": false
   },
   "outputs": [
    {
     "data": {
      "text/plain": [
       "(11762L, 56L)"
      ]
     },
     "execution_count": 27,
     "metadata": {},
     "output_type": "execute_result"
    }
   ],
   "source": [
    "model.doc_topic_.shape"
   ]
  },
  {
   "cell_type": "code",
   "execution_count": 28,
   "metadata": {
    "collapsed": false
   },
   "outputs": [
    {
     "name": "stdout",
     "output_type": "stream",
     "text": [
      "(11762L, 56L)\n"
     ]
    }
   ],
   "source": [
    "# Best Fitting Episodes for Each Topic\n",
    "show_topics = model.doc_topic_\n",
    "print(show_topics.shape)\n",
    "\n",
    "# Get closest topic for each show\n",
    "show_closest_topic = np.array(topic_names_temp)[show_topics.argmax(1)]\n",
    "# Get probability of closest topic for each show\n",
    "show_closest_topic_prob = show_topics.max(1)\n",
    "\n",
    "# Create data frame with the above two vectors\n",
    "show_closest_topic = pd.DataFrame({'usub': show_closest_topic,\n",
    "                                   'usub_prob': show_closest_topic_prob})\n",
    "# Add in the full show table\n",
    "show_closest_topic = pd.concat([show_closest_topic, shows], axis=1)\n",
    "# Extract the ID from the usub\n",
    "show_closest_topic['usub_id'] = show_closest_topic['usub'].str.extract('(Topic [0-9]{1,2})').str.replace('Topic ', '')\n",
    "\n",
    "# Reorder and rename columns\n",
    "show_closest_topic = show_closest_topic[['usub_id', 'usub', 'usub_prob', 'podcast_name', 'subgenre', 'show_desc']]\n",
    "show_closest_topic = show_closest_topic.rename(columns={'subgenre': 'isub'})\n"
   ]
  },
  {
   "cell_type": "code",
   "execution_count": 29,
   "metadata": {
    "collapsed": false
   },
   "outputs": [
    {
     "data": {
      "text/html": [
       "<div>\n",
       "<table border=\"1\" class=\"dataframe\">\n",
       "  <thead>\n",
       "    <tr style=\"text-align: right;\">\n",
       "      <th></th>\n",
       "      <th>usub_id</th>\n",
       "      <th>usub</th>\n",
       "      <th>usub_prob</th>\n",
       "      <th>podcast_name</th>\n",
       "      <th>isub</th>\n",
       "      <th>show_desc</th>\n",
       "    </tr>\n",
       "  </thead>\n",
       "  <tbody>\n",
       "    <tr>\n",
       "      <th>0</th>\n",
       "      <td>50</td>\n",
       "      <td>Topic 50: wrestling - basketball - draft - bas...</td>\n",
       "      <td>0.757844</td>\n",
       "      <td>! Football Ringtones, Text Tones, Mail Alerts ...</td>\n",
       "      <td>College &amp; High School</td>\n",
       "      <td>Get FREE RINGTONES when you subscribe! Footbal...</td>\n",
       "    </tr>\n",
       "    <tr>\n",
       "      <th>1</th>\n",
       "      <td>50</td>\n",
       "      <td>Topic 50: wrestling - basketball - draft - bas...</td>\n",
       "      <td>0.473817</td>\n",
       "      <td>! World's Funniest Ringtones for iPhone &amp; iPad...</td>\n",
       "      <td>Gadgets</td>\n",
       "      <td>Get FREE RINGTONES when you subscribe to The W...</td>\n",
       "    </tr>\n",
       "    <tr>\n",
       "      <th>2</th>\n",
       "      <td>50</td>\n",
       "      <td>Topic 50: wrestling - basketball - draft - bas...</td>\n",
       "      <td>0.570578</td>\n",
       "      <td>! iPhone Ringtones</td>\n",
       "      <td>Video Games</td>\n",
       "      <td>Get FREE RINGTONES when you subscribe! The Wor...</td>\n",
       "    </tr>\n",
       "    <tr>\n",
       "      <th>3</th>\n",
       "      <td>51</td>\n",
       "      <td>Topic 51: disorder - adhd - parenting - divorc...</td>\n",
       "      <td>0.421885</td>\n",
       "      <td>\" Talk to Tony - Radio Show \" Licensed Psychol...</td>\n",
       "      <td>Social Sciences</td>\n",
       "      <td>Dr. Tony Ferretti offers a psychological persp...</td>\n",
       "    </tr>\n",
       "    <tr>\n",
       "      <th>4</th>\n",
       "      <td>10</td>\n",
       "      <td>Topic 10: graham - derek - jesse - genre - ind...</td>\n",
       "      <td>0.662356</td>\n",
       "      <td>\"A Tale of Two Cities\" Audiobook (Audio book)</td>\n",
       "      <td>Literature</td>\n",
       "      <td>\"A Tale of Two Cities\" was first published in ...</td>\n",
       "    </tr>\n",
       "  </tbody>\n",
       "</table>\n",
       "</div>"
      ],
      "text/plain": [
       "  usub_id                                               usub  usub_prob  \\\n",
       "0      50  Topic 50: wrestling - basketball - draft - bas...   0.757844   \n",
       "1      50  Topic 50: wrestling - basketball - draft - bas...   0.473817   \n",
       "2      50  Topic 50: wrestling - basketball - draft - bas...   0.570578   \n",
       "3      51  Topic 51: disorder - adhd - parenting - divorc...   0.421885   \n",
       "4      10  Topic 10: graham - derek - jesse - genre - ind...   0.662356   \n",
       "\n",
       "                                        podcast_name                   isub  \\\n",
       "0  ! Football Ringtones, Text Tones, Mail Alerts ...  College & High School   \n",
       "1  ! World's Funniest Ringtones for iPhone & iPad...                Gadgets   \n",
       "2                                 ! iPhone Ringtones            Video Games   \n",
       "3  \" Talk to Tony - Radio Show \" Licensed Psychol...        Social Sciences   \n",
       "4      \"A Tale of Two Cities\" Audiobook (Audio book)             Literature   \n",
       "\n",
       "                                           show_desc  \n",
       "0  Get FREE RINGTONES when you subscribe! Footbal...  \n",
       "1  Get FREE RINGTONES when you subscribe to The W...  \n",
       "2  Get FREE RINGTONES when you subscribe! The Wor...  \n",
       "3  Dr. Tony Ferretti offers a psychological persp...  \n",
       "4  \"A Tale of Two Cities\" was first published in ...  "
      ]
     },
     "execution_count": 29,
     "metadata": {},
     "output_type": "execute_result"
    }
   ],
   "source": [
    "show_closest_topic.head()"
   ]
  },
  {
   "cell_type": "code",
   "execution_count": 30,
   "metadata": {
    "collapsed": false
   },
   "outputs": [],
   "source": [
    "# Export to CSV\n",
    "show_closest_topic.to_csv('../output/' + scenario + '_shows_and_closest_topics.csv', index=False)"
   ]
  },
  {
   "cell_type": "markdown",
   "metadata": {},
   "source": [
    "# V. Evaluation"
   ]
  },
  {
   "cell_type": "code",
   "execution_count": null,
   "metadata": {
    "collapsed": true
   },
   "outputs": [],
   "source": [
    "# Load category mapping\n",
    "cat_map = pd.read_csv('../raw/cat_maps/cat_map_' + scenario + '.csv')"
   ]
  }
 ],
 "metadata": {
  "kernelspec": {
   "display_name": "Python 2",
   "language": "python",
   "name": "python2"
  },
  "language_info": {
   "codemirror_mode": {
    "name": "ipython",
    "version": 2
   },
   "file_extension": ".py",
   "mimetype": "text/x-python",
   "name": "python",
   "nbconvert_exporter": "python",
   "pygments_lexer": "ipython2",
   "version": "2.7.10"
  }
 },
 "nbformat": 4,
 "nbformat_minor": 0
}
