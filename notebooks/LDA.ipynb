{
 "cells": [
  {
   "cell_type": "code",
   "execution_count": 17,
   "metadata": {
    "collapsed": true
   },
   "outputs": [],
   "source": [
    "### Podcast Micro-Categories\n",
    "### Unsupervised LDA\n",
    "\n",
    "from __future__ import print_function\n",
    "from __future__ import division\n",
    "\n",
    "import gc\n",
    "import os\n",
    "import time\n",
    "\n",
    "import numpy as np\n",
    "import pandas as pd\n",
    "\n",
    "import lda\n"
   ]
  },
  {
   "cell_type": "code",
   "execution_count": 15,
   "metadata": {
    "collapsed": false
   },
   "outputs": [
    {
     "name": "stdout",
     "output_type": "stream",
     "text": [
      "Episode Table Shape: (1202, 4)\n"
     ]
    }
   ],
   "source": [
    "# I. LOAD ---------------------------------------------------\n",
    "\n",
    "eps = pd.read_pickle('../interim/028_preproc_heavy_eps.p')\n",
    "\n",
    "print(\"Episode Table Shape:\", eps.shape)"
   ]
  },
  {
   "cell_type": "code",
   "execution_count": 16,
   "metadata": {
    "collapsed": false
   },
   "outputs": [
    {
     "data": {
      "text/html": [
       "<div>\n",
       "<table border=\"1\" class=\"dataframe\">\n",
       "  <thead>\n",
       "    <tr style=\"text-align: right;\">\n",
       "      <th></th>\n",
       "      <th>podcast_name</th>\n",
       "      <th>subgenre</th>\n",
       "      <th>description</th>\n",
       "      <th>description_tokens</th>\n",
       "    </tr>\n",
       "  </thead>\n",
       "  <tbody>\n",
       "    <tr>\n",
       "      <th>0</th>\n",
       "      <td>''A Moment of Yoga - Yoga Podcast</td>\n",
       "      <td>Self-Help</td>\n",
       "      <td>A Moment of Yoga - The Yamas -  the restriants...</td>\n",
       "      <td>[moment, yoga, yama, restriants, raja, yoga, m...</td>\n",
       "    </tr>\n",
       "    <tr>\n",
       "      <th>1</th>\n",
       "      <td>10 English Idioms in 10 Minutes!</td>\n",
       "      <td>K-12</td>\n",
       "      <td>Join Matt Purland as he shares an important an...</td>\n",
       "      <td>[join, matt, purland, share, important, announ...</td>\n",
       "    </tr>\n",
       "    <tr>\n",
       "      <th>2</th>\n",
       "      <td>100 Days for Good</td>\n",
       "      <td>Non-Profit</td>\n",
       "      <td>Thanks to great listener feedback, we take ano...</td>\n",
       "      <td>[thanks, great, listener, feedback, take, anot...</td>\n",
       "    </tr>\n",
       "    <tr>\n",
       "      <th>3</th>\n",
       "      <td>10x Talk with Joe Polish and Dan Sullivan</td>\n",
       "      <td>Management &amp; Marketing</td>\n",
       "      <td>In this Episode of 10X Talk, youll Discover 7 ...</td>\n",
       "      <td>[episode, x, talk, youll, discover, success, h...</td>\n",
       "    </tr>\n",
       "    <tr>\n",
       "      <th>4</th>\n",
       "      <td>1UP.com - The Sports Game Guy's Sports Anomaly</td>\n",
       "      <td>Video Games</td>\n",
       "      <td>4th String borrows from NFL Films to explain t...</td>\n",
       "      <td>[th, string, borrows, nfl, film, explain, grav...</td>\n",
       "    </tr>\n",
       "  </tbody>\n",
       "</table>\n",
       "</div>"
      ],
      "text/plain": [
       "                                     podcast_name                subgenre  \\\n",
       "0               ''A Moment of Yoga - Yoga Podcast               Self-Help   \n",
       "1                10 English Idioms in 10 Minutes!                    K-12   \n",
       "2                               100 Days for Good              Non-Profit   \n",
       "3       10x Talk with Joe Polish and Dan Sullivan  Management & Marketing   \n",
       "4  1UP.com - The Sports Game Guy's Sports Anomaly             Video Games   \n",
       "\n",
       "                                         description  \\\n",
       "0  A Moment of Yoga - The Yamas -  the restriants...   \n",
       "1  Join Matt Purland as he shares an important an...   \n",
       "2  Thanks to great listener feedback, we take ano...   \n",
       "3  In this Episode of 10X Talk, youll Discover 7 ...   \n",
       "4  4th String borrows from NFL Films to explain t...   \n",
       "\n",
       "                                  description_tokens  \n",
       "0  [moment, yoga, yama, restriants, raja, yoga, m...  \n",
       "1  [join, matt, purland, share, important, announ...  \n",
       "2  [thanks, great, listener, feedback, take, anot...  \n",
       "3  [episode, x, talk, youll, discover, success, h...  \n",
       "4  [th, string, borrows, nfl, film, explain, grav...  "
      ]
     },
     "execution_count": 16,
     "metadata": {},
     "output_type": "execute_result"
    }
   ],
   "source": [
    "eps.head()\n"
   ]
  }
 ],
 "metadata": {
  "kernelspec": {
   "display_name": "Python 2",
   "language": "python",
   "name": "python2"
  },
  "language_info": {
   "codemirror_mode": {
    "name": "ipython",
    "version": 2
   },
   "file_extension": ".py",
   "mimetype": "text/x-python",
   "name": "python",
   "nbconvert_exporter": "python",
   "pygments_lexer": "ipython2",
   "version": "2.7.10"
  }
 },
 "nbformat": 4,
 "nbformat_minor": 0
}
