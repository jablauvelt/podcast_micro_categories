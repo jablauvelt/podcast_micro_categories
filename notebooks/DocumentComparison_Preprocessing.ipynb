{
 "cells": [
  {
   "cell_type": "code",
   "execution_count": 1,
   "metadata": {
    "collapsed": false
   },
   "outputs": [],
   "source": [
    "import gc\n",
    "import os\n",
    "import time\n",
    "\n",
    "import numpy as np\n",
    "import pandas as pd\n",
    "import scipy\n",
    "\n",
    "from sklearn.externals import joblib"
   ]
  },
  {
   "cell_type": "code",
   "execution_count": 13,
   "metadata": {
    "collapsed": true
   },
   "outputs": [],
   "source": [
    "samp = True\n",
    "samp = '_samp' if samp else ''"
   ]
  },
  {
   "cell_type": "markdown",
   "metadata": {},
   "source": [
    "## I. Load"
   ]
  },
  {
   "cell_type": "code",
   "execution_count": 14,
   "metadata": {
    "collapsed": false
   },
   "outputs": [
    {
     "name": "stdout",
     "output_type": "stream",
     "text": [
      "('Episode Term Document Matrix Shape:', (1192, 14183))\n",
      "('Episode TFIDF Term Document Matrix Shape:', (1192, 14183))\n",
      "('Episode Table Shape:', (1192, 2))\n"
     ]
    }
   ],
   "source": [
    "# Load TDM\n",
    "loader = np.load('../interim/028_preproc_heavy_tdm' + samp + '.npz')\n",
    "tdm = scipy.sparse.csr_matrix((loader['data'], loader['indices'], loader['indptr']),\n",
    "                      shape=loader['shape'])\n",
    "\n",
    "loader = np.load('../interim/028_preproc_heavy_tfidf_tdm' + samp + '.npz')\n",
    "tfidf_tdm = scipy.sparse.csr_matrix((loader['data'], loader['indices'], loader['indptr']),\n",
    "                      shape=loader['shape'])\n",
    "\n",
    "# Load feature names\n",
    "feature_names = np.array(pd.read_pickle('../interim/028_preproc_heavy_names' + samp + '.p'))\n",
    "\n",
    "# Load show names and subgenres that still remain\n",
    "shows_concat = pd.read_pickle('../interim/028_preproc_heavy_shows_concat' + samp + '.p')\n",
    "\n",
    "# Load full show table so that summaries can be pulled in\n",
    "shows_full = pd.read_pickle('../interim/pods' + samp + '.p')\n",
    "\n",
    "print(\"Episode Term Document Matrix Shape:\", tdm.shape)\n",
    "print(\"Episode TFIDF Term Document Matrix Shape:\", tfidf_tdm.shape)\n",
    "print(\"Episode Table Shape:\", shows_concat.shape)\n",
    "assert tdm.shape[0] == shows_concat.shape[0]\n",
    "assert len(feature_names) == tdm.shape[1]"
   ]
  },
  {
   "cell_type": "code",
   "execution_count": 15,
   "metadata": {
    "collapsed": false
   },
   "outputs": [
    {
     "name": "stdout",
     "output_type": "stream",
     "text": [
      "(2, 18)\n",
      "(1240, 18)\n"
     ]
    },
    {
     "name": "stderr",
     "output_type": "stream",
     "text": [
      "/home/michaelrubin/anaconda2/lib/python2.7/site-packages/ipykernel/__main__.py:2: FutureWarning: sort(columns=....) is deprecated, use sort_values(by=.....)\n",
      "  from ipykernel import kernelapp as app\n"
     ]
    }
   ],
   "source": [
    "# Remove duplicates from full show list \n",
    "dupes = shows_full.groupby(['podcast_name', 'subgenre']).filter(lambda group: len(group) > 1).sort('podcast_name')\n",
    "print(dupes.shape)\n",
    "shows_full = shows_full.drop_duplicates(['podcast_name', 'subgenre'])\n",
    "print(shows_full.shape)"
   ]
  },
  {
   "cell_type": "code",
   "execution_count": 24,
   "metadata": {
    "collapsed": false
   },
   "outputs": [
    {
     "name": "stdout",
     "output_type": "stream",
     "text": [
      "(1240, 18)\n",
      "(1192, 2)\n",
      "(1192, 3)\n"
     ]
    },
    {
     "data": {
      "text/html": [
       "<div>\n",
       "<table border=\"1\" class=\"dataframe\">\n",
       "  <thead>\n",
       "    <tr style=\"text-align: right;\">\n",
       "      <th></th>\n",
       "      <th>podcast_name</th>\n",
       "      <th>subgenre</th>\n",
       "      <th>show_desc</th>\n",
       "    </tr>\n",
       "  </thead>\n",
       "  <tbody>\n",
       "    <tr>\n",
       "      <th>0</th>\n",
       "      <td>#NerdyCast</td>\n",
       "      <td>K-12</td>\n",
       "      <td>This is an education podcast featuring some of...</td>\n",
       "    </tr>\n",
       "    <tr>\n",
       "      <th>1</th>\n",
       "      <td>#SmartBrownVoices - Learning from Diversity</td>\n",
       "      <td>Business News</td>\n",
       "      <td>When you look through iTunes podcast, you rare...</td>\n",
       "    </tr>\n",
       "    <tr>\n",
       "      <th>2</th>\n",
       "      <td>1045 Home Improvement Show</td>\n",
       "      <td>Educational Technology</td>\n",
       "      <td>1045-WFLA's Home Improvement Show is all about...</td>\n",
       "    </tr>\n",
       "    <tr>\n",
       "      <th>3</th>\n",
       "      <td>2009 K-12 Online Conference Audio Podcast Channel</td>\n",
       "      <td>Educational Technology</td>\n",
       "      <td>The K-12 Online Conference invites participati...</td>\n",
       "    </tr>\n",
       "    <tr>\n",
       "      <th>4</th>\n",
       "      <td>3 Minute Hypnosis | Confidence Boost | Relaxat...</td>\n",
       "      <td>Alternative Health</td>\n",
       "      <td>Change your Day in 3 Minutes.... Specialised i...</td>\n",
       "    </tr>\n",
       "  </tbody>\n",
       "</table>\n",
       "</div>"
      ],
      "text/plain": [
       "                                        podcast_name                subgenre  \\\n",
       "0                                         #NerdyCast                    K-12   \n",
       "1        #SmartBrownVoices - Learning from Diversity           Business News   \n",
       "2                         1045 Home Improvement Show  Educational Technology   \n",
       "3  2009 K-12 Online Conference Audio Podcast Channel  Educational Technology   \n",
       "4  3 Minute Hypnosis | Confidence Boost | Relaxat...      Alternative Health   \n",
       "\n",
       "                                           show_desc  \n",
       "0  This is an education podcast featuring some of...  \n",
       "1  When you look through iTunes podcast, you rare...  \n",
       "2  1045-WFLA's Home Improvement Show is all about...  \n",
       "3  The K-12 Online Conference invites participati...  \n",
       "4  Change your Day in 3 Minutes.... Specialised i...  "
      ]
     },
     "execution_count": 24,
     "metadata": {},
     "output_type": "execute_result"
    }
   ],
   "source": [
    "# Join data from full show table to list of shows in the model\n",
    "\n",
    "print(shows_full.shape)\n",
    "print(shows_concat.shape)\n",
    "\n",
    "shows = pd.merge(shows_concat, shows_full[['podcast_name', 'subgenre', 'show_desc']], \n",
    "                 on = ['podcast_name', 'subgenre'], how='left', sort=False)\n",
    "print(shows.shape)\n",
    "assert shows.shape[0] == shows_concat.shape[0]\n",
    "shows.head()"
   ]
  },
  {
   "cell_type": "code",
   "execution_count": 21,
   "metadata": {
    "collapsed": false
   },
   "outputs": [
    {
     "name": "stdout",
     "output_type": "stream",
     "text": [
      "[[0 0 0 0 0 0 0 0 0 0 0 0 0 0 0 0 0 0 0 0]\n",
      " [0 0 0 0 0 0 0 0 0 0 4 0 0 0 0 0 0 0 0 0]\n",
      " [0 0 0 0 0 0 0 0 0 0 0 0 0 0 0 0 0 0 0 0]\n",
      " [0 0 0 0 0 0 0 0 0 0 0 0 0 0 0 0 0 0 0 0]\n",
      " [0 0 0 0 0 0 0 0 0 0 0 0 0 0 0 0 0 0 0 0]]\n",
      "--------------------------------------------------------------------------------\n",
      "[[ 0.          0.          0.          0.          0.          0.          0.\n",
      "   0.          0.          0.          0.          0.          0.          0.\n",
      "   0.          0.          0.          0.          0.          0.        ]\n",
      " [ 0.          0.          0.          0.          0.          0.          0.\n",
      "   0.          0.          0.          0.05003277  0.          0.          0.\n",
      "   0.          0.          0.          0.          0.          0.        ]\n",
      " [ 0.          0.          0.          0.          0.          0.          0.\n",
      "   0.          0.          0.          0.          0.          0.          0.\n",
      "   0.          0.          0.          0.          0.          0.        ]\n",
      " [ 0.          0.          0.          0.          0.          0.          0.\n",
      "   0.          0.          0.          0.          0.          0.          0.\n",
      "   0.          0.          0.          0.          0.          0.        ]\n",
      " [ 0.          0.          0.          0.          0.          0.          0.\n",
      "   0.          0.          0.          0.          0.          0.          0.\n",
      "   0.          0.          0.          0.          0.          0.        ]]\n"
     ]
    }
   ],
   "source": [
    "# Small cutout of TDM - it is a sparse matrix and therefore mostly 0s\n",
    "print tdm.toarray()[:5,0:20]\n",
    "print '-'*80\n",
    "print tfidf_tdm.toarray()[:5,0:20]"
   ]
  },
  {
   "cell_type": "markdown",
   "metadata": {},
   "source": [
    "## II. Filter"
   ]
  },
  {
   "cell_type": "code",
   "execution_count": 28,
   "metadata": {
    "collapsed": true
   },
   "outputs": [],
   "source": [
    "row_sums = np.array(tdm.sum(axis=1)).flatten()\n",
    "tfidf_row_sums = np.array(tfidf_tdm.sum(axis=1)).flatten()"
   ]
  },
  {
   "cell_type": "code",
   "execution_count": 30,
   "metadata": {
    "collapsed": false
   },
   "outputs": [
    {
     "data": {
      "text/html": [
       "<div>\n",
       "<table border=\"1\" class=\"dataframe\">\n",
       "  <thead>\n",
       "    <tr style=\"text-align: right;\">\n",
       "      <th></th>\n",
       "      <th>podcast_name</th>\n",
       "      <th>subgenre</th>\n",
       "      <th>show_desc</th>\n",
       "    </tr>\n",
       "  </thead>\n",
       "  <tbody>\n",
       "    <tr>\n",
       "      <th>749</th>\n",
       "      <td>Saloeurm Savath</td>\n",
       "      <td>Buddhism</td>\n",
       "      <td>This podcast is created for sharing the Khmer ...</td>\n",
       "    </tr>\n",
       "  </tbody>\n",
       "</table>\n",
       "</div>"
      ],
      "text/plain": [
       "        podcast_name  subgenre  \\\n",
       "749  Saloeurm Savath  Buddhism   \n",
       "\n",
       "                                             show_desc  \n",
       "749  This podcast is created for sharing the Khmer ...  "
      ]
     },
     "execution_count": 30,
     "metadata": {},
     "output_type": "execute_result"
    }
   ],
   "source": [
    "shows.ix[np.where(row_sums == 0)[0],:]"
   ]
  },
  {
   "cell_type": "code",
   "execution_count": 31,
   "metadata": {
    "collapsed": false
   },
   "outputs": [
    {
     "data": {
      "text/html": [
       "<div>\n",
       "<table border=\"1\" class=\"dataframe\">\n",
       "  <thead>\n",
       "    <tr style=\"text-align: right;\">\n",
       "      <th></th>\n",
       "      <th>podcast_name</th>\n",
       "      <th>subgenre</th>\n",
       "      <th>show_desc</th>\n",
       "    </tr>\n",
       "  </thead>\n",
       "  <tbody>\n",
       "    <tr>\n",
       "      <th>749</th>\n",
       "      <td>Saloeurm Savath</td>\n",
       "      <td>Buddhism</td>\n",
       "      <td>This podcast is created for sharing the Khmer ...</td>\n",
       "    </tr>\n",
       "  </tbody>\n",
       "</table>\n",
       "</div>"
      ],
      "text/plain": [
       "        podcast_name  subgenre  \\\n",
       "749  Saloeurm Savath  Buddhism   \n",
       "\n",
       "                                             show_desc  \n",
       "749  This podcast is created for sharing the Khmer ...  "
      ]
     },
     "execution_count": 31,
     "metadata": {},
     "output_type": "execute_result"
    }
   ],
   "source": [
    "shows.ix[np.where(tfidf_row_sums == 0)[0],:]"
   ]
  },
  {
   "cell_type": "code",
   "execution_count": 32,
   "metadata": {
    "collapsed": false
   },
   "outputs": [
    {
     "data": {
      "text/plain": [
       "92     7\n",
       "323    6\n",
       "32     6\n",
       "6      6\n",
       "123    6\n",
       "dtype: int64"
      ]
     },
     "execution_count": 32,
     "metadata": {},
     "output_type": "execute_result"
    }
   ],
   "source": [
    "pd.Series(row_sums).value_counts().head()"
   ]
  },
  {
   "cell_type": "code",
   "execution_count": 33,
   "metadata": {
    "collapsed": false
   },
   "outputs": [
    {
     "data": {
      "text/plain": [
       "1.000000    13\n",
       "5.775120     2\n",
       "6.718904     2\n",
       "4.281483     2\n",
       "4.956252     2\n",
       "dtype: int64"
      ]
     },
     "execution_count": 33,
     "metadata": {},
     "output_type": "execute_result"
    }
   ],
   "source": [
    "pd.Series(tfidf_row_sums).value_counts().head()"
   ]
  },
  {
   "cell_type": "code",
   "execution_count": 36,
   "metadata": {
    "collapsed": false
   },
   "outputs": [
    {
     "name": "stdout",
     "output_type": "stream",
     "text": [
      "Shows:\"\n",
      "(1191, 3)\n",
      "TDM:\"\n",
      "(1191, 14183)\n",
      "tfidf_TDM:\"\n",
      "(1191, 14183)\n"
     ]
    }
   ],
   "source": [
    "# Remove rows with zero words in the set\n",
    "shows = shows.ix[np.where(row_sums > 0)[0],:]\n",
    "tfidf_shows=shows.ix[np.where(tfidf_row_sums > 0)[0],:]\n",
    "\n",
    "tdm = tdm[np.where(row_sums > 0)[0],:]\n",
    "tfidf_tdm = tfidf_tdm[np.where(tfidf_row_sums > 0)[0],:]\n",
    "\n",
    "print 'Shows:\"'\n",
    "print(shows.shape)\n",
    "print 'tfidf_Shows:'\n",
    "print(tdfidf_shows.shape)\n",
    "print 'TDM:\"'\n",
    "print(tdm.shape)\n",
    "print 'tfidf_TDM:\"'\n",
    "print(tfidf_tdm.shape)"
   ]
  },
  {
   "cell_type": "markdown",
   "metadata": {},
   "source": [
    "## III. Export Arrays"
   ]
  },
  {
   "cell_type": "code",
   "execution_count": 42,
   "metadata": {
    "collapsed": false
   },
   "outputs": [],
   "source": [
    "np.savez('../interim/preprocessed_deduped_tdm' + samp + '.npz', data=tdm.data, \n",
    "         indices=tdm.indices, indptr=tdm.indptr, shape=tdm.shape)\n",
    "\n",
    "np.savez('../interim/preprocessed_deduped_tfidf_tdm' + samp + '.npz', data=tfidf_tdm.data, \n",
    "         indices=tfidf_tdm.indices, indptr=tfidf_tdm.indptr, shape=tfidf_tdm.shape)\n",
    "\n",
    "shows[['podcast_name', 'subgenre']].to_pickle('../interim/preprocessed_deduped_show_subgenre' + samp + '.p')\n",
    "\n",
    "tfidf_shows[['podcast_name', 'subgenre']].to_pickle('../interim/preprocessed_deduped_tfidf_show_subgenre' + samp + '.p')"
   ]
  }
 ],
 "metadata": {
  "anaconda-cloud": {},
  "kernelspec": {
   "display_name": "Python [default]",
   "language": "python",
   "name": "python2"
  },
  "language_info": {
   "codemirror_mode": {
    "name": "ipython",
    "version": 2
   },
   "file_extension": ".py",
   "mimetype": "text/x-python",
   "name": "python",
   "nbconvert_exporter": "python",
   "pygments_lexer": "ipython2",
   "version": "2.7.12"
  }
 },
 "nbformat": 4,
 "nbformat_minor": 1
}
