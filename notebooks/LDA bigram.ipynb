{
 "cells": [
  {
   "cell_type": "markdown",
   "metadata": {},
   "source": [
    "# Podcast Micro-Categories\n",
    "### Exploratory Notebook\n",
    "### Unsupervised LDA"
   ]
  },
  {
   "cell_type": "code",
   "execution_count": 42,
   "metadata": {
    "collapsed": true
   },
   "outputs": [],
   "source": [
    "from __future__ import print_function\n",
    "from __future__ import division\n",
    "\n",
    "import gc\n",
    "import os\n",
    "import time\n",
    "\n",
    "import numpy as np\n",
    "import pandas as pd\n",
    "import scipy\n",
    "\n",
    "import lda\n",
    "\n",
    "import re\n",
    "\n",
    "from sklearn.externals import joblib\n"
   ]
  },
  {
   "cell_type": "code",
   "execution_count": 43,
   "metadata": {
    "collapsed": true
   },
   "outputs": [],
   "source": [
    "samp = False\n",
    "samp = '_samp' if samp else ''"
   ]
  },
  {
   "cell_type": "markdown",
   "metadata": {},
   "source": [
    "# I. Load"
   ]
  },
  {
   "cell_type": "code",
   "execution_count": 44,
   "metadata": {
    "collapsed": false
   },
   "outputs": [
    {
     "name": "stdout",
     "output_type": "stream",
     "text": [
      "Episode Term Document Matrix Shape: (11795, 334244)\n",
      "Episode Table Shape: (11795, 2)\n"
     ]
    }
   ],
   "source": [
    "preproc = '025_preproc_bigrams'\n",
    "# Load TDM\n",
    "loader = np.load('../interim/' + preproc + '_tdm' + samp + '.npz')\n",
    "tdm = scipy.sparse.csr_matrix((loader['data'], loader['indices'], loader['indptr']),\n",
    "                      shape=loader['shape'])\n",
    "\n",
    "# Load feature names\n",
    "feature_names = np.array(pd.read_pickle('../interim/' + preproc + '_names' + samp + '.p'))\n",
    "\n",
    "# Load show names and subgenres that still remain\n",
    "shows_concat = pd.read_pickle('../interim/' + preproc + '_shows_concat' + samp + '.p')\n",
    "\n",
    "# Load full show table so that summaries can be pulled in\n",
    "shows_full = pd.read_pickle('../interim/pods' + samp + '.p')\n",
    "\n",
    "print(\"Episode Term Document Matrix Shape:\", tdm.shape)\n",
    "print(\"Episode Table Shape:\", shows_concat.shape)\n",
    "assert tdm.shape[0] == shows_concat.shape[0]\n",
    "assert len(feature_names) == tdm.shape[1]"
   ]
  },
  {
   "cell_type": "code",
   "execution_count": 45,
   "metadata": {
    "collapsed": false
   },
   "outputs": [
    {
     "name": "stdout",
     "output_type": "stream",
     "text": [
      "Number of dupes removed:  (151, 18)\n",
      "Number of shows remaining:  (12319, 18)\n"
     ]
    }
   ],
   "source": [
    "# Remove duplicates from full show list (need to handle these earlier on in other scripts)\n",
    "dupes = shows_full.groupby(['podcast_name', 'subgenre']).filter(lambda group: len(group) > 1).sort('podcast_name')\n",
    "print(\"Number of dupes removed: \", dupes.shape)\n",
    "shows_full = shows_full.drop_duplicates(['podcast_name', 'subgenre'])\n",
    "print(\"Number of shows remaining: \", shows_full.shape)"
   ]
  },
  {
   "cell_type": "code",
   "execution_count": 46,
   "metadata": {
    "collapsed": false
   },
   "outputs": [
    {
     "name": "stdout",
     "output_type": "stream",
     "text": [
      "(12319, 18)\n",
      "(11795, 2)\n",
      "(11795, 3)\n"
     ]
    },
    {
     "data": {
      "text/html": [
       "<div>\n",
       "<table border=\"1\" class=\"dataframe\">\n",
       "  <thead>\n",
       "    <tr style=\"text-align: right;\">\n",
       "      <th></th>\n",
       "      <th>podcast_name</th>\n",
       "      <th>subgenre</th>\n",
       "      <th>show_desc</th>\n",
       "    </tr>\n",
       "  </thead>\n",
       "  <tbody>\n",
       "    <tr>\n",
       "      <th>0</th>\n",
       "      <td>! Football Ringtones, Text Tones, Mail Alerts ...</td>\n",
       "      <td>College &amp; High School</td>\n",
       "      <td>Get FREE RINGTONES when you subscribe! Footbal...</td>\n",
       "    </tr>\n",
       "    <tr>\n",
       "      <th>1</th>\n",
       "      <td>! World's Funniest Ringtones for iPhone &amp; iPad...</td>\n",
       "      <td>Gadgets</td>\n",
       "      <td>Get FREE RINGTONES when you subscribe to The W...</td>\n",
       "    </tr>\n",
       "    <tr>\n",
       "      <th>2</th>\n",
       "      <td>! iPhone Ringtones</td>\n",
       "      <td>Video Games</td>\n",
       "      <td>Get FREE RINGTONES when you subscribe! The Wor...</td>\n",
       "    </tr>\n",
       "    <tr>\n",
       "      <th>3</th>\n",
       "      <td>\" Talk to Tony - Radio Show \" Licensed Psychol...</td>\n",
       "      <td>Social Sciences</td>\n",
       "      <td>Dr. Tony Ferretti offers a psychological persp...</td>\n",
       "    </tr>\n",
       "    <tr>\n",
       "      <th>4</th>\n",
       "      <td>\"A Tale of Two Cities\" Audiobook (Audio book)</td>\n",
       "      <td>Literature</td>\n",
       "      <td>\"A Tale of Two Cities\" was first published in ...</td>\n",
       "    </tr>\n",
       "  </tbody>\n",
       "</table>\n",
       "</div>"
      ],
      "text/plain": [
       "                                        podcast_name               subgenre  \\\n",
       "0  ! Football Ringtones, Text Tones, Mail Alerts ...  College & High School   \n",
       "1  ! World's Funniest Ringtones for iPhone & iPad...                Gadgets   \n",
       "2                                 ! iPhone Ringtones            Video Games   \n",
       "3  \" Talk to Tony - Radio Show \" Licensed Psychol...        Social Sciences   \n",
       "4      \"A Tale of Two Cities\" Audiobook (Audio book)             Literature   \n",
       "\n",
       "                                           show_desc  \n",
       "0  Get FREE RINGTONES when you subscribe! Footbal...  \n",
       "1  Get FREE RINGTONES when you subscribe to The W...  \n",
       "2  Get FREE RINGTONES when you subscribe! The Wor...  \n",
       "3  Dr. Tony Ferretti offers a psychological persp...  \n",
       "4  \"A Tale of Two Cities\" was first published in ...  "
      ]
     },
     "execution_count": 46,
     "metadata": {},
     "output_type": "execute_result"
    }
   ],
   "source": [
    "# Join data from full show table to list of shows in the model\n",
    "\n",
    "print(shows_full.shape)\n",
    "print(shows_concat.shape)\n",
    "\n",
    "shows = pd.merge(shows_concat, shows_full[['podcast_name', 'subgenre', 'show_desc']], \n",
    "                 on = ['podcast_name', 'subgenre'], how='left', sort=False)\n",
    "print(shows.shape)\n",
    "assert shows.shape[0] == shows_concat.shape[0]\n",
    "shows.head()"
   ]
  },
  {
   "cell_type": "code",
   "execution_count": 47,
   "metadata": {
    "collapsed": false
   },
   "outputs": [
    {
     "ename": "MemoryError",
     "evalue": "",
     "output_type": "error",
     "traceback": [
      "\u001b[1;31m---------------------------------------------------------------------------\u001b[0m",
      "\u001b[1;31mMemoryError\u001b[0m                               Traceback (most recent call last)",
      "\u001b[1;32m<ipython-input-47-7e0ebf067920>\u001b[0m in \u001b[0;36m<module>\u001b[1;34m()\u001b[0m\n\u001b[0;32m      1\u001b[0m \u001b[1;31m# Small cutout of TDM - it is a sparse matrix and therefore mostly 0s\u001b[0m\u001b[1;33m\u001b[0m\u001b[1;33m\u001b[0m\u001b[0m\n\u001b[1;32m----> 2\u001b[1;33m \u001b[0mtdm\u001b[0m\u001b[1;33m.\u001b[0m\u001b[0mtoarray\u001b[0m\u001b[1;33m(\u001b[0m\u001b[1;33m)\u001b[0m\u001b[1;33m[\u001b[0m\u001b[1;33m:\u001b[0m\u001b[1;36m5\u001b[0m\u001b[1;33m,\u001b[0m\u001b[1;36m0\u001b[0m\u001b[1;33m:\u001b[0m\u001b[1;36m20\u001b[0m\u001b[1;33m]\u001b[0m\u001b[1;33m\u001b[0m\u001b[0m\n\u001b[0m",
      "\u001b[1;32mC:\\Anaconda\\lib\\site-packages\\scipy\\sparse\\compressed.pyc\u001b[0m in \u001b[0;36mtoarray\u001b[1;34m(self, order, out)\u001b[0m\n\u001b[0;32m    938\u001b[0m     \u001b[1;32mdef\u001b[0m \u001b[0mtoarray\u001b[0m\u001b[1;33m(\u001b[0m\u001b[0mself\u001b[0m\u001b[1;33m,\u001b[0m \u001b[0morder\u001b[0m\u001b[1;33m=\u001b[0m\u001b[0mNone\u001b[0m\u001b[1;33m,\u001b[0m \u001b[0mout\u001b[0m\u001b[1;33m=\u001b[0m\u001b[0mNone\u001b[0m\u001b[1;33m)\u001b[0m\u001b[1;33m:\u001b[0m\u001b[1;33m\u001b[0m\u001b[0m\n\u001b[0;32m    939\u001b[0m         \u001b[1;34m\"\"\"See the docstring for `spmatrix.toarray`.\"\"\"\u001b[0m\u001b[1;33m\u001b[0m\u001b[0m\n\u001b[1;32m--> 940\u001b[1;33m         \u001b[1;32mreturn\u001b[0m \u001b[0mself\u001b[0m\u001b[1;33m.\u001b[0m\u001b[0mtocoo\u001b[0m\u001b[1;33m(\u001b[0m\u001b[0mcopy\u001b[0m\u001b[1;33m=\u001b[0m\u001b[0mFalse\u001b[0m\u001b[1;33m)\u001b[0m\u001b[1;33m.\u001b[0m\u001b[0mtoarray\u001b[0m\u001b[1;33m(\u001b[0m\u001b[0morder\u001b[0m\u001b[1;33m=\u001b[0m\u001b[0morder\u001b[0m\u001b[1;33m,\u001b[0m \u001b[0mout\u001b[0m\u001b[1;33m=\u001b[0m\u001b[0mout\u001b[0m\u001b[1;33m)\u001b[0m\u001b[1;33m\u001b[0m\u001b[0m\n\u001b[0m\u001b[0;32m    941\u001b[0m \u001b[1;33m\u001b[0m\u001b[0m\n\u001b[0;32m    942\u001b[0m     \u001b[1;31m##############################################################\u001b[0m\u001b[1;33m\u001b[0m\u001b[1;33m\u001b[0m\u001b[0m\n",
      "\u001b[1;32mC:\\Anaconda\\lib\\site-packages\\scipy\\sparse\\coo.pyc\u001b[0m in \u001b[0;36mtoarray\u001b[1;34m(self, order, out)\u001b[0m\n\u001b[0;32m    272\u001b[0m     \u001b[1;32mdef\u001b[0m \u001b[0mtoarray\u001b[0m\u001b[1;33m(\u001b[0m\u001b[0mself\u001b[0m\u001b[1;33m,\u001b[0m \u001b[0morder\u001b[0m\u001b[1;33m=\u001b[0m\u001b[0mNone\u001b[0m\u001b[1;33m,\u001b[0m \u001b[0mout\u001b[0m\u001b[1;33m=\u001b[0m\u001b[0mNone\u001b[0m\u001b[1;33m)\u001b[0m\u001b[1;33m:\u001b[0m\u001b[1;33m\u001b[0m\u001b[0m\n\u001b[0;32m    273\u001b[0m         \u001b[1;34m\"\"\"See the docstring for `spmatrix.toarray`.\"\"\"\u001b[0m\u001b[1;33m\u001b[0m\u001b[0m\n\u001b[1;32m--> 274\u001b[1;33m         \u001b[0mB\u001b[0m \u001b[1;33m=\u001b[0m \u001b[0mself\u001b[0m\u001b[1;33m.\u001b[0m\u001b[0m_process_toarray_args\u001b[0m\u001b[1;33m(\u001b[0m\u001b[0morder\u001b[0m\u001b[1;33m,\u001b[0m \u001b[0mout\u001b[0m\u001b[1;33m)\u001b[0m\u001b[1;33m\u001b[0m\u001b[0m\n\u001b[0m\u001b[0;32m    275\u001b[0m         \u001b[0mfortran\u001b[0m \u001b[1;33m=\u001b[0m \u001b[0mint\u001b[0m\u001b[1;33m(\u001b[0m\u001b[0mB\u001b[0m\u001b[1;33m.\u001b[0m\u001b[0mflags\u001b[0m\u001b[1;33m.\u001b[0m\u001b[0mf_contiguous\u001b[0m\u001b[1;33m)\u001b[0m\u001b[1;33m\u001b[0m\u001b[0m\n\u001b[0;32m    276\u001b[0m         \u001b[1;32mif\u001b[0m \u001b[1;32mnot\u001b[0m \u001b[0mfortran\u001b[0m \u001b[1;32mand\u001b[0m \u001b[1;32mnot\u001b[0m \u001b[0mB\u001b[0m\u001b[1;33m.\u001b[0m\u001b[0mflags\u001b[0m\u001b[1;33m.\u001b[0m\u001b[0mc_contiguous\u001b[0m\u001b[1;33m:\u001b[0m\u001b[1;33m\u001b[0m\u001b[0m\n",
      "\u001b[1;32mC:\\Anaconda\\lib\\site-packages\\scipy\\sparse\\base.pyc\u001b[0m in \u001b[0;36m_process_toarray_args\u001b[1;34m(self, order, out)\u001b[0m\n\u001b[0;32m    791\u001b[0m             \u001b[1;32mreturn\u001b[0m \u001b[0mout\u001b[0m\u001b[1;33m\u001b[0m\u001b[0m\n\u001b[0;32m    792\u001b[0m         \u001b[1;32melse\u001b[0m\u001b[1;33m:\u001b[0m\u001b[1;33m\u001b[0m\u001b[0m\n\u001b[1;32m--> 793\u001b[1;33m             \u001b[1;32mreturn\u001b[0m \u001b[0mnp\u001b[0m\u001b[1;33m.\u001b[0m\u001b[0mzeros\u001b[0m\u001b[1;33m(\u001b[0m\u001b[0mself\u001b[0m\u001b[1;33m.\u001b[0m\u001b[0mshape\u001b[0m\u001b[1;33m,\u001b[0m \u001b[0mdtype\u001b[0m\u001b[1;33m=\u001b[0m\u001b[0mself\u001b[0m\u001b[1;33m.\u001b[0m\u001b[0mdtype\u001b[0m\u001b[1;33m,\u001b[0m \u001b[0morder\u001b[0m\u001b[1;33m=\u001b[0m\u001b[0morder\u001b[0m\u001b[1;33m)\u001b[0m\u001b[1;33m\u001b[0m\u001b[0m\n\u001b[0m\u001b[0;32m    794\u001b[0m \u001b[1;33m\u001b[0m\u001b[0m\n\u001b[0;32m    795\u001b[0m     \u001b[1;32mdef\u001b[0m \u001b[0m__numpy_ufunc__\u001b[0m\u001b[1;33m(\u001b[0m\u001b[0mself\u001b[0m\u001b[1;33m,\u001b[0m \u001b[0mfunc\u001b[0m\u001b[1;33m,\u001b[0m \u001b[0mmethod\u001b[0m\u001b[1;33m,\u001b[0m \u001b[0mpos\u001b[0m\u001b[1;33m,\u001b[0m \u001b[0minputs\u001b[0m\u001b[1;33m,\u001b[0m \u001b[1;33m**\u001b[0m\u001b[0mkwargs\u001b[0m\u001b[1;33m)\u001b[0m\u001b[1;33m:\u001b[0m\u001b[1;33m\u001b[0m\u001b[0m\n",
      "\u001b[1;31mMemoryError\u001b[0m: "
     ]
    }
   ],
   "source": [
    "# Small cutout of TDM - it is a sparse matrix and therefore mostly 0s\n",
    "tdm.toarray()[:5,0:20]"
   ]
  },
  {
   "cell_type": "markdown",
   "metadata": {},
   "source": [
    "# II. Filter"
   ]
  },
  {
   "cell_type": "markdown",
   "metadata": {},
   "source": [
    "### A. Remove features with podcast-specific phrases"
   ]
  },
  {
   "cell_type": "code",
   "execution_count": null,
   "metadata": {
    "collapsed": false
   },
   "outputs": [],
   "source": [
    "# List features with words that are specific to podcasts and are seen a lot\n",
    "podcast_stop_words = ['download', 'subscribe', 'listen', 'itunes', 'audio', 'comment', 'question', \n",
    "                      'recorded', 'episode', 'listener', 'podcast', '\\\\brate\\\\b', 'sponsor', 'support', \n",
    "                      'review', 'http', 'instagram', 'twitter', 'youtube', 'coupon', 'code', 'promo']\n",
    "podcast_stop_words_regex = '|'.join(podcast_stop_words)\n",
    "\n",
    "# Identify and count the features with these stop words\n",
    "where_not_podstop = [1 if re.search(podcast_stop_words_regex, i) else 0 for i in feature_names.flatten()]\n",
    "print('Removing {} features because they contain podcast stop words'.format(feature_names[np.where(where_not_podstop)].shape[0]))\n",
    "\n",
    "# Remove the features with these stop words from the feature_names variable and the TDM\n",
    "feature_names = feature_names[np.where(np.array(where_not_podstop) == 0)]\n",
    "tdm = tdm[:,np.where(np.array(where_not_podstop) == 0)[0]]\n",
    "print('{:,} features remaining'.format(feature_names.shape[0]))\n",
    "assert tdm.shape[1] == feature_names.shape[0]"
   ]
  },
  {
   "cell_type": "markdown",
   "metadata": {},
   "source": [
    "### B. Remove shows with no words in the vocab"
   ]
  },
  {
   "cell_type": "code",
   "execution_count": 48,
   "metadata": {
    "collapsed": false
   },
   "outputs": [
    {
     "name": "stdout",
     "output_type": "stream",
     "text": [
      "Number of shows with no words in the vocabulary:  44\n"
     ]
    }
   ],
   "source": [
    "# Identify show that have no words in the vocabulary\n",
    "row_sums = np.array(tdm.sum(axis=1)).flatten() # sum tdm counts across rows (across shows)\n",
    "print(\"Number of shows with no words in the vocabulary: \", \n",
    "      shows.ix[np.where(row_sums == 0)[0],:].shape[0]) # print out count of rows that will be removed"
   ]
  },
  {
   "cell_type": "code",
   "execution_count": 49,
   "metadata": {
    "collapsed": false
   },
   "outputs": [
    {
     "name": "stdout",
     "output_type": "stream",
     "text": [
      "(11751, 3)\n",
      "(11751, 334244)\n"
     ]
    }
   ],
   "source": [
    "# Remove rows with zero words in the set\n",
    "shows = shows.ix[np.where(row_sums > 0)[0],:]\n",
    "tdm = tdm[np.where(row_sums > 0)[0],:]\n",
    "print(shows.shape)\n",
    "print(tdm.shape)"
   ]
  },
  {
   "cell_type": "markdown",
   "metadata": {},
   "source": [
    "# III. Train LDA Model"
   ]
  },
  {
   "cell_type": "code",
   "execution_count": 50,
   "metadata": {
    "collapsed": false
   },
   "outputs": [
    {
     "name": "stdout",
     "output_type": "stream",
     "text": [
      "Wall time: 21min 9s\n"
     ]
    },
    {
     "data": {
      "text/plain": [
       "<lda.lda.LDA instance at 0x0000000016A3E188>"
      ]
     },
     "execution_count": 50,
     "metadata": {},
     "output_type": "execute_result"
    }
   ],
   "source": [
    "# Create model\n",
    "model = lda.LDA(n_topics=56, n_iter=75, random_state=42)\n",
    "\n",
    "# Fit model (takes about 20 minutes for 75 iterations\n",
    "%time model.fit(tdm)"
   ]
  },
  {
   "cell_type": "code",
   "execution_count": 51,
   "metadata": {
    "collapsed": false
   },
   "outputs": [
    {
     "data": {
      "text/plain": [
       "['../interim/trained_models/lda/lda_s4.pkl',\n",
       " '../interim/trained_models/lda/lda_s4.pkl_01.npy',\n",
       " '../interim/trained_models/lda/lda_s4.pkl_02.npy',\n",
       " '../interim/trained_models/lda/lda_s4.pkl_03.npy',\n",
       " '../interim/trained_models/lda/lda_s4.pkl_04.npy',\n",
       " '../interim/trained_models/lda/lda_s4.pkl_05.npy',\n",
       " '../interim/trained_models/lda/lda_s4.pkl_06.npy',\n",
       " '../interim/trained_models/lda/lda_s4.pkl_07.npy']"
      ]
     },
     "execution_count": 51,
     "metadata": {},
     "output_type": "execute_result"
    }
   ],
   "source": [
    "# (Save/Load model pickle object as needed)\n",
    "# Pickle model\n",
    "joblib.dump(model, '../interim/trained_models/lda/lda_s4' + samp + '.pkl')\n",
    "# Load pickled model\n",
    "#model = joblib.load('../interim/trained_models/lda/lda.pkl')"
   ]
  },
  {
   "cell_type": "markdown",
   "metadata": {},
   "source": [
    "# IV. Exploration"
   ]
  },
  {
   "cell_type": "markdown",
   "metadata": {},
   "source": [
    "## A. Model Words"
   ]
  },
  {
   "cell_type": "code",
   "execution_count": 52,
   "metadata": {
    "collapsed": false
   },
   "outputs": [
    {
     "name": "stdout",
     "output_type": "stream",
     "text": [
      "(56L, 334244L)\n",
      "Topic 0:  god ha - nt miss - jesus christ - series `` - holy spirit - dr michael\n",
      "Topic 1:  listener question - hope enjoy - week podcast - answer listener - question week - listener feedback\n",
      "Topic 2:  twitter http - facebook http - website http - itunes http - link http - youtube http\n",
      "Topic 3:  small business - medium marketing - content marketing - submit question - facebook ad - customer service\n",
      "Topic 4:  facebook group - fat guy - review itunes - review help - voicemail line - write u\n",
      "Topic 5:  donald trump - climate change - supreme court - hillary clinton - white house - law school\n",
      "Topic 6:  mental health - author book - private practice - bestselling author - feel free - daily life\n",
      "Topic 7:  did know - best friend - `` nt - nt like - people nt - men woman\n",
      "Topic 8:  visit http - coffee break - premium version - season lesson - post podcast - download audio\n",
      "Topic 9:  week talk - week discus - u discus - latest episode - u week - support u\n",
      "Topic 10:  th century - university press - civil war - guest discus - melvyn bragg - associate professor\n",
      "Topic 11:  air date - original air - click download - mountain bike - facebook page - read episode\n",
      "Topic 12:  listen episode - youre going - dont know - im going - today podcast - different way\n",
      "Topic 13:  bestselling author - fly fishing - fitness expert - health wellness - fitness trainer - fit love\n",
      "Topic 14:  star war - force awakens - voicemail email - video game - computer repair - war force\n",
      "Topic 15:  podcast discus - podcast feature - talk u - episode podcast - previous episode - work hard\n",
      "Topic 16:  http wwwyoutubecomwatch - mailing list - new episode - alexander technique - sex life - sex toy\n",
      "Topic 17:  original mix - fantasy football - extended mix - guest mix - club mix - bible church\n",
      "Topic 18:  muslim central - instagram twitter - youtube channel - subscribe youtube - facebook instagram - twitter subscribe\n",
      "Topic 19:  special thanks - season episode - episode wa - download subscribe - pop culture - episode episode\n",
      "Topic 20:  la vega - th anniversary - march th - th pm - harry potter - july th\n",
      "Topic 21:  rate review - martial art - running time - free audiobook - download mp - podcast itunes\n",
      "Topic 22:  http oldtimeradiodvdcom - old time - time radio - radio sponsored - dvd old - free shipping\n",
      "Topic 23:  wa just - wa like - wa going - time wa - gon na - wa able\n",
      "Topic 24:  subscribe itunes - itunes stitcher - facebook twitter - question comment - twitter facebook - click subscribe\n",
      "Topic 25:  promo code - episode sponsored - episode brought - free trial - coupon code - use promo\n",
      "Topic 26:  wall street - founder ceo - bestselling author - year experience - author book - street journal\n",
      "Topic 27:  video game - final fantasy - nt forget - talk radio - radio mike - game news\n",
      "Topic 28:  program wa - wa sponsored - wa brought - enjoy episode - craft beer - brewing company\n",
      "Topic 29:  follow u - u twitter - major spoiler - u facebook - contact u - u podcast\n",
      "Topic 30:  dharma talk - talk given - rating itunes - guided meditation - course miracle - zen center\n",
      "Topic 31:  cycling podcast - share experience - radio network - experience strength - strength hope - host michael\n",
      "Topic 32:  today guest - episode learn - business owner - guest today - change life - help people\n",
      "Topic 33:  executive director - state university - middle school - san diego - vice president - board member\n",
      "Topic 34:  thank listening - law attraction - twitter instagram - photography podcast - sure subscribe - life coach\n",
      "Topic 35:  research practice - day week - bridging gap - friend family - wa year - knew wa\n",
      "Topic 36:  false false - college football - head coach - super bowl - style definition - definition tablemsonormaltable\n",
      "Topic 37:  wa recorded - click learn - story start - recorded live - national gallery - gallery art\n",
      "Topic 38:  podcast itunes - link mentioned - rating review - mentioned episode - subscribe podcast - facebook group\n",
      "Topic 39:  weight loss - support sponsor - lose weight - mentioned episode - jimmy moore - ketogenic diet\n",
      "Topic 40:  real estate - estate investing - estate investor - cash flow - read post - rental property\n",
      "Topic 41:  leave review - review itunes - miss episode - fat loss - listen podcast - like share\n",
      "Topic 42:  continue reading - walt disney - disney world - creative common - kevin macleod - licensed creative\n",
      "Topic 43:  pm est - click listen - listen live - right click - night pm - download episode\n",
      "Topic 44:  make money - million dollar - new business - let know - start business - making money\n",
      "Topic 45:  desert island - favourite track - island disc - short story - wa born - taken original\n",
      "Topic 46:  physical therapy - sport medicine - sport psychology - itunes listen - tom interview - podcast hosted\n",
      "Topic 47:  apple watch - video itunes - app store - audio http - video http - twitter facebook\n",
      "Topic 48:  email u - leave u - send u - u email - u feedback - u voicemail\n",
      "Topic 49:  wdw radio - tip week - fan podcast - episode appeared - travel podcast - note link\n",
      "Topic 50:  medical school - web site - download podcast - health care - interview dr - emergency medicine\n",
      "Topic 51:  air force - law enforcement - bay area - st louis - washington dc - war ii\n",
      "Topic 52:  celtic music - music podcast - right reserved - visit u - new album - song ``\n",
      "Topic 53:  open source - best practice - search engine - big data - mobile device - internet marketing\n",
      "Topic 54:  information visit - nt forget - originally aired - learning resource - audio book - language learning\n",
      "Topic 55:  comic book - board game - graphic novel - click play - actual play - game throne\n"
     ]
    }
   ],
   "source": [
    "# Most Important Words for Each Topic\n",
    "topic_words = model.topic_word_\n",
    "print(topic_words.shape)\n",
    "\n",
    "top_n = 6\n",
    "topic_names_temp = []\n",
    "for ii, dist in enumerate(topic_words):\n",
    "    topic_words = np.array(feature_names)[np.argsort(dist)][:-(top_n+1):-1]\n",
    "    topic_names_temp.append('Topic ' + str(ii) + ': ' + ' - '.join(topic_words.flatten()))\n",
    "    print('Topic {}:  {}'.format(ii, ' - '.join(topic_words.flatten())))\n",
    "    "
   ]
  },
  {
   "cell_type": "markdown",
   "metadata": {},
   "source": [
    "## B. Show Topics"
   ]
  },
  {
   "cell_type": "code",
   "execution_count": 51,
   "metadata": {
    "collapsed": false
   },
   "outputs": [
    {
     "data": {
      "text/plain": [
       "(11744L, 56L)"
      ]
     },
     "execution_count": 51,
     "metadata": {},
     "output_type": "execute_result"
    }
   ],
   "source": [
    "model.doc_topic_.shape"
   ]
  },
  {
   "cell_type": "code",
   "execution_count": 52,
   "metadata": {
    "collapsed": false
   },
   "outputs": [
    {
     "data": {
      "text/plain": [
       "(11744L, 56L)"
      ]
     },
     "execution_count": 52,
     "metadata": {},
     "output_type": "execute_result"
    }
   ],
   "source": [
    "model.doc_topic_.shape"
   ]
  },
  {
   "cell_type": "code",
   "execution_count": 53,
   "metadata": {
    "collapsed": false
   },
   "outputs": [
    {
     "name": "stdout",
     "output_type": "stream",
     "text": [
      "(11744L, 56L)\n"
     ]
    }
   ],
   "source": [
    "# Best Fitting Episodes for Each Topic\n",
    "show_topics = model.doc_topic_\n",
    "print(show_topics.shape)\n",
    "\n",
    "\n",
    "show_closest_topic = np.array(topic_names_temp)[show_topics.argmax(1)]\n",
    "show_closest_topic_prob = show_topics.max(1)"
   ]
  },
  {
   "cell_type": "code",
   "execution_count": 54,
   "metadata": {
    "collapsed": false
   },
   "outputs": [
    {
     "data": {
      "text/html": [
       "<div>\n",
       "<table border=\"1\" class=\"dataframe\">\n",
       "  <thead>\n",
       "    <tr style=\"text-align: right;\">\n",
       "      <th></th>\n",
       "      <th>podcast_name</th>\n",
       "      <th>subgenre</th>\n",
       "      <th>show_desc</th>\n",
       "    </tr>\n",
       "  </thead>\n",
       "  <tbody>\n",
       "    <tr>\n",
       "      <th>0</th>\n",
       "      <td>! Football Ringtones, Text Tones, Mail Alerts ...</td>\n",
       "      <td>College &amp; High School</td>\n",
       "      <td>Get FREE RINGTONES when you subscribe! Footbal...</td>\n",
       "    </tr>\n",
       "    <tr>\n",
       "      <th>1</th>\n",
       "      <td>! World's Funniest Ringtones for iPhone &amp; iPad...</td>\n",
       "      <td>Gadgets</td>\n",
       "      <td>Get FREE RINGTONES when you subscribe to The W...</td>\n",
       "    </tr>\n",
       "    <tr>\n",
       "      <th>2</th>\n",
       "      <td>! iPhone Ringtones</td>\n",
       "      <td>Video Games</td>\n",
       "      <td>Get FREE RINGTONES when you subscribe! The Wor...</td>\n",
       "    </tr>\n",
       "    <tr>\n",
       "      <th>3</th>\n",
       "      <td>\" Talk to Tony - Radio Show \" Licensed Psychol...</td>\n",
       "      <td>Social Sciences</td>\n",
       "      <td>Dr. Tony Ferretti offers a psychological persp...</td>\n",
       "    </tr>\n",
       "    <tr>\n",
       "      <th>4</th>\n",
       "      <td>\"A Tale of Two Cities\" Audiobook (Audio book)</td>\n",
       "      <td>Literature</td>\n",
       "      <td>\"A Tale of Two Cities\" was first published in ...</td>\n",
       "    </tr>\n",
       "  </tbody>\n",
       "</table>\n",
       "</div>"
      ],
      "text/plain": [
       "                                        podcast_name               subgenre  \\\n",
       "0  ! Football Ringtones, Text Tones, Mail Alerts ...  College & High School   \n",
       "1  ! World's Funniest Ringtones for iPhone & iPad...                Gadgets   \n",
       "2                                 ! iPhone Ringtones            Video Games   \n",
       "3  \" Talk to Tony - Radio Show \" Licensed Psychol...        Social Sciences   \n",
       "4      \"A Tale of Two Cities\" Audiobook (Audio book)             Literature   \n",
       "\n",
       "                                           show_desc  \n",
       "0  Get FREE RINGTONES when you subscribe! Footbal...  \n",
       "1  Get FREE RINGTONES when you subscribe to The W...  \n",
       "2  Get FREE RINGTONES when you subscribe! The Wor...  \n",
       "3  Dr. Tony Ferretti offers a psychological persp...  \n",
       "4  \"A Tale of Two Cities\" was first published in ...  "
      ]
     },
     "execution_count": 54,
     "metadata": {},
     "output_type": "execute_result"
    }
   ],
   "source": [
    "shows.head()"
   ]
  },
  {
   "cell_type": "code",
   "execution_count": 55,
   "metadata": {
    "collapsed": false
   },
   "outputs": [],
   "source": [
    "show_closest_topic = pd.DataFrame({'topic': show_closest_topic, \n",
    "                                 'prob': show_closest_topic_prob})\n",
    "show_closest_topic = pd.concat([show_closest_topic, shows], axis=1)"
   ]
  },
  {
   "cell_type": "code",
   "execution_count": 56,
   "metadata": {
    "collapsed": false
   },
   "outputs": [
    {
     "data": {
      "text/html": [
       "<div>\n",
       "<table border=\"1\" class=\"dataframe\">\n",
       "  <thead>\n",
       "    <tr style=\"text-align: right;\">\n",
       "      <th></th>\n",
       "      <th>prob</th>\n",
       "      <th>topic</th>\n",
       "      <th>podcast_name</th>\n",
       "      <th>subgenre</th>\n",
       "      <th>show_desc</th>\n",
       "    </tr>\n",
       "  </thead>\n",
       "  <tbody>\n",
       "    <tr>\n",
       "      <th>0</th>\n",
       "      <td>0.671409</td>\n",
       "      <td>Topic 36: middle school - photography podcast ...</td>\n",
       "      <td>! Football Ringtones, Text Tones, Mail Alerts ...</td>\n",
       "      <td>College &amp; High School</td>\n",
       "      <td>Get FREE RINGTONES when you subscribe! Footbal...</td>\n",
       "    </tr>\n",
       "    <tr>\n",
       "      <th>1</th>\n",
       "      <td>0.238132</td>\n",
       "      <td>Topic 38: share experience - experience streng...</td>\n",
       "      <td>! World's Funniest Ringtones for iPhone &amp; iPad...</td>\n",
       "      <td>Gadgets</td>\n",
       "      <td>Get FREE RINGTONES when you subscribe to The W...</td>\n",
       "    </tr>\n",
       "    <tr>\n",
       "      <th>2</th>\n",
       "      <td>0.234069</td>\n",
       "      <td>Topic 36: middle school - photography podcast ...</td>\n",
       "      <td>! iPhone Ringtones</td>\n",
       "      <td>Video Games</td>\n",
       "      <td>Get FREE RINGTONES when you subscribe! The Wor...</td>\n",
       "    </tr>\n",
       "    <tr>\n",
       "      <th>3</th>\n",
       "      <td>0.407588</td>\n",
       "      <td>Topic 42: mental health - health care - breast...</td>\n",
       "      <td>\" Talk to Tony - Radio Show \" Licensed Psychol...</td>\n",
       "      <td>Social Sciences</td>\n",
       "      <td>Dr. Tony Ferretti offers a psychological persp...</td>\n",
       "    </tr>\n",
       "    <tr>\n",
       "      <th>4</th>\n",
       "      <td>0.475575</td>\n",
       "      <td>Topic 13: continue reading - week talk - week ...</td>\n",
       "      <td>\"A Tale of Two Cities\" Audiobook (Audio book)</td>\n",
       "      <td>Literature</td>\n",
       "      <td>\"A Tale of Two Cities\" was first published in ...</td>\n",
       "    </tr>\n",
       "    <tr>\n",
       "      <th>5</th>\n",
       "      <td>0.421182</td>\n",
       "      <td>Topic 13: continue reading - week talk - week ...</td>\n",
       "      <td>\"Adventures of Huckleberry Finn\" Audiobook (Au...</td>\n",
       "      <td>Literature</td>\n",
       "      <td>\"All modern American literature comes from one...</td>\n",
       "    </tr>\n",
       "    <tr>\n",
       "      <th>6</th>\n",
       "      <td>0.114583</td>\n",
       "      <td>Topic 30: visit http - celtic music - web site...</td>\n",
       "      <td>\"He's Just Not That Into You: Ten Chick Flick ...</td>\n",
       "      <td>Music</td>\n",
       "      <td>He's Just Not That Into You: Ten Chick Flick C...</td>\n",
       "    </tr>\n",
       "    <tr>\n",
       "      <th>7</th>\n",
       "      <td>0.433594</td>\n",
       "      <td>Topic 13: continue reading - week talk - week ...</td>\n",
       "      <td>\"Heart of Darkness\" Audiobook (Audio book)</td>\n",
       "      <td>Literature</td>\n",
       "      <td>\"Heart of Darkness\" was first published in 190...</td>\n",
       "    </tr>\n",
       "    <tr>\n",
       "      <th>8</th>\n",
       "      <td>0.246032</td>\n",
       "      <td>Topic 41: notes http - law school - says `` - ...</td>\n",
       "      <td>\"How-to\" (I hope) build an online e-commerce s...</td>\n",
       "      <td>Shopping</td>\n",
       "      <td>A weekly audio journal sharing the inspired, a...</td>\n",
       "    </tr>\n",
       "    <tr>\n",
       "      <th>9</th>\n",
       "      <td>0.241462</td>\n",
       "      <td>Topic 51: men women - sex life - love life - s...</td>\n",
       "      <td>\"Living in the Quantum Field\" with Asara Lovejoy</td>\n",
       "      <td>Spirituality</td>\n",
       "      <td>Are you ready to leap into another dimension o...</td>\n",
       "    </tr>\n",
       "    <tr>\n",
       "      <th>10</th>\n",
       "      <td>0.234069</td>\n",
       "      <td>Topic 51: men women - sex life - love life - s...</td>\n",
       "      <td>\"The Cari Murphy Show Straight Talk For The So...</td>\n",
       "      <td>Spirituality</td>\n",
       "      <td>\"The Cari Murphy Show Straight Talk For The So...</td>\n",
       "    </tr>\n",
       "    <tr>\n",
       "      <th>11</th>\n",
       "      <td>0.372051</td>\n",
       "      <td>Topic 39: recorded live - new album - twitter ...</td>\n",
       "      <td>\"The Dedan Tolbert Show\" - Celebrating 10 Years!</td>\n",
       "      <td>Social Sciences</td>\n",
       "      <td>Whether it's relationship advice, politics, so...</td>\n",
       "    </tr>\n",
       "    <tr>\n",
       "      <th>12</th>\n",
       "      <td>0.699074</td>\n",
       "      <td>Topic 23: episode learn - make money - episode...</td>\n",
       "      <td>\"The Scarlet Letter\" Audiobook (Audio book)</td>\n",
       "      <td>Literature</td>\n",
       "      <td>\"The Scarlet Letter\" was first published in 18...</td>\n",
       "    </tr>\n",
       "    <tr>\n",
       "      <th>13</th>\n",
       "      <td>0.319788</td>\n",
       "      <td>Topic 43: donald trump - university press - hi...</td>\n",
       "      <td>\"Too Jewish\"</td>\n",
       "      <td>Judaism</td>\n",
       "      <td>\"Too Jewish with Rabbi Sam Cohon and Friends\"</td>\n",
       "    </tr>\n",
       "    <tr>\n",
       "      <th>14</th>\n",
       "      <td>0.295666</td>\n",
       "      <td>Topic 43: donald trump - university press - hi...</td>\n",
       "      <td>#AskJP</td>\n",
       "      <td>Local</td>\n",
       "      <td>Want to know how a policy might affect you? Ne...</td>\n",
       "    </tr>\n",
       "    <tr>\n",
       "      <th>15</th>\n",
       "      <td>0.313484</td>\n",
       "      <td>Topic 41: notes http - law school - says `` - ...</td>\n",
       "      <td>#AskWardee</td>\n",
       "      <td>Alternative Health</td>\n",
       "      <td>Wardee is a wife and mom of 3, the lead teache...</td>\n",
       "    </tr>\n",
       "    <tr>\n",
       "      <th>16</th>\n",
       "      <td>0.685370</td>\n",
       "      <td>Topic 36: middle school - photography podcast ...</td>\n",
       "      <td>#EdChat Radio</td>\n",
       "      <td>K-12</td>\n",
       "      <td>Once a week Highlights and amplifications from...</td>\n",
       "    </tr>\n",
       "    <tr>\n",
       "      <th>17</th>\n",
       "      <td>0.661283</td>\n",
       "      <td>Topic 36: middle school - photography podcast ...</td>\n",
       "      <td>#EdTech Chat Radio</td>\n",
       "      <td>K-12</td>\n",
       "      <td>EdTechChat Radio is a weekly roundtable discus...</td>\n",
       "    </tr>\n",
       "    <tr>\n",
       "      <th>18</th>\n",
       "      <td>0.166667</td>\n",
       "      <td>Topic 43: donald trump - university press - hi...</td>\n",
       "      <td>#GoodMuslimBadMuslim</td>\n",
       "      <td>Personal Journals</td>\n",
       "      <td>A monthly podcast featuring Tanzila \"Taz\" Ahme...</td>\n",
       "    </tr>\n",
       "    <tr>\n",
       "      <th>19</th>\n",
       "      <td>0.158933</td>\n",
       "      <td>Topic 36: middle school - photography podcast ...</td>\n",
       "      <td>#NerdyCast</td>\n",
       "      <td>K-12</td>\n",
       "      <td>This is an education podcast featuring some of...</td>\n",
       "    </tr>\n",
       "    <tr>\n",
       "      <th>20</th>\n",
       "      <td>0.128322</td>\n",
       "      <td>Topic 9: award winning - today guest - author ...</td>\n",
       "      <td>#SmartBrownVoices - Learning from Diversity</td>\n",
       "      <td>Business News</td>\n",
       "      <td>When you look through iTunes podcast, you rare...</td>\n",
       "    </tr>\n",
       "    <tr>\n",
       "      <th>21</th>\n",
       "      <td>0.189436</td>\n",
       "      <td>Topic 7: ll learn - episode ll - today talk - ...</td>\n",
       "      <td>#SpiritChat by Jennifer O'Neill</td>\n",
       "      <td>Spirituality</td>\n",
       "      <td>?Where spiritual guidance and life strategies ...</td>\n",
       "    </tr>\n",
       "    <tr>\n",
       "      <th>22</th>\n",
       "      <td>0.219135</td>\n",
       "      <td>Topic 46: episode brought - hope enjoy - episo...</td>\n",
       "      <td>#WeThePeople LIVE</td>\n",
       "      <td>Comedy</td>\n",
       "      <td>#WeThePeople LIVE is a high-energy, high-brow ...</td>\n",
       "    </tr>\n",
       "    <tr>\n",
       "      <th>23</th>\n",
       "      <td>0.194593</td>\n",
       "      <td>Topic 7: ll learn - episode ll - today talk - ...</td>\n",
       "      <td>#YouMatter</td>\n",
       "      <td>Fashion &amp; Beauty</td>\n",
       "      <td>#YouMatter is hosted by Noonday Collection Fou...</td>\n",
       "    </tr>\n",
       "    <tr>\n",
       "      <th>24</th>\n",
       "      <td>0.209845</td>\n",
       "      <td>Topic 14: change life - life coach - personal ...</td>\n",
       "      <td>#createlounge: Tap Into Your Creativity, Tell ...</td>\n",
       "      <td>Visual Arts</td>\n",
       "      <td>Every Thursday, we invite creatives from our o...</td>\n",
       "    </tr>\n",
       "    <tr>\n",
       "      <th>25</th>\n",
       "      <td>0.142131</td>\n",
       "      <td>Topic 3: rating review - links mentioned - sen...</td>\n",
       "      <td>#englishbanana Free English Podcast</td>\n",
       "      <td>K-12</td>\n",
       "      <td>EnglishBanana.com is a fun site for learners o...</td>\n",
       "    </tr>\n",
       "    <tr>\n",
       "      <th>26</th>\n",
       "      <td>0.211310</td>\n",
       "      <td>Topic 27: apple watch - app store - video http...</td>\n",
       "      <td>#itsawotwednesday</td>\n",
       "      <td>Shopping</td>\n",
       "      <td>This Podcast will feature information on gifts...</td>\n",
       "    </tr>\n",
       "    <tr>\n",
       "      <th>27</th>\n",
       "      <td>0.249556</td>\n",
       "      <td>Topic 12: open source - best practices - silic...</td>\n",
       "      <td>#maketechhuman</td>\n",
       "      <td>Tech News</td>\n",
       "      <td>#maketechhuman is a new podcast hosted by The ...</td>\n",
       "    </tr>\n",
       "    <tr>\n",
       "      <th>28</th>\n",
       "      <td>0.456033</td>\n",
       "      <td>Topic 51: men women - sex life - love life - s...</td>\n",
       "      <td>''A Moment of Yoga - Yoga Podcast</td>\n",
       "      <td>Self-Help</td>\n",
       "      <td>Uplifting and Inspiring discourses of the hear...</td>\n",
       "    </tr>\n",
       "    <tr>\n",
       "      <th>29</th>\n",
       "      <td>0.224566</td>\n",
       "      <td>Topic 31: star wars - video game - video games...</td>\n",
       "      <td>'ScapeTalk</td>\n",
       "      <td>Other Games</td>\n",
       "      <td>'ScapeTalk is a monthly podcast formatted like...</td>\n",
       "    </tr>\n",
       "    <tr>\n",
       "      <th>...</th>\n",
       "      <td>...</td>\n",
       "      <td>...</td>\n",
       "      <td>...</td>\n",
       "      <td>...</td>\n",
       "      <td>...</td>\n",
       "    </tr>\n",
       "    <tr>\n",
       "      <th>11765</th>\n",
       "      <td>NaN</td>\n",
       "      <td>NaN</td>\n",
       "      <td>sherylunderwoodradio's podcast</td>\n",
       "      <td>Educational Technology</td>\n",
       "      <td>Listen, Laugh, Learn. Get to know Sheryl Under...</td>\n",
       "    </tr>\n",
       "    <tr>\n",
       "      <th>11766</th>\n",
       "      <td>NaN</td>\n",
       "      <td>NaN</td>\n",
       "      <td>shralp! snowboarding video news</td>\n",
       "      <td>Outdoor</td>\n",
       "      <td>shralp! is the world leading snowboarding vide...</td>\n",
       "    </tr>\n",
       "    <tr>\n",
       "      <th>11767</th>\n",
       "      <td>NaN</td>\n",
       "      <td>NaN</td>\n",
       "      <td>specialoperationsmedicine's podcast</td>\n",
       "      <td>Medicine</td>\n",
       "      <td>This podcast covers medical care targeted to t...</td>\n",
       "    </tr>\n",
       "    <tr>\n",
       "      <th>11768</th>\n",
       "      <td>NaN</td>\n",
       "      <td>NaN</td>\n",
       "      <td>strategy+business/Knowledge@Wharton Podcasts</td>\n",
       "      <td>Management &amp; Marketing</td>\n",
       "      <td>strategy+business Media, a unit of the global ...</td>\n",
       "    </tr>\n",
       "    <tr>\n",
       "      <th>11769</th>\n",
       "      <td>NaN</td>\n",
       "      <td>NaN</td>\n",
       "      <td>tales of the texas rangers</td>\n",
       "      <td>Literature</td>\n",
       "      <td>Joel McCrea stars as Texas Ranger Jace Pearson...</td>\n",
       "    </tr>\n",
       "    <tr>\n",
       "      <th>11770</th>\n",
       "      <td>NaN</td>\n",
       "      <td>NaN</td>\n",
       "      <td>the 12-Step Buddhist Podcast</td>\n",
       "      <td>Buddhism</td>\n",
       "      <td>The 12-Step Buddhist. Recovery, wellness, spir...</td>\n",
       "    </tr>\n",
       "    <tr>\n",
       "      <th>11771</th>\n",
       "      <td>NaN</td>\n",
       "      <td>NaN</td>\n",
       "      <td>the Building Performance Podcast</td>\n",
       "      <td>Social Sciences</td>\n",
       "      <td>The Building Performance Podcast is an intervi...</td>\n",
       "    </tr>\n",
       "    <tr>\n",
       "      <th>11772</th>\n",
       "      <td>NaN</td>\n",
       "      <td>NaN</td>\n",
       "      <td>the DharmaRealm</td>\n",
       "      <td>Buddhism</td>\n",
       "      <td>The DharmaRealm podcast is a series of convers...</td>\n",
       "    </tr>\n",
       "    <tr>\n",
       "      <th>11773</th>\n",
       "      <td>NaN</td>\n",
       "      <td>NaN</td>\n",
       "      <td>the Loving Reality</td>\n",
       "      <td>Hinduism</td>\n",
       "      <td>A new generation of hari-katha begins here. Th...</td>\n",
       "    </tr>\n",
       "    <tr>\n",
       "      <th>11774</th>\n",
       "      <td>NaN</td>\n",
       "      <td>NaN</td>\n",
       "      <td>the Once Again Zen Podcast</td>\n",
       "      <td>Buddhism</td>\n",
       "      <td>ONCE AGAIN - A weekly podcast featuring Zen au...</td>\n",
       "    </tr>\n",
       "    <tr>\n",
       "      <th>11775</th>\n",
       "      <td>NaN</td>\n",
       "      <td>NaN</td>\n",
       "      <td>the Yankee Marshal Podcast</td>\n",
       "      <td>Personal Journals</td>\n",
       "      <td>This channel deals with firearms, self defense...</td>\n",
       "    </tr>\n",
       "    <tr>\n",
       "      <th>11776</th>\n",
       "      <td>NaN</td>\n",
       "      <td>NaN</td>\n",
       "      <td>the avenger</td>\n",
       "      <td>Performing Arts</td>\n",
       "      <td>Jim Brandon who fought crime as the Avenger wa...</td>\n",
       "    </tr>\n",
       "    <tr>\n",
       "      <th>11777</th>\n",
       "      <td>NaN</td>\n",
       "      <td>NaN</td>\n",
       "      <td>the epic podcast</td>\n",
       "      <td>Visual Arts</td>\n",
       "      <td>www.theepicpodcast.com Professional wedding ph...</td>\n",
       "    </tr>\n",
       "    <tr>\n",
       "      <th>11778</th>\n",
       "      <td>NaN</td>\n",
       "      <td>NaN</td>\n",
       "      <td>the memory palace</td>\n",
       "      <td>History</td>\n",
       "      <td>From public radio producer, Nate DiMeo, comes ...</td>\n",
       "    </tr>\n",
       "    <tr>\n",
       "      <th>11779</th>\n",
       "      <td>NaN</td>\n",
       "      <td>NaN</td>\n",
       "      <td>the mustards</td>\n",
       "      <td>Fashion &amp; Beauty</td>\n",
       "      <td>a podcast about everything that 'the mustards'...</td>\n",
       "    </tr>\n",
       "    <tr>\n",
       "      <th>11780</th>\n",
       "      <td>NaN</td>\n",
       "      <td>NaN</td>\n",
       "      <td>theTYPEAhippie Podcast | ChiCast</td>\n",
       "      <td>Social Sciences</td>\n",
       "      <td>theTYPEAhippie Podcast | ChiCast is all about ...</td>\n",
       "    </tr>\n",
       "    <tr>\n",
       "      <th>11781</th>\n",
       "      <td>NaN</td>\n",
       "      <td>NaN</td>\n",
       "      <td>theVAP - The Vintage Airstream Podcast</td>\n",
       "      <td>Outdoor</td>\n",
       "      <td>theVAP, discusses travel trailer, RV, and moto...</td>\n",
       "    </tr>\n",
       "    <tr>\n",
       "      <th>11782</th>\n",
       "      <td>NaN</td>\n",
       "      <td>NaN</td>\n",
       "      <td>theVeganRevolution</td>\n",
       "      <td>Philosophy</td>\n",
       "      <td>The Vegan Revolution podcast Unapologetically ...</td>\n",
       "    </tr>\n",
       "    <tr>\n",
       "      <th>11783</th>\n",
       "      <td>NaN</td>\n",
       "      <td>NaN</td>\n",
       "      <td>this WEEK in MEDIA</td>\n",
       "      <td>TV &amp; Film</td>\n",
       "      <td>What is the future of TV, Broadband, and Film?...</td>\n",
       "    </tr>\n",
       "    <tr>\n",
       "      <th>11784</th>\n",
       "      <td>NaN</td>\n",
       "      <td>NaN</td>\n",
       "      <td>tinkerstreet's podcast</td>\n",
       "      <td>Visual Arts</td>\n",
       "      <td>Join Tinker Street * and host Tyson Wheatley a...</td>\n",
       "    </tr>\n",
       "    <tr>\n",
       "      <th>11785</th>\n",
       "      <td>NaN</td>\n",
       "      <td>NaN</td>\n",
       "      <td>toRaise Questions Doula Podcast</td>\n",
       "      <td>Alternative Health</td>\n",
       "      <td>Hosted by The?re?se Hak-Kuhn, toLabor Executiv...</td>\n",
       "    </tr>\n",
       "    <tr>\n",
       "      <th>11786</th>\n",
       "      <td>NaN</td>\n",
       "      <td>NaN</td>\n",
       "      <td>vBrownBag</td>\n",
       "      <td>Training</td>\n",
       "      <td>BrownBags are a series of online webinars held...</td>\n",
       "    </tr>\n",
       "    <tr>\n",
       "      <th>11787</th>\n",
       "      <td>NaN</td>\n",
       "      <td>NaN</td>\n",
       "      <td>videogrunt</td>\n",
       "      <td>Podcasting</td>\n",
       "      <td>Developed and hosted by videographer Craig Syv...</td>\n",
       "    </tr>\n",
       "    <tr>\n",
       "      <th>11788</th>\n",
       "      <td>NaN</td>\n",
       "      <td>NaN</td>\n",
       "      <td>vijay's Podcast</td>\n",
       "      <td>Hinduism</td>\n",
       "      <td>None</td>\n",
       "    </tr>\n",
       "    <tr>\n",
       "      <th>11789</th>\n",
       "      <td>NaN</td>\n",
       "      <td>NaN</td>\n",
       "      <td>voiceofthedba's podcast</td>\n",
       "      <td>Podcasting</td>\n",
       "      <td>None</td>\n",
       "    </tr>\n",
       "    <tr>\n",
       "      <th>11790</th>\n",
       "      <td>NaN</td>\n",
       "      <td>NaN</td>\n",
       "      <td>wellRED podcast</td>\n",
       "      <td>Comedy</td>\n",
       "      <td>Trae Crowder, Drew Morgan and Corey Ryan Forre...</td>\n",
       "    </tr>\n",
       "    <tr>\n",
       "      <th>11791</th>\n",
       "      <td>NaN</td>\n",
       "      <td>NaN</td>\n",
       "      <td>whistlekick Martial Arts Radio - Podcast about...</td>\n",
       "      <td>Amateur</td>\n",
       "      <td>whistlekick Martial Arts Radio is the only bi-...</td>\n",
       "    </tr>\n",
       "    <tr>\n",
       "      <th>11792</th>\n",
       "      <td>NaN</td>\n",
       "      <td>NaN</td>\n",
       "      <td>yayQuery</td>\n",
       "      <td>Software How-To</td>\n",
       "      <td>yayQuery features regulars from the #jquery IR...</td>\n",
       "    </tr>\n",
       "    <tr>\n",
       "      <th>11793</th>\n",
       "      <td>NaN</td>\n",
       "      <td>NaN</td>\n",
       "      <td>yayQuery (audio only)</td>\n",
       "      <td>Software How-To</td>\n",
       "      <td>yayQuery features regulars from the #jquery IR...</td>\n",
       "    </tr>\n",
       "    <tr>\n",
       "      <th>11794</th>\n",
       "      <td>NaN</td>\n",
       "      <td>NaN</td>\n",
       "      <td>yokedpodcast</td>\n",
       "      <td>Alternative Health</td>\n",
       "      <td>Kelly Sunrose has been teaching strange, slow,...</td>\n",
       "    </tr>\n",
       "  </tbody>\n",
       "</table>\n",
       "<p>11795 rows × 5 columns</p>\n",
       "</div>"
      ],
      "text/plain": [
       "           prob                                              topic  \\\n",
       "0      0.671409  Topic 36: middle school - photography podcast ...   \n",
       "1      0.238132  Topic 38: share experience - experience streng...   \n",
       "2      0.234069  Topic 36: middle school - photography podcast ...   \n",
       "3      0.407588  Topic 42: mental health - health care - breast...   \n",
       "4      0.475575  Topic 13: continue reading - week talk - week ...   \n",
       "5      0.421182  Topic 13: continue reading - week talk - week ...   \n",
       "6      0.114583  Topic 30: visit http - celtic music - web site...   \n",
       "7      0.433594  Topic 13: continue reading - week talk - week ...   \n",
       "8      0.246032  Topic 41: notes http - law school - says `` - ...   \n",
       "9      0.241462  Topic 51: men women - sex life - love life - s...   \n",
       "10     0.234069  Topic 51: men women - sex life - love life - s...   \n",
       "11     0.372051  Topic 39: recorded live - new album - twitter ...   \n",
       "12     0.699074  Topic 23: episode learn - make money - episode...   \n",
       "13     0.319788  Topic 43: donald trump - university press - hi...   \n",
       "14     0.295666  Topic 43: donald trump - university press - hi...   \n",
       "15     0.313484  Topic 41: notes http - law school - says `` - ...   \n",
       "16     0.685370  Topic 36: middle school - photography podcast ...   \n",
       "17     0.661283  Topic 36: middle school - photography podcast ...   \n",
       "18     0.166667  Topic 43: donald trump - university press - hi...   \n",
       "19     0.158933  Topic 36: middle school - photography podcast ...   \n",
       "20     0.128322  Topic 9: award winning - today guest - author ...   \n",
       "21     0.189436  Topic 7: ll learn - episode ll - today talk - ...   \n",
       "22     0.219135  Topic 46: episode brought - hope enjoy - episo...   \n",
       "23     0.194593  Topic 7: ll learn - episode ll - today talk - ...   \n",
       "24     0.209845  Topic 14: change life - life coach - personal ...   \n",
       "25     0.142131  Topic 3: rating review - links mentioned - sen...   \n",
       "26     0.211310  Topic 27: apple watch - app store - video http...   \n",
       "27     0.249556  Topic 12: open source - best practices - silic...   \n",
       "28     0.456033  Topic 51: men women - sex life - love life - s...   \n",
       "29     0.224566  Topic 31: star wars - video game - video games...   \n",
       "...         ...                                                ...   \n",
       "11765       NaN                                                NaN   \n",
       "11766       NaN                                                NaN   \n",
       "11767       NaN                                                NaN   \n",
       "11768       NaN                                                NaN   \n",
       "11769       NaN                                                NaN   \n",
       "11770       NaN                                                NaN   \n",
       "11771       NaN                                                NaN   \n",
       "11772       NaN                                                NaN   \n",
       "11773       NaN                                                NaN   \n",
       "11774       NaN                                                NaN   \n",
       "11775       NaN                                                NaN   \n",
       "11776       NaN                                                NaN   \n",
       "11777       NaN                                                NaN   \n",
       "11778       NaN                                                NaN   \n",
       "11779       NaN                                                NaN   \n",
       "11780       NaN                                                NaN   \n",
       "11781       NaN                                                NaN   \n",
       "11782       NaN                                                NaN   \n",
       "11783       NaN                                                NaN   \n",
       "11784       NaN                                                NaN   \n",
       "11785       NaN                                                NaN   \n",
       "11786       NaN                                                NaN   \n",
       "11787       NaN                                                NaN   \n",
       "11788       NaN                                                NaN   \n",
       "11789       NaN                                                NaN   \n",
       "11790       NaN                                                NaN   \n",
       "11791       NaN                                                NaN   \n",
       "11792       NaN                                                NaN   \n",
       "11793       NaN                                                NaN   \n",
       "11794       NaN                                                NaN   \n",
       "\n",
       "                                            podcast_name  \\\n",
       "0      ! Football Ringtones, Text Tones, Mail Alerts ...   \n",
       "1      ! World's Funniest Ringtones for iPhone & iPad...   \n",
       "2                                     ! iPhone Ringtones   \n",
       "3      \" Talk to Tony - Radio Show \" Licensed Psychol...   \n",
       "4          \"A Tale of Two Cities\" Audiobook (Audio book)   \n",
       "5      \"Adventures of Huckleberry Finn\" Audiobook (Au...   \n",
       "6      \"He's Just Not That Into You: Ten Chick Flick ...   \n",
       "7             \"Heart of Darkness\" Audiobook (Audio book)   \n",
       "8      \"How-to\" (I hope) build an online e-commerce s...   \n",
       "9       \"Living in the Quantum Field\" with Asara Lovejoy   \n",
       "10     \"The Cari Murphy Show Straight Talk For The So...   \n",
       "11      \"The Dedan Tolbert Show\" - Celebrating 10 Years!   \n",
       "12           \"The Scarlet Letter\" Audiobook (Audio book)   \n",
       "13                                          \"Too Jewish\"   \n",
       "14                                                #AskJP   \n",
       "15                                            #AskWardee   \n",
       "16                                         #EdChat Radio   \n",
       "17                                    #EdTech Chat Radio   \n",
       "18                                  #GoodMuslimBadMuslim   \n",
       "19                                            #NerdyCast   \n",
       "20           #SmartBrownVoices - Learning from Diversity   \n",
       "21                       #SpiritChat by Jennifer O'Neill   \n",
       "22                                     #WeThePeople LIVE   \n",
       "23                                            #YouMatter   \n",
       "24     #createlounge: Tap Into Your Creativity, Tell ...   \n",
       "25                   #englishbanana Free English Podcast   \n",
       "26                                     #itsawotwednesday   \n",
       "27                                        #maketechhuman   \n",
       "28                     ''A Moment of Yoga - Yoga Podcast   \n",
       "29                                            'ScapeTalk   \n",
       "...                                                  ...   \n",
       "11765                     sherylunderwoodradio's podcast   \n",
       "11766                    shralp! snowboarding video news   \n",
       "11767                specialoperationsmedicine's podcast   \n",
       "11768       strategy+business/Knowledge@Wharton Podcasts   \n",
       "11769                         tales of the texas rangers   \n",
       "11770                       the 12-Step Buddhist Podcast   \n",
       "11771                   the Building Performance Podcast   \n",
       "11772                                    the DharmaRealm   \n",
       "11773                                 the Loving Reality   \n",
       "11774                         the Once Again Zen Podcast   \n",
       "11775                         the Yankee Marshal Podcast   \n",
       "11776                                        the avenger   \n",
       "11777                                   the epic podcast   \n",
       "11778                                  the memory palace   \n",
       "11779                                       the mustards   \n",
       "11780                   theTYPEAhippie Podcast | ChiCast   \n",
       "11781             theVAP - The Vintage Airstream Podcast   \n",
       "11782                                 theVeganRevolution   \n",
       "11783                                 this WEEK in MEDIA   \n",
       "11784                             tinkerstreet's podcast   \n",
       "11785                    toRaise Questions Doula Podcast   \n",
       "11786                                          vBrownBag   \n",
       "11787                                         videogrunt   \n",
       "11788                                    vijay's Podcast   \n",
       "11789                            voiceofthedba's podcast   \n",
       "11790                                    wellRED podcast   \n",
       "11791  whistlekick Martial Arts Radio - Podcast about...   \n",
       "11792                                           yayQuery   \n",
       "11793                              yayQuery (audio only)   \n",
       "11794                                       yokedpodcast   \n",
       "\n",
       "                     subgenre  \\\n",
       "0       College & High School   \n",
       "1                     Gadgets   \n",
       "2                 Video Games   \n",
       "3             Social Sciences   \n",
       "4                  Literature   \n",
       "5                  Literature   \n",
       "6                       Music   \n",
       "7                  Literature   \n",
       "8                    Shopping   \n",
       "9                Spirituality   \n",
       "10               Spirituality   \n",
       "11            Social Sciences   \n",
       "12                 Literature   \n",
       "13                    Judaism   \n",
       "14                      Local   \n",
       "15         Alternative Health   \n",
       "16                       K-12   \n",
       "17                       K-12   \n",
       "18          Personal Journals   \n",
       "19                       K-12   \n",
       "20              Business News   \n",
       "21               Spirituality   \n",
       "22                     Comedy   \n",
       "23           Fashion & Beauty   \n",
       "24                Visual Arts   \n",
       "25                       K-12   \n",
       "26                   Shopping   \n",
       "27                  Tech News   \n",
       "28                  Self-Help   \n",
       "29                Other Games   \n",
       "...                       ...   \n",
       "11765  Educational Technology   \n",
       "11766                 Outdoor   \n",
       "11767                Medicine   \n",
       "11768  Management & Marketing   \n",
       "11769              Literature   \n",
       "11770                Buddhism   \n",
       "11771         Social Sciences   \n",
       "11772                Buddhism   \n",
       "11773                Hinduism   \n",
       "11774                Buddhism   \n",
       "11775       Personal Journals   \n",
       "11776         Performing Arts   \n",
       "11777             Visual Arts   \n",
       "11778                 History   \n",
       "11779        Fashion & Beauty   \n",
       "11780         Social Sciences   \n",
       "11781                 Outdoor   \n",
       "11782              Philosophy   \n",
       "11783               TV & Film   \n",
       "11784             Visual Arts   \n",
       "11785      Alternative Health   \n",
       "11786                Training   \n",
       "11787              Podcasting   \n",
       "11788                Hinduism   \n",
       "11789              Podcasting   \n",
       "11790                  Comedy   \n",
       "11791                 Amateur   \n",
       "11792         Software How-To   \n",
       "11793         Software How-To   \n",
       "11794      Alternative Health   \n",
       "\n",
       "                                               show_desc  \n",
       "0      Get FREE RINGTONES when you subscribe! Footbal...  \n",
       "1      Get FREE RINGTONES when you subscribe to The W...  \n",
       "2      Get FREE RINGTONES when you subscribe! The Wor...  \n",
       "3      Dr. Tony Ferretti offers a psychological persp...  \n",
       "4      \"A Tale of Two Cities\" was first published in ...  \n",
       "5      \"All modern American literature comes from one...  \n",
       "6      He's Just Not That Into You: Ten Chick Flick C...  \n",
       "7      \"Heart of Darkness\" was first published in 190...  \n",
       "8      A weekly audio journal sharing the inspired, a...  \n",
       "9      Are you ready to leap into another dimension o...  \n",
       "10     \"The Cari Murphy Show Straight Talk For The So...  \n",
       "11     Whether it's relationship advice, politics, so...  \n",
       "12     \"The Scarlet Letter\" was first published in 18...  \n",
       "13         \"Too Jewish with Rabbi Sam Cohon and Friends\"  \n",
       "14     Want to know how a policy might affect you? Ne...  \n",
       "15     Wardee is a wife and mom of 3, the lead teache...  \n",
       "16     Once a week Highlights and amplifications from...  \n",
       "17     EdTechChat Radio is a weekly roundtable discus...  \n",
       "18     A monthly podcast featuring Tanzila \"Taz\" Ahme...  \n",
       "19     This is an education podcast featuring some of...  \n",
       "20     When you look through iTunes podcast, you rare...  \n",
       "21     ?Where spiritual guidance and life strategies ...  \n",
       "22     #WeThePeople LIVE is a high-energy, high-brow ...  \n",
       "23     #YouMatter is hosted by Noonday Collection Fou...  \n",
       "24     Every Thursday, we invite creatives from our o...  \n",
       "25     EnglishBanana.com is a fun site for learners o...  \n",
       "26     This Podcast will feature information on gifts...  \n",
       "27     #maketechhuman is a new podcast hosted by The ...  \n",
       "28     Uplifting and Inspiring discourses of the hear...  \n",
       "29     'ScapeTalk is a monthly podcast formatted like...  \n",
       "...                                                  ...  \n",
       "11765  Listen, Laugh, Learn. Get to know Sheryl Under...  \n",
       "11766  shralp! is the world leading snowboarding vide...  \n",
       "11767  This podcast covers medical care targeted to t...  \n",
       "11768  strategy+business Media, a unit of the global ...  \n",
       "11769  Joel McCrea stars as Texas Ranger Jace Pearson...  \n",
       "11770  The 12-Step Buddhist. Recovery, wellness, spir...  \n",
       "11771  The Building Performance Podcast is an intervi...  \n",
       "11772  The DharmaRealm podcast is a series of convers...  \n",
       "11773  A new generation of hari-katha begins here. Th...  \n",
       "11774  ONCE AGAIN - A weekly podcast featuring Zen au...  \n",
       "11775  This channel deals with firearms, self defense...  \n",
       "11776  Jim Brandon who fought crime as the Avenger wa...  \n",
       "11777  www.theepicpodcast.com Professional wedding ph...  \n",
       "11778  From public radio producer, Nate DiMeo, comes ...  \n",
       "11779  a podcast about everything that 'the mustards'...  \n",
       "11780  theTYPEAhippie Podcast | ChiCast is all about ...  \n",
       "11781  theVAP, discusses travel trailer, RV, and moto...  \n",
       "11782  The Vegan Revolution podcast Unapologetically ...  \n",
       "11783  What is the future of TV, Broadband, and Film?...  \n",
       "11784  Join Tinker Street * and host Tyson Wheatley a...  \n",
       "11785  Hosted by The?re?se Hak-Kuhn, toLabor Executiv...  \n",
       "11786  BrownBags are a series of online webinars held...  \n",
       "11787  Developed and hosted by videographer Craig Syv...  \n",
       "11788                                               None  \n",
       "11789                                               None  \n",
       "11790  Trae Crowder, Drew Morgan and Corey Ryan Forre...  \n",
       "11791  whistlekick Martial Arts Radio is the only bi-...  \n",
       "11792  yayQuery features regulars from the #jquery IR...  \n",
       "11793  yayQuery features regulars from the #jquery IR...  \n",
       "11794  Kelly Sunrose has been teaching strange, slow,...  \n",
       "\n",
       "[11795 rows x 5 columns]"
      ]
     },
     "execution_count": 56,
     "metadata": {},
     "output_type": "execute_result"
    }
   ],
   "source": [
    "show_closest_topic"
   ]
  },
  {
   "cell_type": "code",
   "execution_count": 57,
   "metadata": {
    "collapsed": false
   },
   "outputs": [],
   "source": [
    "show_closest_topic.to_csv('C:/Users/JBLAUVELT/Desktop/review_cats.csv')"
   ]
  },
  {
   "cell_type": "markdown",
   "metadata": {},
   "source": [
    "##C. Episode Words"
   ]
  },
  {
   "cell_type": "code",
   "execution_count": 66,
   "metadata": {
    "collapsed": false
   },
   "outputs": [
    {
     "name": "stdout",
     "output_type": "stream",
     "text": [
      "(56L, 58684L)\n"
     ]
    }
   ],
   "source": [
    "# Most Important Words for Each Topic\n",
    "topic_words = model.topic_word_\n",
    "print(topic_words.shape)"
   ]
  },
  {
   "cell_type": "code",
   "execution_count": null,
   "metadata": {
    "collapsed": true
   },
   "outputs": [],
   "source": [
    "topic_words."
   ]
  },
  {
   "cell_type": "code",
   "execution_count": null,
   "metadata": {
    "collapsed": true
   },
   "outputs": [],
   "source": [
    "top_n = 8\n",
    "topic_names_temp = []\n",
    "for ii, dist in enumerate(topic_words):\n",
    "    topic_words = np.array(feature_names)[np.argsort(dist)][:-(top_n+1):-1]\n",
    "    topic_names_temp.append('Topic ' + str(ii) + ': ' + '-'.join(topic_words.flatten()[:4]))\n",
    "    print('Topic {}:  {}'.format(ii, ' '.join(topic_words.flatten())))"
   ]
  },
  {
   "cell_type": "markdown",
   "metadata": {},
   "source": [
    "# V. Evaluation"
   ]
  },
  {
   "cell_type": "code",
   "execution_count": null,
   "metadata": {
    "collapsed": true
   },
   "outputs": [],
   "source": [
    "cat_map = pd.read_csv('../raw/cat_maps/025_cat_map.csv')"
   ]
  }
 ],
 "metadata": {
  "kernelspec": {
   "display_name": "Python 2",
   "language": "python",
   "name": "python2"
  },
  "language_info": {
   "codemirror_mode": {
    "name": "ipython",
    "version": 2
   },
   "file_extension": ".py",
   "mimetype": "text/x-python",
   "name": "python",
   "nbconvert_exporter": "python",
   "pygments_lexer": "ipython2",
   "version": "2.7.10"
  }
 },
 "nbformat": 4,
 "nbformat_minor": 0
}
